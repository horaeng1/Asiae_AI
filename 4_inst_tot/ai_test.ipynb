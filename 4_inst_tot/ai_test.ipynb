{
 "cells": [
  {
   "cell_type": "code",
   "execution_count": 1,
   "metadata": {},
   "outputs": [],
   "source": [
    "import numpy as np\n",
    "import pandas as pd\n",
    "#import matplotlib.pyplot as plt\n",
    "#import matplotlib\n",
    "\n",
    "#matplotlib.rcParams['font.family'] = 'Malgun Gothic'   # '맑은 고딕'으로 설정 \n",
    "#matplotlib.rcParams['axes.unicode_minus'] = False"
   ]
  },
  {
   "cell_type": "code",
   "execution_count": 2,
   "metadata": {},
   "outputs": [],
   "source": [
    "depart = pd.read_csv('E:\\\\Asiae\\\\data\\\\X_train.csv', encoding='cp949')\n"
   ]
  },
  {
   "cell_type": "code",
   "execution_count": 86,
   "metadata": {},
   "outputs": [
    {
     "name": "stdout",
     "output_type": "stream",
     "text": [
      "<class 'pandas.core.frame.DataFrame'>\n",
      "RangeIndex: 1036653 entries, 0 to 1036652\n",
      "Data columns (total 17 columns):\n",
      " #   Column      Non-Null Count    Dtype  \n",
      "---  ------      --------------    -----  \n",
      " 0   custid      1036653 non-null  int64  \n",
      " 1   sales_date  1036653 non-null  object \n",
      " 2   sales_time  1036653 non-null  int64  \n",
      " 3   str_nm      1036653 non-null  object \n",
      " 4   goodcd      1036653 non-null  float64\n",
      " 5   brd_nm      1036653 non-null  object \n",
      " 6   corner_nm   1036653 non-null  object \n",
      " 7   pc_nm       1036653 non-null  object \n",
      " 8   part_nm     1036653 non-null  object \n",
      " 9   team_nm     1036653 non-null  object \n",
      " 10  buyer_nm    1036653 non-null  object \n",
      " 11  import_flg  1036653 non-null  int64  \n",
      " 12  tot_amt     1036653 non-null  int64  \n",
      " 13  dis_amt     1036653 non-null  int64  \n",
      " 14  net_amt     1036653 non-null  int64  \n",
      " 15  inst_mon    1036653 non-null  int64  \n",
      " 16  inst_fee    1036653 non-null  int64  \n",
      "dtypes: float64(1), int64(8), object(8)\n",
      "memory usage: 134.5+ MB\n"
     ]
    }
   ],
   "source": [
    "depart.info()"
   ]
  },
  {
   "cell_type": "code",
   "execution_count": 3,
   "metadata": {},
   "outputs": [],
   "source": [
    "np.random.seed(42)"
   ]
  },
  {
   "cell_type": "code",
   "execution_count": 4,
   "metadata": {},
   "outputs": [],
   "source": [
    "#dc_rate 할인율 만들기\n",
    "dc_rate = round((depart['dis_amt']/depart['tot_amt'])*100)\n",
    "depart['dc_rate'] = dc_rate\n"
   ]
  },
  {
   "cell_type": "markdown",
   "metadata": {},
   "source": [
    "# datetime 사용 시간변수 생성"
   ]
  },
  {
   "cell_type": "code",
   "execution_count": 5,
   "metadata": {},
   "outputs": [],
   "source": [
    "import datetime"
   ]
  },
  {
   "cell_type": "code",
   "execution_count": 6,
   "metadata": {},
   "outputs": [],
   "source": [
    "d = []\n",
    "for i in range(len(depart)):\n",
    "    d.append(datetime.datetime.strptime(depart['sales_date'][i], '%Y-%m-%d %H:%S' ))\n"
   ]
  },
  {
   "cell_type": "markdown",
   "metadata": {},
   "source": [
    "# 월(sales_date_mon)"
   ]
  },
  {
   "cell_type": "code",
   "execution_count": 7,
   "metadata": {},
   "outputs": [],
   "source": [
    "mon = []\n",
    "for i in range(len(depart)):\n",
    "    mon.append(d[i].month)\n",
    "depart['sales_date_mon'] = mon"
   ]
  },
  {
   "cell_type": "markdown",
   "metadata": {},
   "source": [
    "# 일(sales_date_day)"
   ]
  },
  {
   "cell_type": "code",
   "execution_count": 8,
   "metadata": {},
   "outputs": [],
   "source": [
    "day = []\n",
    "for i in range(len(depart)):\n",
    "    day.append(d[i].day)\n",
    "depart['sales_date_day'] = day"
   ]
  },
  {
   "cell_type": "markdown",
   "metadata": {},
   "source": [
    "# 요일(sales_date_wday) 0~6 = 월화수목금토일"
   ]
  },
  {
   "cell_type": "code",
   "execution_count": 9,
   "metadata": {},
   "outputs": [],
   "source": [
    "wday = []\n",
    "for i in range(len(depart)):\n",
    "    wday.append(d[i].weekday())\n",
    "depart['sales_date_wday'] = wday"
   ]
  },
  {
   "cell_type": "markdown",
   "metadata": {},
   "source": [
    "# 할부요인 변수 생성"
   ]
  },
  {
   "cell_type": "code",
   "execution_count": null,
   "metadata": {},
   "outputs": [],
   "source": [
    " #inst_tot / 무이자 할부 = 1/ 유이자 할부 = 2/ 일시불  = 3"
   ]
  },
  {
   "cell_type": "code",
   "execution_count": 10,
   "metadata": {},
   "outputs": [],
   "source": [
    "inst_tot = [3 if(i==1) else 1 if(i > 1 and j==0) else 2 for i,j in zip(depart['inst_mon'], depart['inst_fee'])]\n",
    "depart['inst_tot'] = inst_tot"
   ]
  },
  {
   "cell_type": "code",
   "execution_count": 11,
   "metadata": {},
   "outputs": [
    {
     "data": {
      "text/html": [
       "<div>\n",
       "<style scoped>\n",
       "    .dataframe tbody tr th:only-of-type {\n",
       "        vertical-align: middle;\n",
       "    }\n",
       "\n",
       "    .dataframe tbody tr th {\n",
       "        vertical-align: top;\n",
       "    }\n",
       "\n",
       "    .dataframe thead th {\n",
       "        text-align: right;\n",
       "    }\n",
       "</style>\n",
       "<table border=\"1\" class=\"dataframe\">\n",
       "  <thead>\n",
       "    <tr style=\"text-align: right;\">\n",
       "      <th></th>\n",
       "      <th>custid</th>\n",
       "      <th>sales_date</th>\n",
       "      <th>sales_time</th>\n",
       "      <th>str_nm</th>\n",
       "      <th>goodcd</th>\n",
       "      <th>brd_nm</th>\n",
       "      <th>corner_nm</th>\n",
       "      <th>pc_nm</th>\n",
       "      <th>part_nm</th>\n",
       "      <th>team_nm</th>\n",
       "      <th>...</th>\n",
       "      <th>tot_amt</th>\n",
       "      <th>dis_amt</th>\n",
       "      <th>net_amt</th>\n",
       "      <th>inst_mon</th>\n",
       "      <th>inst_fee</th>\n",
       "      <th>dc_rate</th>\n",
       "      <th>sales_date_mon</th>\n",
       "      <th>sales_date_day</th>\n",
       "      <th>sales_date_wday</th>\n",
       "      <th>inst_tot</th>\n",
       "    </tr>\n",
       "  </thead>\n",
       "  <tbody>\n",
       "    <tr>\n",
       "      <th>1036648</th>\n",
       "      <td>29998</td>\n",
       "      <td>2001-01-21 0:00</td>\n",
       "      <td>1320</td>\n",
       "      <td>무역점</td>\n",
       "      <td>4.241080e+12</td>\n",
       "      <td>바닐라</td>\n",
       "      <td>영캐주얼</td>\n",
       "      <td>트랜디 케쥬얼</td>\n",
       "      <td>여성캐주얼</td>\n",
       "      <td>의류패션팀</td>\n",
       "      <td>...</td>\n",
       "      <td>120000</td>\n",
       "      <td>0</td>\n",
       "      <td>120000</td>\n",
       "      <td>3</td>\n",
       "      <td>0</td>\n",
       "      <td>0.0</td>\n",
       "      <td>1</td>\n",
       "      <td>21</td>\n",
       "      <td>6</td>\n",
       "      <td>1</td>\n",
       "    </tr>\n",
       "    <tr>\n",
       "      <th>1036649</th>\n",
       "      <td>29998</td>\n",
       "      <td>2001-04-07 0:00</td>\n",
       "      <td>1633</td>\n",
       "      <td>무역점</td>\n",
       "      <td>2.139140e+12</td>\n",
       "      <td>랑콤</td>\n",
       "      <td>수입종합화장품</td>\n",
       "      <td>화장품</td>\n",
       "      <td>명품잡화</td>\n",
       "      <td>잡화가용팀</td>\n",
       "      <td>...</td>\n",
       "      <td>38000</td>\n",
       "      <td>1900</td>\n",
       "      <td>36100</td>\n",
       "      <td>1</td>\n",
       "      <td>0</td>\n",
       "      <td>5.0</td>\n",
       "      <td>4</td>\n",
       "      <td>7</td>\n",
       "      <td>5</td>\n",
       "      <td>3</td>\n",
       "    </tr>\n",
       "    <tr>\n",
       "      <th>1036650</th>\n",
       "      <td>29999</td>\n",
       "      <td>2001-03-21 0:00</td>\n",
       "      <td>1803</td>\n",
       "      <td>천호점</td>\n",
       "      <td>4.109290e+12</td>\n",
       "      <td>루이까또즈</td>\n",
       "      <td>핸드백</td>\n",
       "      <td>핸드백</td>\n",
       "      <td>잡화</td>\n",
       "      <td>잡화가용팀</td>\n",
       "      <td>...</td>\n",
       "      <td>46000</td>\n",
       "      <td>2300</td>\n",
       "      <td>43700</td>\n",
       "      <td>1</td>\n",
       "      <td>0</td>\n",
       "      <td>5.0</td>\n",
       "      <td>3</td>\n",
       "      <td>21</td>\n",
       "      <td>2</td>\n",
       "      <td>3</td>\n",
       "    </tr>\n",
       "    <tr>\n",
       "      <th>1036651</th>\n",
       "      <td>29999</td>\n",
       "      <td>2001-03-29 0:00</td>\n",
       "      <td>1823</td>\n",
       "      <td>천호점</td>\n",
       "      <td>4.139350e+12</td>\n",
       "      <td>소피에르핀</td>\n",
       "      <td>넥타이</td>\n",
       "      <td>셔츠</td>\n",
       "      <td>남성의류</td>\n",
       "      <td>의류패션팀</td>\n",
       "      <td>...</td>\n",
       "      <td>49000</td>\n",
       "      <td>2450</td>\n",
       "      <td>46550</td>\n",
       "      <td>1</td>\n",
       "      <td>0</td>\n",
       "      <td>5.0</td>\n",
       "      <td>3</td>\n",
       "      <td>29</td>\n",
       "      <td>3</td>\n",
       "      <td>3</td>\n",
       "    </tr>\n",
       "    <tr>\n",
       "      <th>1036652</th>\n",
       "      <td>29999</td>\n",
       "      <td>2001-04-21 0:00</td>\n",
       "      <td>1313</td>\n",
       "      <td>천호점</td>\n",
       "      <td>4.104840e+12</td>\n",
       "      <td>샤넬</td>\n",
       "      <td>수입종합화장품</td>\n",
       "      <td>화장품</td>\n",
       "      <td>잡화</td>\n",
       "      <td>잡화가용팀</td>\n",
       "      <td>...</td>\n",
       "      <td>52000</td>\n",
       "      <td>2600</td>\n",
       "      <td>49400</td>\n",
       "      <td>1</td>\n",
       "      <td>0</td>\n",
       "      <td>5.0</td>\n",
       "      <td>4</td>\n",
       "      <td>21</td>\n",
       "      <td>5</td>\n",
       "      <td>3</td>\n",
       "    </tr>\n",
       "  </tbody>\n",
       "</table>\n",
       "<p>5 rows × 22 columns</p>\n",
       "</div>"
      ],
      "text/plain": [
       "         custid       sales_date  sales_time str_nm        goodcd brd_nm  \\\n",
       "1036648   29998  2001-01-21 0:00        1320    무역점  4.241080e+12    바닐라   \n",
       "1036649   29998  2001-04-07 0:00        1633    무역점  2.139140e+12     랑콤   \n",
       "1036650   29999  2001-03-21 0:00        1803    천호점  4.109290e+12  루이까또즈   \n",
       "1036651   29999  2001-03-29 0:00        1823    천호점  4.139350e+12  소피에르핀   \n",
       "1036652   29999  2001-04-21 0:00        1313    천호점  4.104840e+12     샤넬   \n",
       "\n",
       "        corner_nm    pc_nm part_nm team_nm  ... tot_amt  dis_amt  net_amt  \\\n",
       "1036648      영캐주얼  트랜디 케쥬얼   여성캐주얼   의류패션팀  ...  120000        0   120000   \n",
       "1036649   수입종합화장품      화장품    명품잡화   잡화가용팀  ...   38000     1900    36100   \n",
       "1036650       핸드백      핸드백      잡화   잡화가용팀  ...   46000     2300    43700   \n",
       "1036651       넥타이       셔츠    남성의류   의류패션팀  ...   49000     2450    46550   \n",
       "1036652   수입종합화장품      화장품      잡화   잡화가용팀  ...   52000     2600    49400   \n",
       "\n",
       "         inst_mon  inst_fee  dc_rate  sales_date_mon  sales_date_day  \\\n",
       "1036648         3         0      0.0               1              21   \n",
       "1036649         1         0      5.0               4               7   \n",
       "1036650         1         0      5.0               3              21   \n",
       "1036651         1         0      5.0               3              29   \n",
       "1036652         1         0      5.0               4              21   \n",
       "\n",
       "         sales_date_wday  inst_tot  \n",
       "1036648                6         1  \n",
       "1036649                5         3  \n",
       "1036650                2         3  \n",
       "1036651                3         3  \n",
       "1036652                5         3  \n",
       "\n",
       "[5 rows x 22 columns]"
      ]
     },
     "execution_count": 11,
     "metadata": {},
     "output_type": "execute_result"
    }
   ],
   "source": [
    "depart.tail()"
   ]
  },
  {
   "cell_type": "code",
   "execution_count": 14,
   "metadata": {},
   "outputs": [
    {
     "data": {
      "text/plain": [
       "0.0     549242\n",
       "5.0     401904\n",
       "10.0     74728\n",
       "3.0       3873\n",
       "2.0       2240\n",
       "4.0       2183\n",
       "1.0       1879\n",
       "8.0        176\n",
       "7.0        156\n",
       "6.0        143\n",
       "9.0        121\n",
       "20.0         5\n",
       "65.0         2\n",
       "40.0         1\n",
       "Name: dc_rate, dtype: int64"
      ]
     },
     "execution_count": 14,
     "metadata": {},
     "output_type": "execute_result"
    }
   ],
   "source": [
    "depart['dc_rate'].value_counts()"
   ]
  },
  {
   "cell_type": "markdown",
   "metadata": {},
   "source": [
    "# 시간대(sales_time_half)"
   ]
  },
  {
   "cell_type": "code",
   "execution_count": null,
   "metadata": {},
   "outputs": [],
   "source": [
    "inst_tot = [3 if(i==1) else 1 if(i > 1 and j==0) else 2 for i,j in zip(depart['inst_mon'], depart['inst_fee'])]\n",
    "depart['inst_tot'] = inst_tot"
   ]
  },
  {
   "cell_type": "code",
   "execution_count": 15,
   "metadata": {},
   "outputs": [],
   "source": [
    "sales_time_half = [((i//100)*10)+((i%100)//30) for i in depart['sales_time']]"
   ]
  },
  {
   "cell_type": "code",
   "execution_count": 16,
   "metadata": {},
   "outputs": [],
   "source": [
    "depart['sales_time_half'] = sales_time_half"
   ]
  },
  {
   "cell_type": "code",
   "execution_count": 17,
   "metadata": {},
   "outputs": [
    {
     "data": {
      "text/plain": [
       "160    68532\n",
       "161    68526\n",
       "170    68030\n",
       "151    67993\n",
       "181    66508\n",
       "150    65713\n",
       "171    65392\n",
       "180    65115\n",
       "190    62373\n",
       "141    61314\n",
       "140    56675\n",
       "131    53243\n",
       "130    51099\n",
       "121    48937\n",
       "120    44757\n",
       "111    40332\n",
       "110    32351\n",
       "191    25150\n",
       "101    16264\n",
       "200     6551\n",
       "100      809\n",
       "201      469\n",
       "91       275\n",
       "90        95\n",
       "210       82\n",
       "211       53\n",
       "220        6\n",
       "10         3\n",
       "1          2\n",
       "231        2\n",
       "81         1\n",
       "0          1\n",
       "Name: sales_time_half, dtype: int64"
      ]
     },
     "execution_count": 17,
     "metadata": {},
     "output_type": "execute_result"
    }
   ],
   "source": [
    "depart['sales_time_half'].value_counts()"
   ]
  },
  {
   "cell_type": "markdown",
   "metadata": {},
   "source": [
    "# Refund 내역 제거"
   ]
  },
  {
   "cell_type": "code",
   "execution_count": 57,
   "metadata": {},
   "outputs": [
    {
     "data": {
      "text/plain": [
       "69199"
      ]
     },
     "execution_count": 57,
     "metadata": {},
     "output_type": "execute_result"
    }
   ],
   "source": [
    "# net_amt에 -가 있는 값만 추출\n",
    "is_return = depart['net_amt'] <0\n",
    "df_refund = depart[is_return]\n",
    "len(df_refund)"
   ]
  },
  {
   "cell_type": "code",
   "execution_count": 58,
   "metadata": {},
   "outputs": [
    {
     "data": {
      "text/plain": [
       "967454"
      ]
     },
     "execution_count": 58,
     "metadata": {},
     "output_type": "execute_result"
    }
   ],
   "source": [
    "# net_amt에 0 이상인 값만 추출\n",
    "is_return = depart['net_amt'] >= 0\n",
    "df = depart[is_return]\n",
    "len(df)"
   ]
  },
  {
   "cell_type": "code",
   "execution_count": 59,
   "metadata": {},
   "outputs": [],
   "source": [
    "df_tmp = depart"
   ]
  },
  {
   "cell_type": "code",
   "execution_count": 60,
   "metadata": {},
   "outputs": [
    {
     "data": {
      "text/plain": [
       "977923"
      ]
     },
     "execution_count": 60,
     "metadata": {},
     "output_type": "execute_result"
    }
   ],
   "source": [
    "\n",
    "df_tmp['tot_amt'] = -df_tmp['tot_amt']\n",
    "df_tmp = df_tmp.drop_duplicates(['custid', 'str_nm', 'goodcd', 'brd_nm', 'corner_nm', 'buyer_nm', 'tot_amt'], keep=False)\n",
    "len(df_tmp)"
   ]
  },
  {
   "cell_type": "code",
   "execution_count": 61,
   "metadata": {},
   "outputs": [
    {
     "data": {
      "text/html": [
       "<div>\n",
       "<style scoped>\n",
       "    .dataframe tbody tr th:only-of-type {\n",
       "        vertical-align: middle;\n",
       "    }\n",
       "\n",
       "    .dataframe tbody tr th {\n",
       "        vertical-align: top;\n",
       "    }\n",
       "\n",
       "    .dataframe thead th {\n",
       "        text-align: right;\n",
       "    }\n",
       "</style>\n",
       "<table border=\"1\" class=\"dataframe\">\n",
       "  <thead>\n",
       "    <tr style=\"text-align: right;\">\n",
       "      <th></th>\n",
       "      <th>custid</th>\n",
       "      <th>sales_date</th>\n",
       "      <th>sales_time</th>\n",
       "      <th>str_nm</th>\n",
       "      <th>goodcd</th>\n",
       "      <th>brd_nm</th>\n",
       "      <th>corner_nm</th>\n",
       "      <th>pc_nm</th>\n",
       "      <th>part_nm</th>\n",
       "      <th>team_nm</th>\n",
       "      <th>...</th>\n",
       "      <th>dis_amt</th>\n",
       "      <th>net_amt</th>\n",
       "      <th>inst_mon</th>\n",
       "      <th>inst_fee</th>\n",
       "      <th>dc_rate</th>\n",
       "      <th>sales_date_mon</th>\n",
       "      <th>sales_date_day</th>\n",
       "      <th>sales_date_wday</th>\n",
       "      <th>inst_tot</th>\n",
       "      <th>color</th>\n",
       "    </tr>\n",
       "  </thead>\n",
       "  <tbody>\n",
       "    <tr>\n",
       "      <th>0</th>\n",
       "      <td>0</td>\n",
       "      <td>2000-06-25 0:00</td>\n",
       "      <td>1212</td>\n",
       "      <td>무역점</td>\n",
       "      <td>2.116050e+12</td>\n",
       "      <td>에스티로더</td>\n",
       "      <td>수입종합화장품</td>\n",
       "      <td>화장품</td>\n",
       "      <td>명품잡화</td>\n",
       "      <td>잡화가용팀</td>\n",
       "      <td>...</td>\n",
       "      <td>9000</td>\n",
       "      <td>81000</td>\n",
       "      <td>3</td>\n",
       "      <td>0</td>\n",
       "      <td>10.0</td>\n",
       "      <td>6</td>\n",
       "      <td>25</td>\n",
       "      <td>6</td>\n",
       "      <td>1</td>\n",
       "      <td>r</td>\n",
       "    </tr>\n",
       "    <tr>\n",
       "      <th>1</th>\n",
       "      <td>0</td>\n",
       "      <td>2000-06-25 0:00</td>\n",
       "      <td>1242</td>\n",
       "      <td>무역점</td>\n",
       "      <td>4.125440e+12</td>\n",
       "      <td>시슬리</td>\n",
       "      <td>수입종합화장품</td>\n",
       "      <td>화장품</td>\n",
       "      <td>명품잡화</td>\n",
       "      <td>잡화가용팀</td>\n",
       "      <td>...</td>\n",
       "      <td>3900</td>\n",
       "      <td>35100</td>\n",
       "      <td>1</td>\n",
       "      <td>0</td>\n",
       "      <td>10.0</td>\n",
       "      <td>6</td>\n",
       "      <td>25</td>\n",
       "      <td>6</td>\n",
       "      <td>3</td>\n",
       "      <td>b</td>\n",
       "    </tr>\n",
       "    <tr>\n",
       "      <th>2</th>\n",
       "      <td>0</td>\n",
       "      <td>2000-08-26 0:00</td>\n",
       "      <td>1810</td>\n",
       "      <td>본점</td>\n",
       "      <td>2.116050e+12</td>\n",
       "      <td>크리니크</td>\n",
       "      <td>수입종합화장품</td>\n",
       "      <td>화장품</td>\n",
       "      <td>잡화파트</td>\n",
       "      <td>잡화가용팀</td>\n",
       "      <td>...</td>\n",
       "      <td>17500</td>\n",
       "      <td>157500</td>\n",
       "      <td>3</td>\n",
       "      <td>0</td>\n",
       "      <td>10.0</td>\n",
       "      <td>8</td>\n",
       "      <td>26</td>\n",
       "      <td>5</td>\n",
       "      <td>1</td>\n",
       "      <td>r</td>\n",
       "    </tr>\n",
       "    <tr>\n",
       "      <th>3</th>\n",
       "      <td>0</td>\n",
       "      <td>2000-08-26 0:00</td>\n",
       "      <td>1830</td>\n",
       "      <td>본점</td>\n",
       "      <td>4.106430e+12</td>\n",
       "      <td>듀퐁</td>\n",
       "      <td>수입의류</td>\n",
       "      <td>명품토탈</td>\n",
       "      <td>잡화파트</td>\n",
       "      <td>잡화가용팀</td>\n",
       "      <td>...</td>\n",
       "      <td>45500</td>\n",
       "      <td>409500</td>\n",
       "      <td>3</td>\n",
       "      <td>0</td>\n",
       "      <td>10.0</td>\n",
       "      <td>8</td>\n",
       "      <td>26</td>\n",
       "      <td>5</td>\n",
       "      <td>1</td>\n",
       "      <td>r</td>\n",
       "    </tr>\n",
       "    <tr>\n",
       "      <th>4</th>\n",
       "      <td>0</td>\n",
       "      <td>2000-09-03 0:00</td>\n",
       "      <td>1802</td>\n",
       "      <td>무역점</td>\n",
       "      <td>2.139140e+12</td>\n",
       "      <td>랑콤</td>\n",
       "      <td>수입종합화장품</td>\n",
       "      <td>화장품</td>\n",
       "      <td>명품잡화</td>\n",
       "      <td>잡화가용팀</td>\n",
       "      <td>...</td>\n",
       "      <td>10000</td>\n",
       "      <td>90000</td>\n",
       "      <td>3</td>\n",
       "      <td>0</td>\n",
       "      <td>10.0</td>\n",
       "      <td>9</td>\n",
       "      <td>3</td>\n",
       "      <td>6</td>\n",
       "      <td>1</td>\n",
       "      <td>r</td>\n",
       "    </tr>\n",
       "    <tr>\n",
       "      <th>...</th>\n",
       "      <td>...</td>\n",
       "      <td>...</td>\n",
       "      <td>...</td>\n",
       "      <td>...</td>\n",
       "      <td>...</td>\n",
       "      <td>...</td>\n",
       "      <td>...</td>\n",
       "      <td>...</td>\n",
       "      <td>...</td>\n",
       "      <td>...</td>\n",
       "      <td>...</td>\n",
       "      <td>...</td>\n",
       "      <td>...</td>\n",
       "      <td>...</td>\n",
       "      <td>...</td>\n",
       "      <td>...</td>\n",
       "      <td>...</td>\n",
       "      <td>...</td>\n",
       "      <td>...</td>\n",
       "      <td>...</td>\n",
       "      <td>...</td>\n",
       "    </tr>\n",
       "    <tr>\n",
       "      <th>1036648</th>\n",
       "      <td>29998</td>\n",
       "      <td>2001-01-21 0:00</td>\n",
       "      <td>1320</td>\n",
       "      <td>무역점</td>\n",
       "      <td>4.241080e+12</td>\n",
       "      <td>바닐라</td>\n",
       "      <td>영캐주얼</td>\n",
       "      <td>트랜디 케쥬얼</td>\n",
       "      <td>여성캐주얼</td>\n",
       "      <td>의류패션팀</td>\n",
       "      <td>...</td>\n",
       "      <td>0</td>\n",
       "      <td>120000</td>\n",
       "      <td>3</td>\n",
       "      <td>0</td>\n",
       "      <td>0.0</td>\n",
       "      <td>1</td>\n",
       "      <td>21</td>\n",
       "      <td>6</td>\n",
       "      <td>1</td>\n",
       "      <td>r</td>\n",
       "    </tr>\n",
       "    <tr>\n",
       "      <th>1036649</th>\n",
       "      <td>29998</td>\n",
       "      <td>2001-04-07 0:00</td>\n",
       "      <td>1633</td>\n",
       "      <td>무역점</td>\n",
       "      <td>2.139140e+12</td>\n",
       "      <td>랑콤</td>\n",
       "      <td>수입종합화장품</td>\n",
       "      <td>화장품</td>\n",
       "      <td>명품잡화</td>\n",
       "      <td>잡화가용팀</td>\n",
       "      <td>...</td>\n",
       "      <td>1900</td>\n",
       "      <td>36100</td>\n",
       "      <td>1</td>\n",
       "      <td>0</td>\n",
       "      <td>5.0</td>\n",
       "      <td>4</td>\n",
       "      <td>7</td>\n",
       "      <td>5</td>\n",
       "      <td>3</td>\n",
       "      <td>b</td>\n",
       "    </tr>\n",
       "    <tr>\n",
       "      <th>1036650</th>\n",
       "      <td>29999</td>\n",
       "      <td>2001-03-21 0:00</td>\n",
       "      <td>1803</td>\n",
       "      <td>천호점</td>\n",
       "      <td>4.109290e+12</td>\n",
       "      <td>루이까또즈</td>\n",
       "      <td>핸드백</td>\n",
       "      <td>핸드백</td>\n",
       "      <td>잡화</td>\n",
       "      <td>잡화가용팀</td>\n",
       "      <td>...</td>\n",
       "      <td>2300</td>\n",
       "      <td>43700</td>\n",
       "      <td>1</td>\n",
       "      <td>0</td>\n",
       "      <td>5.0</td>\n",
       "      <td>3</td>\n",
       "      <td>21</td>\n",
       "      <td>2</td>\n",
       "      <td>3</td>\n",
       "      <td>b</td>\n",
       "    </tr>\n",
       "    <tr>\n",
       "      <th>1036651</th>\n",
       "      <td>29999</td>\n",
       "      <td>2001-03-29 0:00</td>\n",
       "      <td>1823</td>\n",
       "      <td>천호점</td>\n",
       "      <td>4.139350e+12</td>\n",
       "      <td>소피에르핀</td>\n",
       "      <td>넥타이</td>\n",
       "      <td>셔츠</td>\n",
       "      <td>남성의류</td>\n",
       "      <td>의류패션팀</td>\n",
       "      <td>...</td>\n",
       "      <td>2450</td>\n",
       "      <td>46550</td>\n",
       "      <td>1</td>\n",
       "      <td>0</td>\n",
       "      <td>5.0</td>\n",
       "      <td>3</td>\n",
       "      <td>29</td>\n",
       "      <td>3</td>\n",
       "      <td>3</td>\n",
       "      <td>b</td>\n",
       "    </tr>\n",
       "    <tr>\n",
       "      <th>1036652</th>\n",
       "      <td>29999</td>\n",
       "      <td>2001-04-21 0:00</td>\n",
       "      <td>1313</td>\n",
       "      <td>천호점</td>\n",
       "      <td>4.104840e+12</td>\n",
       "      <td>샤넬</td>\n",
       "      <td>수입종합화장품</td>\n",
       "      <td>화장품</td>\n",
       "      <td>잡화</td>\n",
       "      <td>잡화가용팀</td>\n",
       "      <td>...</td>\n",
       "      <td>2600</td>\n",
       "      <td>49400</td>\n",
       "      <td>1</td>\n",
       "      <td>0</td>\n",
       "      <td>5.0</td>\n",
       "      <td>4</td>\n",
       "      <td>21</td>\n",
       "      <td>5</td>\n",
       "      <td>3</td>\n",
       "      <td>b</td>\n",
       "    </tr>\n",
       "  </tbody>\n",
       "</table>\n",
       "<p>911332 rows × 23 columns</p>\n",
       "</div>"
      ],
      "text/plain": [
       "         custid       sales_date  sales_time str_nm        goodcd brd_nm  \\\n",
       "0             0  2000-06-25 0:00        1212    무역점  2.116050e+12  에스티로더   \n",
       "1             0  2000-06-25 0:00        1242    무역점  4.125440e+12    시슬리   \n",
       "2             0  2000-08-26 0:00        1810     본점  2.116050e+12   크리니크   \n",
       "3             0  2000-08-26 0:00        1830     본점  4.106430e+12     듀퐁   \n",
       "4             0  2000-09-03 0:00        1802    무역점  2.139140e+12     랑콤   \n",
       "...         ...              ...         ...    ...           ...    ...   \n",
       "1036648   29998  2001-01-21 0:00        1320    무역점  4.241080e+12    바닐라   \n",
       "1036649   29998  2001-04-07 0:00        1633    무역점  2.139140e+12     랑콤   \n",
       "1036650   29999  2001-03-21 0:00        1803    천호점  4.109290e+12  루이까또즈   \n",
       "1036651   29999  2001-03-29 0:00        1823    천호점  4.139350e+12  소피에르핀   \n",
       "1036652   29999  2001-04-21 0:00        1313    천호점  4.104840e+12     샤넬   \n",
       "\n",
       "        corner_nm    pc_nm part_nm team_nm  ... dis_amt  net_amt  inst_mon  \\\n",
       "0         수입종합화장품      화장품    명품잡화   잡화가용팀  ...    9000    81000         3   \n",
       "1         수입종합화장품      화장품    명품잡화   잡화가용팀  ...    3900    35100         1   \n",
       "2         수입종합화장품      화장품    잡화파트   잡화가용팀  ...   17500   157500         3   \n",
       "3            수입의류     명품토탈    잡화파트   잡화가용팀  ...   45500   409500         3   \n",
       "4         수입종합화장품      화장품    명품잡화   잡화가용팀  ...   10000    90000         3   \n",
       "...           ...      ...     ...     ...  ...     ...      ...       ...   \n",
       "1036648      영캐주얼  트랜디 케쥬얼   여성캐주얼   의류패션팀  ...       0   120000         3   \n",
       "1036649   수입종합화장품      화장품    명품잡화   잡화가용팀  ...    1900    36100         1   \n",
       "1036650       핸드백      핸드백      잡화   잡화가용팀  ...    2300    43700         1   \n",
       "1036651       넥타이       셔츠    남성의류   의류패션팀  ...    2450    46550         1   \n",
       "1036652   수입종합화장품      화장품      잡화   잡화가용팀  ...    2600    49400         1   \n",
       "\n",
       "         inst_fee  dc_rate  sales_date_mon  sales_date_day  sales_date_wday  \\\n",
       "0               0     10.0               6              25                6   \n",
       "1               0     10.0               6              25                6   \n",
       "2               0     10.0               8              26                5   \n",
       "3               0     10.0               8              26                5   \n",
       "4               0     10.0               9               3                6   \n",
       "...           ...      ...             ...             ...              ...   \n",
       "1036648         0      0.0               1              21                6   \n",
       "1036649         0      5.0               4               7                5   \n",
       "1036650         0      5.0               3              21                2   \n",
       "1036651         0      5.0               3              29                3   \n",
       "1036652         0      5.0               4              21                5   \n",
       "\n",
       "         inst_tot  color  \n",
       "0               1      r  \n",
       "1               3      b  \n",
       "2               1      r  \n",
       "3               1      r  \n",
       "4               1      r  \n",
       "...           ...    ...  \n",
       "1036648         1      r  \n",
       "1036649         3      b  \n",
       "1036650         3      b  \n",
       "1036651         3      b  \n",
       "1036652         3      b  \n",
       "\n",
       "[911332 rows x 23 columns]"
      ]
     },
     "execution_count": 61,
     "metadata": {},
     "output_type": "execute_result"
    }
   ],
   "source": [
    "is_return = df_tmp['net_amt'] <0\n",
    "df_tmp2 = df_tmp[~is_return]\n",
    "df_tmp2"
   ]
  },
  {
   "cell_type": "code",
   "execution_count": 62,
   "metadata": {},
   "outputs": [
    {
     "name": "stderr",
     "output_type": "stream",
     "text": [
      "<ipython-input-62-8f6ab0f52d11>:1: SettingWithCopyWarning: \n",
      "A value is trying to be set on a copy of a slice from a DataFrame.\n",
      "Try using .loc[row_indexer,col_indexer] = value instead\n",
      "\n",
      "See the caveats in the documentation: https://pandas.pydata.org/pandas-docs/stable/user_guide/indexing.html#returning-a-view-versus-a-copy\n",
      "  df_tmp2['tot_amt'] = -df_tmp2['tot_amt']\n"
     ]
    }
   ],
   "source": [
    "df_tmp2['tot_amt'] = -df_tmp2['tot_amt']"
   ]
  },
  {
   "cell_type": "code",
   "execution_count": 63,
   "metadata": {},
   "outputs": [
    {
     "data": {
      "text/plain": [
       "0           90000\n",
       "1           39000\n",
       "2          175000\n",
       "3          455000\n",
       "4          100000\n",
       "            ...  \n",
       "1036648    120000\n",
       "1036649     38000\n",
       "1036650     46000\n",
       "1036651     49000\n",
       "1036652     52000\n",
       "Name: tot_amt, Length: 911332, dtype: int64"
      ]
     },
     "execution_count": 63,
     "metadata": {},
     "output_type": "execute_result"
    }
   ],
   "source": [
    "df_tmp2['tot_amt']"
   ]
  },
  {
   "cell_type": "markdown",
   "metadata": {},
   "source": [
    "---\n",
    "---\n",
    "---"
   ]
  },
  {
   "cell_type": "code",
   "execution_count": 27,
   "metadata": {},
   "outputs": [],
   "source": [
    "from sklearn.model_selection import train_test_split\n",
    "\n",
    "train_set, test_set = train_test_split(depart, test_size=0.2, random_state=42)"
   ]
  },
  {
   "cell_type": "code",
   "execution_count": 28,
   "metadata": {
    "scrolled": true
   },
   "outputs": [
    {
     "data": {
      "text/html": [
       "<div>\n",
       "<style scoped>\n",
       "    .dataframe tbody tr th:only-of-type {\n",
       "        vertical-align: middle;\n",
       "    }\n",
       "\n",
       "    .dataframe tbody tr th {\n",
       "        vertical-align: top;\n",
       "    }\n",
       "\n",
       "    .dataframe thead th {\n",
       "        text-align: right;\n",
       "    }\n",
       "</style>\n",
       "<table border=\"1\" class=\"dataframe\">\n",
       "  <thead>\n",
       "    <tr style=\"text-align: right;\">\n",
       "      <th></th>\n",
       "      <th>custid</th>\n",
       "      <th>sales_date</th>\n",
       "      <th>sales_time</th>\n",
       "      <th>str_nm</th>\n",
       "      <th>goodcd</th>\n",
       "      <th>brd_nm</th>\n",
       "      <th>corner_nm</th>\n",
       "      <th>pc_nm</th>\n",
       "      <th>part_nm</th>\n",
       "      <th>team_nm</th>\n",
       "      <th>buyer_nm</th>\n",
       "      <th>import_flg</th>\n",
       "      <th>tot_amt</th>\n",
       "      <th>dis_amt</th>\n",
       "      <th>net_amt</th>\n",
       "      <th>inst_mon</th>\n",
       "      <th>inst_fee</th>\n",
       "      <th>dc_rate</th>\n",
       "    </tr>\n",
       "  </thead>\n",
       "  <tbody>\n",
       "    <tr>\n",
       "      <th>904814</th>\n",
       "      <td>26076</td>\n",
       "      <td>2000-10-15 0:00</td>\n",
       "      <td>1730</td>\n",
       "      <td>신촌점</td>\n",
       "      <td>4.417750e+12</td>\n",
       "      <td>베이비헤로스</td>\n",
       "      <td>미확인코너</td>\n",
       "      <td>아동</td>\n",
       "      <td>아동문화</td>\n",
       "      <td>잡화가용팀</td>\n",
       "      <td>유아동복</td>\n",
       "      <td>0</td>\n",
       "      <td>79200</td>\n",
       "      <td>0</td>\n",
       "      <td>79200</td>\n",
       "      <td>3</td>\n",
       "      <td>0</td>\n",
       "      <td>0.0</td>\n",
       "    </tr>\n",
       "    <tr>\n",
       "      <th>812664</th>\n",
       "      <td>23456</td>\n",
       "      <td>2000-08-19 0:00</td>\n",
       "      <td>1730</td>\n",
       "      <td>신촌점</td>\n",
       "      <td>4.507920e+12</td>\n",
       "      <td>팩.게임CD</td>\n",
       "      <td>완구</td>\n",
       "      <td>문화</td>\n",
       "      <td>아동문화</td>\n",
       "      <td>잡화가용팀</td>\n",
       "      <td>문화완구</td>\n",
       "      <td>0</td>\n",
       "      <td>59000</td>\n",
       "      <td>0</td>\n",
       "      <td>59000</td>\n",
       "      <td>3</td>\n",
       "      <td>0</td>\n",
       "      <td>0.0</td>\n",
       "    </tr>\n",
       "    <tr>\n",
       "      <th>59385</th>\n",
       "      <td>1721</td>\n",
       "      <td>2001-01-21 0:00</td>\n",
       "      <td>1930</td>\n",
       "      <td>본점</td>\n",
       "      <td>4.104840e+12</td>\n",
       "      <td>샤넬</td>\n",
       "      <td>수입종합화장품</td>\n",
       "      <td>화장품</td>\n",
       "      <td>잡화파트</td>\n",
       "      <td>잡화가용팀</td>\n",
       "      <td>화장품</td>\n",
       "      <td>1</td>\n",
       "      <td>54000</td>\n",
       "      <td>2700</td>\n",
       "      <td>51300</td>\n",
       "      <td>1</td>\n",
       "      <td>0</td>\n",
       "      <td>5.0</td>\n",
       "    </tr>\n",
       "    <tr>\n",
       "      <th>536933</th>\n",
       "      <td>15384</td>\n",
       "      <td>2000-11-19 0:00</td>\n",
       "      <td>1723</td>\n",
       "      <td>신촌점</td>\n",
       "      <td>2.139140e+12</td>\n",
       "      <td>랑콤</td>\n",
       "      <td>색조화장품</td>\n",
       "      <td>화장품</td>\n",
       "      <td>패션잡화</td>\n",
       "      <td>잡화가용팀</td>\n",
       "      <td>화장품</td>\n",
       "      <td>0</td>\n",
       "      <td>76000</td>\n",
       "      <td>3800</td>\n",
       "      <td>72200</td>\n",
       "      <td>1</td>\n",
       "      <td>0</td>\n",
       "      <td>5.0</td>\n",
       "    </tr>\n",
       "    <tr>\n",
       "      <th>11582</th>\n",
       "      <td>335</td>\n",
       "      <td>2000-06-14 0:00</td>\n",
       "      <td>1253</td>\n",
       "      <td>천호점</td>\n",
       "      <td>4.120440e+12</td>\n",
       "      <td>베네통토탈</td>\n",
       "      <td>토탈</td>\n",
       "      <td>핸드백</td>\n",
       "      <td>잡화</td>\n",
       "      <td>잡화가용팀</td>\n",
       "      <td>피혁B</td>\n",
       "      <td>0</td>\n",
       "      <td>5300</td>\n",
       "      <td>270</td>\n",
       "      <td>5030</td>\n",
       "      <td>1</td>\n",
       "      <td>0</td>\n",
       "      <td>5.0</td>\n",
       "    </tr>\n",
       "  </tbody>\n",
       "</table>\n",
       "</div>"
      ],
      "text/plain": [
       "        custid       sales_date  sales_time str_nm        goodcd  brd_nm  \\\n",
       "904814   26076  2000-10-15 0:00        1730    신촌점  4.417750e+12  베이비헤로스   \n",
       "812664   23456  2000-08-19 0:00        1730    신촌점  4.507920e+12  팩.게임CD   \n",
       "59385     1721  2001-01-21 0:00        1930     본점  4.104840e+12      샤넬   \n",
       "536933   15384  2000-11-19 0:00        1723    신촌점  2.139140e+12      랑콤   \n",
       "11582      335  2000-06-14 0:00        1253    천호점  4.120440e+12   베네통토탈   \n",
       "\n",
       "       corner_nm pc_nm part_nm team_nm buyer_nm  import_flg  tot_amt  dis_amt  \\\n",
       "904814     미확인코너    아동    아동문화   잡화가용팀     유아동복           0    79200        0   \n",
       "812664        완구    문화    아동문화   잡화가용팀     문화완구           0    59000        0   \n",
       "59385    수입종합화장품   화장품    잡화파트   잡화가용팀      화장품           1    54000     2700   \n",
       "536933     색조화장품   화장품    패션잡화   잡화가용팀      화장품           0    76000     3800   \n",
       "11582         토탈   핸드백      잡화   잡화가용팀      피혁B           0     5300      270   \n",
       "\n",
       "        net_amt  inst_mon  inst_fee  dc_rate  \n",
       "904814    79200         3         0      0.0  \n",
       "812664    59000         3         0      0.0  \n",
       "59385     51300         1         0      5.0  \n",
       "536933    72200         1         0      5.0  \n",
       "11582      5030         1         0      5.0  "
      ]
     },
     "execution_count": 28,
     "metadata": {},
     "output_type": "execute_result"
    }
   ],
   "source": [
    "train_set.head()"
   ]
  },
  {
   "cell_type": "code",
   "execution_count": 32,
   "metadata": {},
   "outputs": [
    {
     "data": {
      "text/plain": [
       "<AxesSubplot:>"
      ]
     },
     "execution_count": 32,
     "metadata": {},
     "output_type": "execute_result"
    },
    {
     "data": {
      "image/png": "[encoded data removed]",
      "text/plain": [
       "<Figure size 432x288 with 1 Axes>"
      ]
     },
     "metadata": {
      "needs_background": "light"
     },
     "output_type": "display_data"
    }
   ],
   "source": []
  },
  {
   "cell_type": "code",
   "execution_count": 14,
   "metadata": {},
   "outputs": [
    {
     "data": {
      "text/plain": [
       "array([[<matplotlib.axes._subplots.AxesSubplot object at 0x000001BE1D7779A0>,\n",
       "        <matplotlib.axes._subplots.AxesSubplot object at 0x000001BE1D561730>,\n",
       "        <matplotlib.axes._subplots.AxesSubplot object at 0x000001BE1D58DB20>,\n",
       "        <matplotlib.axes._subplots.AxesSubplot object at 0x000001BE1D5BBFD0>],\n",
       "       [<matplotlib.axes._subplots.AxesSubplot object at 0x000001BE1D5F3460>,\n",
       "        <matplotlib.axes._subplots.AxesSubplot object at 0x000001BE1D61F820>,\n",
       "        <matplotlib.axes._subplots.AxesSubplot object at 0x000001BE1D61F910>,\n",
       "        <matplotlib.axes._subplots.AxesSubplot object at 0x000001BE1D64DDC0>],\n",
       "       [<matplotlib.axes._subplots.AxesSubplot object at 0x000001BE1D6B0640>,\n",
       "        <matplotlib.axes._subplots.AxesSubplot object at 0x000001BE1D6DEA90>,\n",
       "        <matplotlib.axes._subplots.AxesSubplot object at 0x000001BE1D70DEE0>,\n",
       "        <matplotlib.axes._subplots.AxesSubplot object at 0x000001BE1D745370>],\n",
       "       [<matplotlib.axes._subplots.AxesSubplot object at 0x000001BE1D9117F0>,\n",
       "        <matplotlib.axes._subplots.AxesSubplot object at 0x000001BE1D93DC40>,\n",
       "        <matplotlib.axes._subplots.AxesSubplot object at 0x000001BE1D969130>,\n",
       "        <matplotlib.axes._subplots.AxesSubplot object at 0x000001BE1D9A4550>]],\n",
       "      dtype=object)"
      ]
     },
     "execution_count": 14,
     "metadata": {},
     "output_type": "execute_result"
    },
    {
     "data": {
      "image/png": "[encoded data removed]",
      "text/plain": [
       "<Figure size 864x576 with 16 Axes>"
      ]
     },
     "metadata": {
      "needs_background": "light"
     },
     "output_type": "display_data"
    }
   ],
   "source": [
    "# from pandas.tools.plotting import scatter_matrix # 옛날 버전의 판다스에서는\n",
    "from pandas.plotting import scatter_matrix\n",
    "\n",
    "attributes = [\"sales_date_wday\", \"dc_rate\", \"inst_tot\",\n",
    "              \"tot_amt\"]\n",
    "scatter_matrix(depart[attributes], figsize=(12, 8))"
   ]
  },
  {
   "cell_type": "code",
   "execution_count": 16,
   "metadata": {},
   "outputs": [
    {
     "data": {
      "text/plain": [
       "<1036653x4 sparse matrix of type '<class 'numpy.float64'>'\n",
       "\twith 1036653 stored elements in Compressed Sparse Row format>"
      ]
     },
     "execution_count": 16,
     "metadata": {},
     "output_type": "execute_result"
    }
   ],
   "source": [
    "from sklearn.preprocessing import OneHotEncoder\n",
    "\n",
    "cat_encoder = OneHotEncoder()\n",
    "housing_cat_1hot = cat_encoder.fit_transform(depart[['str_nm']])\n",
    "housing_cat_1hot\n"
   ]
  },
  {
   "cell_type": "code",
   "execution_count": 17,
   "metadata": {},
   "outputs": [
    {
     "data": {
      "text/plain": [
       "array([[1., 0., 0., 0.],\n",
       "       [1., 0., 0., 0.],\n",
       "       [0., 1., 0., 0.],\n",
       "       ...,\n",
       "       [0., 0., 0., 1.],\n",
       "       [0., 0., 0., 1.],\n",
       "       [0., 0., 0., 1.]])"
      ]
     },
     "execution_count": 17,
     "metadata": {},
     "output_type": "execute_result"
    }
   ],
   "source": [
    "housing_cat_1hot.toarray()"
   ]
  },
  {
   "cell_type": "code",
   "execution_count": 19,
   "metadata": {},
   "outputs": [
    {
     "data": {
      "text/plain": [
       "[array(['무역점', '본점', '신촌점', '천호점'], dtype=object)]"
      ]
     },
     "execution_count": 19,
     "metadata": {},
     "output_type": "execute_result"
    }
   ],
   "source": [
    "cat_encoder.categories_"
   ]
  },
  {
   "cell_type": "code",
   "execution_count": 23,
   "metadata": {},
   "outputs": [
    {
     "data": {
      "text/plain": [
       "array([[0.],\n",
       "       [0.],\n",
       "       [1.],\n",
       "       [1.],\n",
       "       [0.],\n",
       "       [0.],\n",
       "       [0.],\n",
       "       [1.],\n",
       "       [1.],\n",
       "       [1.]])"
      ]
     },
     "execution_count": 23,
     "metadata": {},
     "output_type": "execute_result"
    }
   ],
   "source": [
    "from sklearn.preprocessing import OrdinalEncoder\n",
    "\n",
    "ordinal_encoder = OrdinalEncoder()\n",
    "housing_cat_encoded = ordinal_encoder.fit_transform(depart[['str_nm']])\n",
    "housing_cat_encoded[:10]"
   ]
  },
  {
   "cell_type": "code",
   "execution_count": 28,
   "metadata": {
    "collapsed": true,
    "jupyter": {
     "outputs_hidden": true
    }
   },
   "outputs": [
    {
     "name": "stdout",
     "output_type": "stream",
     "text": [
      "[[5.1 3.5 1.4 0.2]\n",
      " [4.9 3.  1.4 0.2]\n",
      " [4.7 3.2 1.3 0.2]\n",
      " [4.6 3.1 1.5 0.2]\n",
      " [5.  3.6 1.4 0.2]\n",
      " [5.4 3.9 1.7 0.4]\n",
      " [4.6 3.4 1.4 0.3]\n",
      " [5.  3.4 1.5 0.2]\n",
      " [4.4 2.9 1.4 0.2]\n",
      " [4.9 3.1 1.5 0.1]\n",
      " [5.4 3.7 1.5 0.2]\n",
      " [4.8 3.4 1.6 0.2]\n",
      " [4.8 3.  1.4 0.1]\n",
      " [4.3 3.  1.1 0.1]\n",
      " [5.8 4.  1.2 0.2]\n",
      " [5.7 4.4 1.5 0.4]\n",
      " [5.4 3.9 1.3 0.4]\n",
      " [5.1 3.5 1.4 0.3]\n",
      " [5.7 3.8 1.7 0.3]\n",
      " [5.1 3.8 1.5 0.3]\n",
      " [5.4 3.4 1.7 0.2]\n",
      " [5.1 3.7 1.5 0.4]\n",
      " [4.6 3.6 1.  0.2]\n",
      " [5.1 3.3 1.7 0.5]\n",
      " [4.8 3.4 1.9 0.2]\n",
      " [5.  3.  1.6 0.2]\n",
      " [5.  3.4 1.6 0.4]\n",
      " [5.2 3.5 1.5 0.2]\n",
      " [5.2 3.4 1.4 0.2]\n",
      " [4.7 3.2 1.6 0.2]\n",
      " [4.8 3.1 1.6 0.2]\n",
      " [5.4 3.4 1.5 0.4]\n",
      " [5.2 4.1 1.5 0.1]\n",
      " [5.5 4.2 1.4 0.2]\n",
      " [4.9 3.1 1.5 0.2]\n",
      " [5.  3.2 1.2 0.2]\n",
      " [5.5 3.5 1.3 0.2]\n",
      " [4.9 3.6 1.4 0.1]\n",
      " [4.4 3.  1.3 0.2]\n",
      " [5.1 3.4 1.5 0.2]\n",
      " [5.  3.5 1.3 0.3]\n",
      " [4.5 2.3 1.3 0.3]\n",
      " [4.4 3.2 1.3 0.2]\n",
      " [5.  3.5 1.6 0.6]\n",
      " [5.1 3.8 1.9 0.4]\n",
      " [4.8 3.  1.4 0.3]\n",
      " [5.1 3.8 1.6 0.2]\n",
      " [4.6 3.2 1.4 0.2]\n",
      " [5.3 3.7 1.5 0.2]\n",
      " [5.  3.3 1.4 0.2]\n",
      " [7.  3.2 4.7 1.4]\n",
      " [6.4 3.2 4.5 1.5]\n",
      " [6.9 3.1 4.9 1.5]\n",
      " [5.5 2.3 4.  1.3]\n",
      " [6.5 2.8 4.6 1.5]\n",
      " [5.7 2.8 4.5 1.3]\n",
      " [6.3 3.3 4.7 1.6]\n",
      " [4.9 2.4 3.3 1. ]\n",
      " [6.6 2.9 4.6 1.3]\n",
      " [5.2 2.7 3.9 1.4]\n",
      " [5.  2.  3.5 1. ]\n",
      " [5.9 3.  4.2 1.5]\n",
      " [6.  2.2 4.  1. ]\n",
      " [6.1 2.9 4.7 1.4]\n",
      " [5.6 2.9 3.6 1.3]\n",
      " [6.7 3.1 4.4 1.4]\n",
      " [5.6 3.  4.5 1.5]\n",
      " [5.8 2.7 4.1 1. ]\n",
      " [6.2 2.2 4.5 1.5]\n",
      " [5.6 2.5 3.9 1.1]\n",
      " [5.9 3.2 4.8 1.8]\n",
      " [6.1 2.8 4.  1.3]\n",
      " [6.3 2.5 4.9 1.5]\n",
      " [6.1 2.8 4.7 1.2]\n",
      " [6.4 2.9 4.3 1.3]\n",
      " [6.6 3.  4.4 1.4]\n",
      " [6.8 2.8 4.8 1.4]\n",
      " [6.7 3.  5.  1.7]\n",
      " [6.  2.9 4.5 1.5]\n",
      " [5.7 2.6 3.5 1. ]\n",
      " [5.5 2.4 3.8 1.1]\n",
      " [5.5 2.4 3.7 1. ]\n",
      " [5.8 2.7 3.9 1.2]\n",
      " [6.  2.7 5.1 1.6]\n",
      " [5.4 3.  4.5 1.5]\n",
      " [6.  3.4 4.5 1.6]\n",
      " [6.7 3.1 4.7 1.5]\n",
      " [6.3 2.3 4.4 1.3]\n",
      " [5.6 3.  4.1 1.3]\n",
      " [5.5 2.5 4.  1.3]\n",
      " [5.5 2.6 4.4 1.2]\n",
      " [6.1 3.  4.6 1.4]\n",
      " [5.8 2.6 4.  1.2]\n",
      " [5.  2.3 3.3 1. ]\n",
      " [5.6 2.7 4.2 1.3]\n",
      " [5.7 3.  4.2 1.2]\n",
      " [5.7 2.9 4.2 1.3]\n",
      " [6.2 2.9 4.3 1.3]\n",
      " [5.1 2.5 3.  1.1]\n",
      " [5.7 2.8 4.1 1.3]\n",
      " [6.3 3.3 6.  2.5]\n",
      " [5.8 2.7 5.1 1.9]\n",
      " [7.1 3.  5.9 2.1]\n",
      " [6.3 2.9 5.6 1.8]\n",
      " [6.5 3.  5.8 2.2]\n",
      " [7.6 3.  6.6 2.1]\n",
      " [4.9 2.5 4.5 1.7]\n",
      " [7.3 2.9 6.3 1.8]\n",
      " [6.7 2.5 5.8 1.8]\n",
      " [7.2 3.6 6.1 2.5]\n",
      " [6.5 3.2 5.1 2. ]\n",
      " [6.4 2.7 5.3 1.9]\n",
      " [6.8 3.  5.5 2.1]\n",
      " [5.7 2.5 5.  2. ]\n",
      " [5.8 2.8 5.1 2.4]\n",
      " [6.4 3.2 5.3 2.3]\n",
      " [6.5 3.  5.5 1.8]\n",
      " [7.7 3.8 6.7 2.2]\n",
      " [7.7 2.6 6.9 2.3]\n",
      " [6.  2.2 5.  1.5]\n",
      " [6.9 3.2 5.7 2.3]\n",
      " [5.6 2.8 4.9 2. ]\n",
      " [7.7 2.8 6.7 2. ]\n",
      " [6.3 2.7 4.9 1.8]\n",
      " [6.7 3.3 5.7 2.1]\n",
      " [7.2 3.2 6.  1.8]\n",
      " [6.2 2.8 4.8 1.8]\n",
      " [6.1 3.  4.9 1.8]\n",
      " [6.4 2.8 5.6 2.1]\n",
      " [7.2 3.  5.8 1.6]\n",
      " [7.4 2.8 6.1 1.9]\n",
      " [7.9 3.8 6.4 2. ]\n",
      " [6.4 2.8 5.6 2.2]\n",
      " [6.3 2.8 5.1 1.5]\n",
      " [6.1 2.6 5.6 1.4]\n",
      " [7.7 3.  6.1 2.3]\n",
      " [6.3 3.4 5.6 2.4]\n",
      " [6.4 3.1 5.5 1.8]\n",
      " [6.  3.  4.8 1.8]\n",
      " [6.9 3.1 5.4 2.1]\n",
      " [6.7 3.1 5.6 2.4]\n",
      " [6.9 3.1 5.1 2.3]\n",
      " [5.8 2.7 5.1 1.9]\n",
      " [6.8 3.2 5.9 2.3]\n",
      " [6.7 3.3 5.7 2.5]\n",
      " [6.7 3.  5.2 2.3]\n",
      " [6.3 2.5 5.  1.9]\n",
      " [6.5 3.  5.2 2. ]\n",
      " [6.2 3.4 5.4 2.3]\n",
      " [5.9 3.  5.1 1.8]]\n"
     ]
    }
   ],
   "source": [
    "# iris 데이터의 꽃받침 길이와 너비에 대해 로지스틱 회귀 수행\n",
    "\n",
    "# iris 데이터 호출 : iris 데이터는 Setosa, Versicolor, Virginica와 같이 3개의 클래스로 구성됨. 각각의 값은 0, 1, 2임\n",
    "import sklearn.datasets as d\n",
    "iris = d.load_iris()\n",
    "\n",
    "# 독립변수(feature_names)와 종속변수(target_names) 확인\n",
    "#print(\"특성 :\", iris.feature_names)\n",
    "#print(\"클래스 :\", iris.target_names)\n",
    "# 특성 : ['sepal length (cm)', 'sepal width (cm)', 'petal length (cm)', 'petal width (cm)']\n",
    "# 클래스 : ['setosa' 'versicolor' 'virginica']\n",
    "\n",
    "\n",
    "\n",
    "import matplotlib.pyplot as plt\n",
    "\n",
    "# 세 클래스를 구분할 색깔 리스트 생성\n",
    "c_set = [\"blue\", \"red\", \"green\"]\n",
    "# 세 클래스를 구분할 모양 리스트 생성\n",
    "m_set = [\"o\", \"x\", \"^\"]\n",
    "# 세 클래스를 구분하기 위해 각각의 종속변수 이름 리스트 저장\n",
    "l_set = iris.target_names\n",
    "\n",
    "# 독립변수, 종속변수 생성\n",
    "X = iris.data\n",
    "y = iris.target\n",
    "\n",
    "print(X)"
   ]
  },
  {
   "cell_type": "code",
   "execution_count": 29,
   "metadata": {},
   "outputs": [
    {
     "data": {
      "text/plain": [
       "0          1212\n",
       "1          1242\n",
       "2          1810\n",
       "3          1830\n",
       "4          1802\n",
       "           ... \n",
       "1036648    1320\n",
       "1036649    1633\n",
       "1036650    1803\n",
       "1036651    1823\n",
       "1036652    1313\n",
       "Name: sales_time, Length: 1036653, dtype: int64"
      ]
     },
     "execution_count": 29,
     "metadata": {},
     "output_type": "execute_result"
    }
   ],
   "source": [
    "import matplotlib.pyplot as plt\n"
   ]
  },
  {
   "cell_type": "code",
   "execution_count": 66,
   "metadata": {},
   "outputs": [],
   "source": [
    "import math"
   ]
  },
  {
   "cell_type": "code",
   "execution_count": 69,
   "metadata": {},
   "outputs": [
    {
     "name": "stderr",
     "output_type": "stream",
     "text": [
      "<ipython-input-69-3dde81fd3cd5>:1: SettingWithCopyWarning: \n",
      "A value is trying to be set on a copy of a slice from a DataFrame.\n",
      "Try using .loc[row_indexer,col_indexer] = value instead\n",
      "\n",
      "See the caveats in the documentation: https://pandas.pydata.org/pandas-docs/stable/user_guide/indexing.html#returning-a-view-versus-a-copy\n",
      "  df_tmp2['tot_amt_log']= df_tmp2['tot_amt'].pct_change()\n"
     ]
    }
   ],
   "source": [
    "df_tmp2['tot_amt_log']= df_tmp2['tot_amt'].pct_change()"
   ]
  },
  {
   "cell_type": "code",
   "execution_count": 70,
   "metadata": {},
   "outputs": [
    {
     "data": {
      "text/plain": [
       "0               NaN\n",
       "1         -0.566667\n",
       "2          3.487179\n",
       "3          1.600000\n",
       "4         -0.780220\n",
       "             ...   \n",
       "1036648    2.243243\n",
       "1036649   -0.683333\n",
       "1036650    0.210526\n",
       "1036651    0.065217\n",
       "1036652    0.061224\n",
       "Name: tot_amt_log, Length: 911332, dtype: float64"
      ]
     },
     "execution_count": 70,
     "metadata": {},
     "output_type": "execute_result"
    }
   ],
   "source": [
    "df_tmp2['tot_amt_log']"
   ]
  },
  {
   "cell_type": "code",
   "execution_count": 81,
   "metadata": {},
   "outputs": [
    {
     "data": {
      "text/plain": [
       "<matplotlib.axes._subplots.AxesSubplot at 0x1be119a34c0>"
      ]
     },
     "execution_count": 81,
     "metadata": {},
     "output_type": "execute_result"
    },
    {
     "data": {
      "image/png": "[encoded data removed]",
      "text/plain": [
       "<Figure size 1080x1080 with 1 Axes>"
      ]
     },
     "metadata": {
      "needs_background": "light"
     },
     "output_type": "display_data"
    }
   ],
   "source": [
    "df_tmp2.head(1000).plot.scatter(x=\"tot_amt\", y=\"sales_time\", c=df_tmp2[\"color\"].head(1000), figsize=(15,15), alpha=0.6, xlim=[0,500000])"
   ]
  },
  {
   "cell_type": "code",
   "execution_count": 44,
   "metadata": {},
   "outputs": [],
   "source": [
    " #inst_tot / 무이자 할부 = r   / 유이자 할부 = g   / 일시불  = b\n",
    "zero = depart[depart['inst_tot'] == 1].index\n",
    "five = depart[depart['inst_tot'] == 2].index\n",
    "ten = depart[depart['inst_tot'] == 3].index\n",
    "\n",
    "depart.loc[zero, \"color\"] = \"r\"\n",
    "depart.loc[five, \"color\"] = \"g\"\n",
    "depart.loc[ten, \"color\"] = \"b\"\n",
    "\n",
    "\n"
   ]
  },
  {
   "cell_type": "code",
   "execution_count": 43,
   "metadata": {},
   "outputs": [
    {
     "ename": "NameError",
     "evalue": "name 'unique' is not defined",
     "output_type": "error",
     "traceback": [
      "\u001b[1;31m---------------------------------------------------------------------------\u001b[0m",
      "\u001b[1;31mNameError\u001b[0m                                 Traceback (most recent call last)",
      "\u001b[1;32m<ipython-input-43-392fad94c1a6>\u001b[0m in \u001b[0;36m<module>\u001b[1;34m\u001b[0m\n\u001b[1;32m----> 1\u001b[1;33m \u001b[0munique\u001b[0m\u001b[1;33m(\u001b[0m\u001b[0mdepart\u001b[0m\u001b[1;33m[\u001b[0m\u001b[0minst_tot\u001b[0m\u001b[1;33m]\u001b[0m\u001b[1;33m)\u001b[0m\u001b[1;33m\u001b[0m\u001b[1;33m\u001b[0m\u001b[0m\n\u001b[0m",
      "\u001b[1;31mNameError\u001b[0m: name 'unique' is not defined"
     ]
    }
   ],
   "source": [
    "(depart[inst_tot])"
   ]
  },
  {
   "cell_type": "code",
   "execution_count": null,
   "metadata": {},
   "outputs": [],
   "source": []
  }
 ],
 "metadata": {
  "kernelspec": {
   "display_name": "Python 3",
   "language": "python",
   "name": "python3"
  },
  "language_info": {
   "codemirror_mode": {
    "name": "ipython",
    "version": 3
   },
   "file_extension": ".py",
   "mimetype": "text/x-python",
   "name": "python",
   "nbconvert_exporter": "python",
   "pygments_lexer": "ipython3",
   "version": "3.8.3"
  }
 },
 "nbformat": 4,
 "nbformat_minor": 4
}
