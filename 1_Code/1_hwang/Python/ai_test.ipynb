{
 "cells": [
  {
   "cell_type": "code",
   "execution_count": 3,
   "metadata": {},
   "outputs": [],
   "source": [
    "import numpy as np\n",
    "import pandas as pd\n",
    "#import matplotlib.pyplot as plt\n",
    "#import matplotlib\n",
    "\n",
    "#matplotlib.rcParams['font.family'] = 'Malgun Gothic'   # '맑은 고딕'으로 설정 \n",
    "#matplotlib.rcParams['axes.unicode_minus'] = False"
   ]
  },
  {
   "cell_type": "code",
   "execution_count": 4,
   "metadata": {},
   "outputs": [],
   "source": [
    "depart = pd.read_csv('C:\\\\Users\\\\ASIAE_24\\\\Documents\\\\data\\\\X_train_new.csv', encoding='cp949')"
   ]
  },
  {
   "cell_type": "code",
   "execution_count": 5,
   "metadata": {},
   "outputs": [
    {
     "name": "stdout",
     "output_type": "stream",
     "text": [
      "<class 'pandas.core.frame.DataFrame'>\n",
      "RangeIndex: 1036653 entries, 0 to 1036652\n",
      "Data columns (total 17 columns):\n",
      " #   Column      Non-Null Count    Dtype  \n",
      "---  ------      --------------    -----  \n",
      " 0   custid      1036653 non-null  int64  \n",
      " 1   sales_date  1036653 non-null  object \n",
      " 2   sales_time  1036653 non-null  int64  \n",
      " 3   str_nm      1036653 non-null  object \n",
      " 4   goodcd      1036653 non-null  float64\n",
      " 5   brd_nm      1036653 non-null  object \n",
      " 6   corner_nm   1036653 non-null  object \n",
      " 7   pc_nm       1036653 non-null  object \n",
      " 8   part_nm     1036653 non-null  object \n",
      " 9   team_nm     1036653 non-null  object \n",
      " 10  buyer_nm    1036653 non-null  object \n",
      " 11  import_flg  1036653 non-null  int64  \n",
      " 12  tot_amt     1036653 non-null  int64  \n",
      " 13  dis_amt     1036653 non-null  int64  \n",
      " 14  net_amt     1036653 non-null  int64  \n",
      " 15  inst_mon    1036653 non-null  int64  \n",
      " 16  inst_fee    1036653 non-null  int64  \n",
      "dtypes: float64(1), int64(8), object(8)\n",
      "memory usage: 134.5+ MB\n"
     ]
    }
   ],
   "source": [
    "depart.info()"
   ]
  },
  {
   "cell_type": "code",
   "execution_count": 6,
   "metadata": {},
   "outputs": [],
   "source": [
    "np.random.seed(42)"
   ]
  },
  {
   "cell_type": "code",
   "execution_count": 7,
   "metadata": {},
   "outputs": [],
   "source": [
    "#dc_rate 할인율 만들기\n",
    "dc_rate = round((depart['dis_amt']/depart['tot_amt'])*100)\n",
    "depart['dc_rate'] = dc_rate\n"
   ]
  },
  {
   "cell_type": "markdown",
   "metadata": {},
   "source": [
    "# datetime 사용 시간변수 생성"
   ]
  },
  {
   "cell_type": "code",
   "execution_count": 8,
   "metadata": {},
   "outputs": [],
   "source": [
    "import datetime"
   ]
  },
  {
   "cell_type": "code",
   "execution_count": 9,
   "metadata": {},
   "outputs": [],
   "source": [
    "d = []\n",
    "for i in range(len(depart)):\n",
    "    d.append(datetime.datetime.strptime(depart['sales_date'][i], '%Y-%m-%d %H:%S' ))\n"
   ]
  },
  {
   "cell_type": "markdown",
   "metadata": {},
   "source": [
    "# 월(sales_date_mon)"
   ]
  },
  {
   "cell_type": "code",
   "execution_count": 10,
   "metadata": {},
   "outputs": [],
   "source": [
    "mon = []\n",
    "for i in range(len(depart)):\n",
    "    mon.append(d[i].month)\n",
    "depart['sales_date_mon'] = mon"
   ]
  },
  {
   "cell_type": "markdown",
   "metadata": {},
   "source": [
    "# 일(sales_date_day)"
   ]
  },
  {
   "cell_type": "code",
   "execution_count": 11,
   "metadata": {},
   "outputs": [],
   "source": [
    "day = []\n",
    "for i in range(len(depart)):\n",
    "    day.append(d[i].day)\n",
    "depart['sales_date_day'] = day"
   ]
  },
  {
   "cell_type": "markdown",
   "metadata": {},
   "source": [
    "# 요일(sales_date_wday) 0~6 = 월화수목금토일"
   ]
  },
  {
   "cell_type": "code",
   "execution_count": 12,
   "metadata": {},
   "outputs": [],
   "source": [
    "wday = []\n",
    "for i in range(len(depart)):\n",
    "    wday.append(d[i].weekday())\n",
    "depart['sales_date_wday'] = wday"
   ]
  },
  {
   "cell_type": "markdown",
   "metadata": {},
   "source": [
    "# 할부요인 변수 생성"
   ]
  },
  {
   "cell_type": "code",
   "execution_count": 13,
   "metadata": {},
   "outputs": [],
   "source": [
    " #inst_tot / 무이자 할부 = 1/ 유이자 할부 = 2/ 일시불  = 3"
   ]
  },
  {
   "cell_type": "code",
   "execution_count": 14,
   "metadata": {},
   "outputs": [],
   "source": [
    "inst_tot = [3 if(i==1) else 1 if(i > 1 and j==0) else 2 for i,j in zip(depart['inst_mon'], depart['inst_fee'])]\n",
    "depart['inst_tot'] = inst_tot"
   ]
  },
  {
   "cell_type": "code",
   "execution_count": 15,
   "metadata": {},
   "outputs": [
    {
     "data": {
      "text/html": [
       "<div>\n",
       "<style scoped>\n",
       "    .dataframe tbody tr th:only-of-type {\n",
       "        vertical-align: middle;\n",
       "    }\n",
       "\n",
       "    .dataframe tbody tr th {\n",
       "        vertical-align: top;\n",
       "    }\n",
       "\n",
       "    .dataframe thead th {\n",
       "        text-align: right;\n",
       "    }\n",
       "</style>\n",
       "<table border=\"1\" class=\"dataframe\">\n",
       "  <thead>\n",
       "    <tr style=\"text-align: right;\">\n",
       "      <th></th>\n",
       "      <th>custid</th>\n",
       "      <th>sales_date</th>\n",
       "      <th>sales_time</th>\n",
       "      <th>str_nm</th>\n",
       "      <th>goodcd</th>\n",
       "      <th>brd_nm</th>\n",
       "      <th>corner_nm</th>\n",
       "      <th>pc_nm</th>\n",
       "      <th>part_nm</th>\n",
       "      <th>team_nm</th>\n",
       "      <th>...</th>\n",
       "      <th>tot_amt</th>\n",
       "      <th>dis_amt</th>\n",
       "      <th>net_amt</th>\n",
       "      <th>inst_mon</th>\n",
       "      <th>inst_fee</th>\n",
       "      <th>dc_rate</th>\n",
       "      <th>sales_date_mon</th>\n",
       "      <th>sales_date_day</th>\n",
       "      <th>sales_date_wday</th>\n",
       "      <th>inst_tot</th>\n",
       "    </tr>\n",
       "  </thead>\n",
       "  <tbody>\n",
       "    <tr>\n",
       "      <th>1036648</th>\n",
       "      <td>29998</td>\n",
       "      <td>2001-01-21 0:00</td>\n",
       "      <td>1320</td>\n",
       "      <td>무역점</td>\n",
       "      <td>4.241080e+12</td>\n",
       "      <td>바닐라</td>\n",
       "      <td>영캐주얼</td>\n",
       "      <td>트랜디 케쥬얼</td>\n",
       "      <td>여성캐주얼</td>\n",
       "      <td>의류패션팀</td>\n",
       "      <td>...</td>\n",
       "      <td>120000</td>\n",
       "      <td>0</td>\n",
       "      <td>120000</td>\n",
       "      <td>3</td>\n",
       "      <td>0</td>\n",
       "      <td>0.0</td>\n",
       "      <td>1</td>\n",
       "      <td>21</td>\n",
       "      <td>6</td>\n",
       "      <td>1</td>\n",
       "    </tr>\n",
       "    <tr>\n",
       "      <th>1036649</th>\n",
       "      <td>29998</td>\n",
       "      <td>2001-04-07 0:00</td>\n",
       "      <td>1633</td>\n",
       "      <td>무역점</td>\n",
       "      <td>2.139140e+12</td>\n",
       "      <td>랑콤</td>\n",
       "      <td>수입종합화장품</td>\n",
       "      <td>화장품</td>\n",
       "      <td>명품잡화</td>\n",
       "      <td>잡화가용팀</td>\n",
       "      <td>...</td>\n",
       "      <td>38000</td>\n",
       "      <td>1900</td>\n",
       "      <td>36100</td>\n",
       "      <td>1</td>\n",
       "      <td>0</td>\n",
       "      <td>5.0</td>\n",
       "      <td>4</td>\n",
       "      <td>7</td>\n",
       "      <td>5</td>\n",
       "      <td>3</td>\n",
       "    </tr>\n",
       "    <tr>\n",
       "      <th>1036650</th>\n",
       "      <td>29999</td>\n",
       "      <td>2001-03-21 0:00</td>\n",
       "      <td>1803</td>\n",
       "      <td>천호점</td>\n",
       "      <td>4.109290e+12</td>\n",
       "      <td>루이까또즈</td>\n",
       "      <td>핸드백</td>\n",
       "      <td>핸드백</td>\n",
       "      <td>잡화</td>\n",
       "      <td>잡화가용팀</td>\n",
       "      <td>...</td>\n",
       "      <td>46000</td>\n",
       "      <td>2300</td>\n",
       "      <td>43700</td>\n",
       "      <td>1</td>\n",
       "      <td>0</td>\n",
       "      <td>5.0</td>\n",
       "      <td>3</td>\n",
       "      <td>21</td>\n",
       "      <td>2</td>\n",
       "      <td>3</td>\n",
       "    </tr>\n",
       "    <tr>\n",
       "      <th>1036651</th>\n",
       "      <td>29999</td>\n",
       "      <td>2001-03-29 0:00</td>\n",
       "      <td>1823</td>\n",
       "      <td>천호점</td>\n",
       "      <td>4.139350e+12</td>\n",
       "      <td>소피에르핀</td>\n",
       "      <td>넥타이</td>\n",
       "      <td>셔츠</td>\n",
       "      <td>남성의류</td>\n",
       "      <td>의류패션팀</td>\n",
       "      <td>...</td>\n",
       "      <td>49000</td>\n",
       "      <td>2450</td>\n",
       "      <td>46550</td>\n",
       "      <td>1</td>\n",
       "      <td>0</td>\n",
       "      <td>5.0</td>\n",
       "      <td>3</td>\n",
       "      <td>29</td>\n",
       "      <td>3</td>\n",
       "      <td>3</td>\n",
       "    </tr>\n",
       "    <tr>\n",
       "      <th>1036652</th>\n",
       "      <td>29999</td>\n",
       "      <td>2001-04-21 0:00</td>\n",
       "      <td>1313</td>\n",
       "      <td>천호점</td>\n",
       "      <td>4.104840e+12</td>\n",
       "      <td>샤넬</td>\n",
       "      <td>수입종합화장품</td>\n",
       "      <td>화장품</td>\n",
       "      <td>잡화</td>\n",
       "      <td>잡화가용팀</td>\n",
       "      <td>...</td>\n",
       "      <td>52000</td>\n",
       "      <td>2600</td>\n",
       "      <td>49400</td>\n",
       "      <td>1</td>\n",
       "      <td>0</td>\n",
       "      <td>5.0</td>\n",
       "      <td>4</td>\n",
       "      <td>21</td>\n",
       "      <td>5</td>\n",
       "      <td>3</td>\n",
       "    </tr>\n",
       "  </tbody>\n",
       "</table>\n",
       "<p>5 rows × 22 columns</p>\n",
       "</div>"
      ],
      "text/plain": [
       "         custid       sales_date  sales_time str_nm        goodcd brd_nm  \\\n",
       "1036648   29998  2001-01-21 0:00        1320    무역점  4.241080e+12    바닐라   \n",
       "1036649   29998  2001-04-07 0:00        1633    무역점  2.139140e+12     랑콤   \n",
       "1036650   29999  2001-03-21 0:00        1803    천호점  4.109290e+12  루이까또즈   \n",
       "1036651   29999  2001-03-29 0:00        1823    천호점  4.139350e+12  소피에르핀   \n",
       "1036652   29999  2001-04-21 0:00        1313    천호점  4.104840e+12     샤넬   \n",
       "\n",
       "        corner_nm    pc_nm part_nm team_nm  ... tot_amt  dis_amt  net_amt  \\\n",
       "1036648      영캐주얼  트랜디 케쥬얼   여성캐주얼   의류패션팀  ...  120000        0   120000   \n",
       "1036649   수입종합화장품      화장품    명품잡화   잡화가용팀  ...   38000     1900    36100   \n",
       "1036650       핸드백      핸드백      잡화   잡화가용팀  ...   46000     2300    43700   \n",
       "1036651       넥타이       셔츠    남성의류   의류패션팀  ...   49000     2450    46550   \n",
       "1036652   수입종합화장품      화장품      잡화   잡화가용팀  ...   52000     2600    49400   \n",
       "\n",
       "         inst_mon  inst_fee  dc_rate  sales_date_mon  sales_date_day  \\\n",
       "1036648         3         0      0.0               1              21   \n",
       "1036649         1         0      5.0               4               7   \n",
       "1036650         1         0      5.0               3              21   \n",
       "1036651         1         0      5.0               3              29   \n",
       "1036652         1         0      5.0               4              21   \n",
       "\n",
       "         sales_date_wday  inst_tot  \n",
       "1036648                6         1  \n",
       "1036649                5         3  \n",
       "1036650                2         3  \n",
       "1036651                3         3  \n",
       "1036652                5         3  \n",
       "\n",
       "[5 rows x 22 columns]"
      ]
     },
     "execution_count": 15,
     "metadata": {},
     "output_type": "execute_result"
    }
   ],
   "source": [
    "depart.tail()"
   ]
  },
  {
   "cell_type": "code",
   "execution_count": 17,
   "metadata": {},
   "outputs": [
    {
     "data": {
      "text/plain": [
       "0.0     549242\n",
       "5.0     401904\n",
       "10.0     74728\n",
       "3.0       3873\n",
       "2.0       2240\n",
       "4.0       2183\n",
       "1.0       1879\n",
       "8.0        176\n",
       "7.0        156\n",
       "6.0        143\n",
       "9.0        121\n",
       "20.0         5\n",
       "65.0         2\n",
       "40.0         1\n",
       "Name: dc_rate, dtype: int64"
      ]
     },
     "execution_count": 17,
     "metadata": {},
     "output_type": "execute_result"
    }
   ],
   "source": [
    "depart['dc_rate'].value_counts()"
   ]
  },
  {
   "cell_type": "code",
   "execution_count": 27,
   "metadata": {},
   "outputs": [],
   "source": [
    "from sklearn.model_selection import train_test_split\n",
    "\n",
    "train_set, test_set = train_test_split(depart, test_size=0.2, random_state=42)"
   ]
  },
  {
   "cell_type": "code",
   "execution_count": 28,
   "metadata": {
    "scrolled": true
   },
   "outputs": [
    {
     "data": {
      "text/html": [
       "<div>\n",
       "<style scoped>\n",
       "    .dataframe tbody tr th:only-of-type {\n",
       "        vertical-align: middle;\n",
       "    }\n",
       "\n",
       "    .dataframe tbody tr th {\n",
       "        vertical-align: top;\n",
       "    }\n",
       "\n",
       "    .dataframe thead th {\n",
       "        text-align: right;\n",
       "    }\n",
       "</style>\n",
       "<table border=\"1\" class=\"dataframe\">\n",
       "  <thead>\n",
       "    <tr style=\"text-align: right;\">\n",
       "      <th></th>\n",
       "      <th>custid</th>\n",
       "      <th>sales_date</th>\n",
       "      <th>sales_time</th>\n",
       "      <th>str_nm</th>\n",
       "      <th>goodcd</th>\n",
       "      <th>brd_nm</th>\n",
       "      <th>corner_nm</th>\n",
       "      <th>pc_nm</th>\n",
       "      <th>part_nm</th>\n",
       "      <th>team_nm</th>\n",
       "      <th>buyer_nm</th>\n",
       "      <th>import_flg</th>\n",
       "      <th>tot_amt</th>\n",
       "      <th>dis_amt</th>\n",
       "      <th>net_amt</th>\n",
       "      <th>inst_mon</th>\n",
       "      <th>inst_fee</th>\n",
       "      <th>dc_rate</th>\n",
       "    </tr>\n",
       "  </thead>\n",
       "  <tbody>\n",
       "    <tr>\n",
       "      <th>904814</th>\n",
       "      <td>26076</td>\n",
       "      <td>2000-10-15 0:00</td>\n",
       "      <td>1730</td>\n",
       "      <td>신촌점</td>\n",
       "      <td>4.417750e+12</td>\n",
       "      <td>베이비헤로스</td>\n",
       "      <td>미확인코너</td>\n",
       "      <td>아동</td>\n",
       "      <td>아동문화</td>\n",
       "      <td>잡화가용팀</td>\n",
       "      <td>유아동복</td>\n",
       "      <td>0</td>\n",
       "      <td>79200</td>\n",
       "      <td>0</td>\n",
       "      <td>79200</td>\n",
       "      <td>3</td>\n",
       "      <td>0</td>\n",
       "      <td>0.0</td>\n",
       "    </tr>\n",
       "    <tr>\n",
       "      <th>812664</th>\n",
       "      <td>23456</td>\n",
       "      <td>2000-08-19 0:00</td>\n",
       "      <td>1730</td>\n",
       "      <td>신촌점</td>\n",
       "      <td>4.507920e+12</td>\n",
       "      <td>팩.게임CD</td>\n",
       "      <td>완구</td>\n",
       "      <td>문화</td>\n",
       "      <td>아동문화</td>\n",
       "      <td>잡화가용팀</td>\n",
       "      <td>문화완구</td>\n",
       "      <td>0</td>\n",
       "      <td>59000</td>\n",
       "      <td>0</td>\n",
       "      <td>59000</td>\n",
       "      <td>3</td>\n",
       "      <td>0</td>\n",
       "      <td>0.0</td>\n",
       "    </tr>\n",
       "    <tr>\n",
       "      <th>59385</th>\n",
       "      <td>1721</td>\n",
       "      <td>2001-01-21 0:00</td>\n",
       "      <td>1930</td>\n",
       "      <td>본점</td>\n",
       "      <td>4.104840e+12</td>\n",
       "      <td>샤넬</td>\n",
       "      <td>수입종합화장품</td>\n",
       "      <td>화장품</td>\n",
       "      <td>잡화파트</td>\n",
       "      <td>잡화가용팀</td>\n",
       "      <td>화장품</td>\n",
       "      <td>1</td>\n",
       "      <td>54000</td>\n",
       "      <td>2700</td>\n",
       "      <td>51300</td>\n",
       "      <td>1</td>\n",
       "      <td>0</td>\n",
       "      <td>5.0</td>\n",
       "    </tr>\n",
       "    <tr>\n",
       "      <th>536933</th>\n",
       "      <td>15384</td>\n",
       "      <td>2000-11-19 0:00</td>\n",
       "      <td>1723</td>\n",
       "      <td>신촌점</td>\n",
       "      <td>2.139140e+12</td>\n",
       "      <td>랑콤</td>\n",
       "      <td>색조화장품</td>\n",
       "      <td>화장품</td>\n",
       "      <td>패션잡화</td>\n",
       "      <td>잡화가용팀</td>\n",
       "      <td>화장품</td>\n",
       "      <td>0</td>\n",
       "      <td>76000</td>\n",
       "      <td>3800</td>\n",
       "      <td>72200</td>\n",
       "      <td>1</td>\n",
       "      <td>0</td>\n",
       "      <td>5.0</td>\n",
       "    </tr>\n",
       "    <tr>\n",
       "      <th>11582</th>\n",
       "      <td>335</td>\n",
       "      <td>2000-06-14 0:00</td>\n",
       "      <td>1253</td>\n",
       "      <td>천호점</td>\n",
       "      <td>4.120440e+12</td>\n",
       "      <td>베네통토탈</td>\n",
       "      <td>토탈</td>\n",
       "      <td>핸드백</td>\n",
       "      <td>잡화</td>\n",
       "      <td>잡화가용팀</td>\n",
       "      <td>피혁B</td>\n",
       "      <td>0</td>\n",
       "      <td>5300</td>\n",
       "      <td>270</td>\n",
       "      <td>5030</td>\n",
       "      <td>1</td>\n",
       "      <td>0</td>\n",
       "      <td>5.0</td>\n",
       "    </tr>\n",
       "  </tbody>\n",
       "</table>\n",
       "</div>"
      ],
      "text/plain": [
       "        custid       sales_date  sales_time str_nm        goodcd  brd_nm  \\\n",
       "904814   26076  2000-10-15 0:00        1730    신촌점  4.417750e+12  베이비헤로스   \n",
       "812664   23456  2000-08-19 0:00        1730    신촌점  4.507920e+12  팩.게임CD   \n",
       "59385     1721  2001-01-21 0:00        1930     본점  4.104840e+12      샤넬   \n",
       "536933   15384  2000-11-19 0:00        1723    신촌점  2.139140e+12      랑콤   \n",
       "11582      335  2000-06-14 0:00        1253    천호점  4.120440e+12   베네통토탈   \n",
       "\n",
       "       corner_nm pc_nm part_nm team_nm buyer_nm  import_flg  tot_amt  dis_amt  \\\n",
       "904814     미확인코너    아동    아동문화   잡화가용팀     유아동복           0    79200        0   \n",
       "812664        완구    문화    아동문화   잡화가용팀     문화완구           0    59000        0   \n",
       "59385    수입종합화장품   화장품    잡화파트   잡화가용팀      화장품           1    54000     2700   \n",
       "536933     색조화장품   화장품    패션잡화   잡화가용팀      화장품           0    76000     3800   \n",
       "11582         토탈   핸드백      잡화   잡화가용팀      피혁B           0     5300      270   \n",
       "\n",
       "        net_amt  inst_mon  inst_fee  dc_rate  \n",
       "904814    79200         3         0      0.0  \n",
       "812664    59000         3         0      0.0  \n",
       "59385     51300         1         0      5.0  \n",
       "536933    72200         1         0      5.0  \n",
       "11582      5030         1         0      5.0  "
      ]
     },
     "execution_count": 28,
     "metadata": {},
     "output_type": "execute_result"
    }
   ],
   "source": [
    "train_set.head()"
   ]
  },
  {
   "cell_type": "code",
   "execution_count": 32,
   "metadata": {},
   "outputs": [
    {
     "data": {
      "text/plain": [
       "<AxesSubplot:>"
      ]
     },
     "execution_count": 32,
     "metadata": {},
     "output_type": "execute_result"
    },
    {
     "data": {
      "image/png": "[encoded data removed]",
      "text/plain": [
       "<Figure size 432x288 with 1 Axes>"
      ]
     },
     "metadata": {
      "needs_background": "light"
     },
     "output_type": "display_data"
    }
   ],
   "source": []
  },
  {
   "cell_type": "code",
   "execution_count": null,
   "metadata": {},
   "outputs": [],
   "source": []
  }
 ],
 "metadata": {
  "kernelspec": {
   "display_name": "Python 3",
   "language": "python",
   "name": "python3"
  },
  "language_info": {
   "codemirror_mode": {
    "name": "ipython",
    "version": 3
   },
   "file_extension": ".py",
   "mimetype": "text/x-python",
   "name": "python",
   "nbconvert_exporter": "python",
   "pygments_lexer": "ipython3",
   "version": "3.7.7"
  }
 },
 "nbformat": 4,
 "nbformat_minor": 4
}
