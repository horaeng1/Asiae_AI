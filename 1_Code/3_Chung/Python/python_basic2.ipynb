{
 "cells": [
  {
   "cell_type": "code",
   "execution_count": 1,
   "metadata": {},
   "outputs": [
    {
     "ename": "TypeError",
     "evalue": "'int' object is not callable",
     "output_type": "error",
     "traceback": [
      "\u001b[1;31m---------------------------------------------------------------------------\u001b[0m",
      "\u001b[1;31mTypeError\u001b[0m                                 Traceback (most recent call last)",
      "\u001b[1;32m<ipython-input-1-df646badc1e1>\u001b[0m in \u001b[0;36m<module>\u001b[1;34m\u001b[0m\n\u001b[0;32m      1\u001b[0m \u001b[0ma\u001b[0m \u001b[1;33m=\u001b[0m \u001b[1;33m{\u001b[0m\u001b[1;36m1\u001b[0m\u001b[1;33m:\u001b[0m\u001b[1;34m\"하나\"\u001b[0m\u001b[1;33m,\u001b[0m \u001b[1;36m2\u001b[0m\u001b[1;33m:\u001b[0m\u001b[1;34m\"둘\"\u001b[0m\u001b[1;33m,\u001b[0m \u001b[1;36m3\u001b[0m\u001b[1;33m:\u001b[0m\u001b[1;34m\"셋\"\u001b[0m\u001b[1;33m,\u001b[0m \u001b[1;36m4\u001b[0m\u001b[1;33m:\u001b[0m\u001b[1;34m\"넷\"\u001b[0m\u001b[1;33m,\u001b[0m \u001b[1;36m5\u001b[0m\u001b[1;33m:\u001b[0m\u001b[1;34m\"다섯\"\u001b[0m\u001b[1;33m,\u001b[0m \u001b[1;36m6\u001b[0m\u001b[1;33m:\u001b[0m\u001b[1;34m\"여섯\"\u001b[0m\u001b[1;33m,\u001b[0m \u001b[1;36m7\u001b[0m\u001b[1;33m:\u001b[0m\u001b[1;34m\"일곱\"\u001b[0m\u001b[1;33m,\u001b[0m \u001b[1;36m8\u001b[0m\u001b[1;33m:\u001b[0m\u001b[1;34m\"여덟\"\u001b[0m\u001b[1;33m,\u001b[0m \u001b[1;36m9\u001b[0m\u001b[1;33m:\u001b[0m\u001b[1;34m\"아홉\"\u001b[0m\u001b[1;33m,\u001b[0m \u001b[1;36m10\u001b[0m\u001b[1;33m:\u001b[0m\u001b[1;34m\"열\"\u001b[0m\u001b[1;33m}\u001b[0m\u001b[1;33m\u001b[0m\u001b[1;33m\u001b[0m\u001b[0m\n\u001b[0;32m      2\u001b[0m \u001b[1;32mfor\u001b[0m \u001b[0mkey\u001b[0m \u001b[1;32min\u001b[0m \u001b[0ma\u001b[0m\u001b[1;33m:\u001b[0m\u001b[1;33m\u001b[0m\u001b[1;33m\u001b[0m\u001b[0m\n\u001b[1;32m----> 3\u001b[1;33m     \u001b[1;32mif\u001b[0m \u001b[0ma\u001b[0m \u001b[1;33m==\u001b[0m \u001b[0mkey\u001b[0m\u001b[1;33m(\u001b[0m\u001b[0ma\u001b[0m\u001b[1;33m,\u001b[0m\u001b[0ma\u001b[0m\u001b[1;33m[\u001b[0m\u001b[1;36m6\u001b[0m\u001b[1;33m]\u001b[0m\u001b[1;33m)\u001b[0m \u001b[1;32mor\u001b[0m \u001b[0mkey\u001b[0m\u001b[1;33m(\u001b[0m\u001b[0ma\u001b[0m\u001b[1;33m,\u001b[0m\u001b[0ma\u001b[0m\u001b[1;33m[\u001b[0m\u001b[1;36m3\u001b[0m\u001b[1;33m]\u001b[0m\u001b[1;33m)\u001b[0m \u001b[1;32mor\u001b[0m \u001b[0mkey\u001b[0m\u001b[1;33m(\u001b[0m\u001b[0ma\u001b[0m\u001b[1;33m,\u001b[0m\u001b[0ma\u001b[0m\u001b[1;33m[\u001b[0m\u001b[1;36m9\u001b[0m\u001b[1;33m]\u001b[0m\u001b[1;33m)\u001b[0m\u001b[1;33m:\u001b[0m\u001b[1;33m\u001b[0m\u001b[1;33m\u001b[0m\u001b[0m\n\u001b[0m\u001b[0;32m      4\u001b[0m         \u001b[0mprint\u001b[0m\u001b[1;33m(\u001b[0m\u001b[1;34m\"짝\"\u001b[0m\u001b[1;33m)\u001b[0m\u001b[1;33m\u001b[0m\u001b[1;33m\u001b[0m\u001b[0m\n",
      "\u001b[1;31mTypeError\u001b[0m: 'int' object is not callable"
     ]
    }
   ],
   "source": [
    "a = {1:\"하나\", 2:\"둘\", 3:\"셋\", 4:\"넷\", 5:\"다섯\", 6:\"여섯\", 7:\"일곱\", 8:\"여덟\", 9:\"아홉\", 10:\"열\"}\n",
    "for key in a:\n",
    "    if a == key(a,a[6]) or key(a,a[3]) or key(a,a[9]):\n",
    "        print(\"짝\")"
   ]
  },
  {
   "cell_type": "code",
   "execution_count": null,
   "metadata": {},
   "outputs": [],
   "source": []
  },
  {
   "cell_type": "code",
   "execution_count": 2,
   "metadata": {},
   "outputs": [
    {
     "name": "stdout",
     "output_type": "stream",
     "text": [
      "1\n",
      "2\n",
      "짝\n",
      "4\n",
      "5\n",
      "짝\n",
      "7\n",
      "8\n",
      "짝\n",
      "10\n"
     ]
    }
   ],
   "source": [
    "a = range(1,11)\n",
    "for i in a:\n",
    "    if i in [3,6,9]:\n",
    "        print('짝')\n",
    "    else:\n",
    "        print(i)"
   ]
  },
  {
   "cell_type": "code",
   "execution_count": null,
   "metadata": {},
   "outputs": [],
   "source": []
  },
  {
   "cell_type": "code",
   "execution_count": 3,
   "metadata": {},
   "outputs": [
    {
     "name": "stdout",
     "output_type": "stream",
     "text": [
      "1\n",
      "2\n",
      "3 짝\n",
      "4\n",
      "5\n",
      "6 짝\n",
      "7\n",
      "8\n",
      "9 짝\n",
      "10\n",
      "11\n",
      "12 짝\n",
      "13 짝\n",
      "14\n",
      "15 짝\n",
      "16 짝\n",
      "17\n",
      "18 짝\n",
      "19 짝\n",
      "20\n",
      "21 짝\n",
      "22\n",
      "23 짝\n",
      "24 짝\n",
      "25\n",
      "26 짝\n",
      "27 짝\n",
      "28\n",
      "29 짝\n",
      "30 짝\n",
      "31 짝\n",
      "32 짝\n",
      "33 짝짝\n",
      "34 짝\n",
      "35 짝\n",
      "36 짝짝\n",
      "37 짝\n",
      "38 짝\n",
      "39 짝짝\n",
      "40\n",
      "41\n",
      "42 짝\n",
      "43 짝\n",
      "44\n",
      "45 짝\n",
      "46 짝\n",
      "47\n",
      "48 짝\n",
      "49 짝\n",
      "50\n",
      "51 짝\n",
      "52\n",
      "53 짝\n",
      "54 짝\n",
      "55\n",
      "56 짝\n",
      "57 짝\n",
      "58\n",
      "59 짝\n",
      "60 짝\n",
      "61 짝\n",
      "62 짝\n",
      "63 짝짝\n",
      "64 짝\n",
      "65 짝\n",
      "66 짝짝\n",
      "67 짝\n",
      "68 짝\n",
      "69 짝짝\n",
      "70\n",
      "71\n",
      "72 짝\n",
      "73 짝\n",
      "74\n",
      "75 짝\n",
      "76 짝\n",
      "77\n",
      "78 짝\n",
      "79 짝\n",
      "80\n",
      "81 짝\n",
      "82\n",
      "83 짝\n",
      "84 짝\n",
      "85\n",
      "86 짝\n",
      "87 짝\n",
      "88\n",
      "89 짝\n",
      "90 짝\n",
      "91 짝\n",
      "92 짝\n",
      "93 짝짝\n",
      "94 짝\n",
      "95 짝\n",
      "96 짝짝\n",
      "97 짝\n",
      "98 짝\n",
      "99 짝짝\n",
      "100\n"
     ]
    }
   ],
   "source": [
    "a = range(1,101,1)\n",
    "for i in a: # i in [3,6,9]\n",
    "    if(i%10 == 3 or i%10 == 6 or i%10==9) and (i//10 == 3 or i//10 == 6 or i//10==9):\n",
    "        print(i,\"짝짝\") \n",
    "    elif (i%10 == 3 or i%10 == 6 or i%10==9 or i//10 == 3 or i//10 == 6 or i//10==9 or i%3 ==0 ):\n",
    "        print(i,\"짝\")\n",
    "\n",
    "    else:\n",
    "        print(i)\n",
    "    "
   ]
  },
  {
   "cell_type": "code",
   "execution_count": 4,
   "metadata": {},
   "outputs": [
    {
     "name": "stdout",
     "output_type": "stream",
     "text": [
      "1\n",
      "2\n",
      "3 짝\n",
      "4\n",
      "5\n",
      "6 짝\n",
      "7\n",
      "8\n",
      "9 짝\n",
      "10\n",
      "11\n",
      "12 짝\n",
      "13 짝\n",
      "14\n",
      "15 짝\n",
      "16 짝\n",
      "17\n",
      "18 짝\n",
      "19 짝\n",
      "20\n",
      "21 짝\n",
      "22\n",
      "23 짝\n",
      "24 짝\n",
      "25\n",
      "26 짝\n",
      "27 짝\n",
      "28\n",
      "29 짝\n",
      "30 짝\n",
      "31 짝\n",
      "32 짝\n",
      "33 짝짝\n",
      "34 짝\n",
      "35 짝\n",
      "36 짝짝\n",
      "37 짝\n",
      "38 짝\n",
      "39 짝짝\n",
      "40\n",
      "41\n",
      "42 짝\n",
      "43 짝\n",
      "44\n",
      "45 짝\n",
      "46 짝\n",
      "47\n",
      "48 짝\n",
      "49 짝\n",
      "50\n",
      "51 짝\n",
      "52\n",
      "53 짝\n",
      "54 짝\n",
      "55\n",
      "56 짝\n",
      "57 짝\n",
      "58\n",
      "59 짝\n",
      "60 짝\n",
      "61 짝\n",
      "62 짝\n",
      "63 짝짝\n",
      "64 짝\n",
      "65 짝\n",
      "66 짝짝\n",
      "67 짝\n",
      "68 짝\n",
      "69 짝짝\n",
      "70\n",
      "71\n",
      "72 짝\n",
      "73 짝\n",
      "74\n",
      "75 짝\n",
      "76 짝\n",
      "77\n",
      "78 짝\n",
      "79 짝\n",
      "80\n",
      "81 짝\n",
      "82\n",
      "83 짝\n",
      "84 짝\n",
      "85\n",
      "86 짝\n",
      "87 짝\n",
      "88\n",
      "89 짝\n",
      "90 짝\n",
      "91 짝\n",
      "92 짝\n",
      "93 짝짝\n",
      "94 짝\n",
      "95 짝\n",
      "96 짝짝\n",
      "97 짝\n",
      "98 짝\n",
      "99 짝짝\n",
      "100\n"
     ]
    }
   ],
   "source": [
    "a = range(1,101)\n",
    "for i in a:\n",
    "    if i%10 in (3,6,9) and i//10 in(3,6,9):\n",
    "        print(i,\"짝짝\")\n",
    "    elif i%10 in (3,6,9) or i//10 in (3,6,9) or i%3 == 0:\n",
    "         print(i,\"짝\")\n",
    "    else:\n",
    "        print(i)\n",
    "        "
   ]
  },
  {
   "cell_type": "code",
   "execution_count": 5,
   "metadata": {},
   "outputs": [
    {
     "name": "stdout",
     "output_type": "stream",
     "text": [
      "[3, 6, 9, 12, 15, 18, 21, 24, 27, 30, 33, 36, 39, 42, 45, 48, 51, 54, 57, 60, 63, 66, 69, 72, 75, 78, 81, 84, 87, 90, 93, 96, 99]\n"
     ]
    }
   ],
   "source": [
    "aa = [i for i in range(1,101) if i%3 ==0 ]\n",
    "print(aa)"
   ]
  },
  {
   "cell_type": "code",
   "execution_count": null,
   "metadata": {},
   "outputs": [],
   "source": []
  },
  {
   "cell_type": "code",
   "execution_count": null,
   "metadata": {},
   "outputs": [],
   "source": []
  },
  {
   "cell_type": "code",
   "execution_count": 6,
   "metadata": {},
   "outputs": [
    {
     "data": {
      "text/plain": [
       "[2, 4, 6, 8]"
      ]
     },
     "execution_count": 6,
     "metadata": {},
     "output_type": "execute_result"
    }
   ],
   "source": [
    "a = [i for I in range(10)]\n",
    "a = [i for I in \"ant\"]\n",
    "a = [i for i in {\"딕\":1, \"셔\":2, \"너\":3}]\n",
    "a = [i for i in [1,2,3]]\n",
    "[i for i in range(1,10) if i%2 ==0]"
   ]
  },
  {
   "cell_type": "markdown",
   "metadata": {},
   "source": [
    "# 문제3 LIST COMP사용하여 369 만들어라"
   ]
  },
  {
   "cell_type": "code",
   "execution_count": 7,
   "metadata": {},
   "outputs": [
    {
     "name": "stdout",
     "output_type": "stream",
     "text": [
      "[1, 2, '짝', 4, 5, '짝', 7, 8, '짝', 10, 11, '짝', '짝', 14, '짝', '짝', 17, '짝', '짝', 20, '짝', 22, '짝', '짝', 25, '짝', '짝', 28, '짝', '짝', '짝', '짝', '짝짝', '짝', '짝', '짝짝', '짝', '짝', '짝짝', 40, 41, '짝', '짝', 44, '짝', '짝', 47, '짝', '짝', 50, '짝', 52, '짝', '짝', 55, '짝', '짝', 58, '짝', '짝', '짝', '짝', '짝짝', '짝', '짝', '짝짝', '짝', '짝', '짝짝', 70, 71, '짝', '짝', 74, '짝', '짝', 77, '짝', '짝', 80, '짝', 82, '짝', '짝', 85, '짝', '짝', 88, '짝', '짝', '짝', '짝', '짝짝', '짝', '짝', '짝짝', '짝', '짝', '짝짝', 100]\n"
     ]
    }
   ],
   "source": [
    "aa = ['짝짝' if (i%10 in (3,6,9) and i//10 in (3,6,9)) else '짝' if i%10 in (3,6,9) or i//10 in (3,6,9) or i%3 == 0 else i for i in range(1,101)]\n",
    "print(aa)\n",
    "\n",
    "\n"
   ]
  },
  {
   "cell_type": "code",
   "execution_count": 8,
   "metadata": {
    "scrolled": true
   },
   "outputs": [
    {
     "ename": "SyntaxError",
     "evalue": "invalid syntax (<ipython-input-8-4ea701ffd30d>, line 2)",
     "output_type": "error",
     "traceback": [
      "\u001b[1;36m  File \u001b[1;32m\"<ipython-input-8-4ea701ffd30d>\"\u001b[1;36m, line \u001b[1;32m2\u001b[0m\n\u001b[1;33m    else '짝' i%10 in (3,6,9) or i//10 in (3,6,9) or i%3 == 0\u001b[0m\n\u001b[1;37m             ^\u001b[0m\n\u001b[1;31mSyntaxError\u001b[0m\u001b[1;31m:\u001b[0m invalid syntax\n"
     ]
    }
   ],
   "source": [
    "aa == ['짝짝' if (i%10 in (3,6,9) and i//10 in (3,6,9)) \n",
    "       else '짝' i%10 in (3,6,9) or i//10 in (3,6,9) or i%3 == 0 \n",
    "       else i for i in range(1,101)]"
   ]
  },
  {
   "cell_type": "code",
   "execution_count": null,
   "metadata": {},
   "outputs": [],
   "source": []
  },
  {
   "cell_type": "markdown",
   "metadata": {},
   "source": [
    "# 함수(function)"
   ]
  },
  {
   "cell_type": "code",
   "execution_count": 9,
   "metadata": {},
   "outputs": [
    {
     "ename": "SyntaxError",
     "evalue": "invalid syntax (<ipython-input-9-8928be5600c5>, line 1)",
     "output_type": "error",
     "traceback": [
      "\u001b[1;36m  File \u001b[1;32m\"<ipython-input-9-8928be5600c5>\"\u001b[1;36m, line \u001b[1;32m1\u001b[0m\n\u001b[1;33m    for<반복변수(아이템)> in <반복범위(집합값)>:\u001b[0m\n\u001b[1;37m       ^\u001b[0m\n\u001b[1;31mSyntaxError\u001b[0m\u001b[1;31m:\u001b[0m invalid syntax\n"
     ]
    }
   ],
   "source": [
    "for<반복변수(아이템)> in <반복범위(집합값)>:\n",
    "    <구문>\n",
    "[<구문><반복변수(아이템)> in <반복범위(집합값)>]\n"
   ]
  },
  {
   "cell_type": "code",
   "execution_count": 10,
   "metadata": {},
   "outputs": [
    {
     "name": "stdout",
     "output_type": "stream",
     "text": [
      "3\n",
      "9\n"
     ]
    }
   ],
   "source": [
    "def sum(a,b):\n",
    "    c = a+b\n",
    "    print(c)\n",
    "sum(1,2)\n",
    "sum(4,5)"
   ]
  },
  {
   "cell_type": "markdown",
   "metadata": {},
   "source": [
    "# 문제5 def 함수를 사용하여 369를 만들어라"
   ]
  },
  {
   "cell_type": "code",
   "execution_count": 11,
   "metadata": {},
   "outputs": [
    {
     "data": {
      "text/plain": [
       "[1,\n",
       " 2,\n",
       " '짝',\n",
       " 4,\n",
       " 5,\n",
       " '짝',\n",
       " 7,\n",
       " 8,\n",
       " '짝',\n",
       " 10,\n",
       " 11,\n",
       " '짝',\n",
       " '짝',\n",
       " 14,\n",
       " '짝',\n",
       " '짝',\n",
       " 17,\n",
       " '짝',\n",
       " '짝',\n",
       " 20,\n",
       " '짝',\n",
       " 22,\n",
       " '짝',\n",
       " '짝',\n",
       " 25,\n",
       " '짝',\n",
       " '짝',\n",
       " 28,\n",
       " '짝',\n",
       " '짝',\n",
       " '짝',\n",
       " '짝',\n",
       " '짝짝',\n",
       " '짝',\n",
       " '짝',\n",
       " '짝짝',\n",
       " '짝',\n",
       " '짝',\n",
       " '짝짝',\n",
       " 40,\n",
       " 41,\n",
       " '짝',\n",
       " '짝',\n",
       " 44,\n",
       " '짝',\n",
       " '짝',\n",
       " 47,\n",
       " '짝',\n",
       " '짝',\n",
       " 50,\n",
       " '짝',\n",
       " 52,\n",
       " '짝',\n",
       " '짝',\n",
       " 55,\n",
       " '짝',\n",
       " '짝',\n",
       " 58,\n",
       " '짝',\n",
       " '짝',\n",
       " '짝',\n",
       " '짝',\n",
       " '짝짝',\n",
       " '짝',\n",
       " '짝',\n",
       " '짝짝',\n",
       " '짝',\n",
       " '짝',\n",
       " '짝짝',\n",
       " 70,\n",
       " 71,\n",
       " '짝',\n",
       " '짝',\n",
       " 74,\n",
       " '짝',\n",
       " '짝',\n",
       " 77,\n",
       " '짝',\n",
       " '짝',\n",
       " 80,\n",
       " '짝',\n",
       " 82,\n",
       " '짝',\n",
       " '짝',\n",
       " 85,\n",
       " '짝',\n",
       " '짝',\n",
       " 88,\n",
       " '짝',\n",
       " '짝',\n",
       " '짝',\n",
       " '짝',\n",
       " '짝짝',\n",
       " '짝',\n",
       " '짝',\n",
       " '짝짝',\n",
       " '짝',\n",
       " '짝',\n",
       " '짝짝',\n",
       " 100]"
      ]
     },
     "execution_count": 11,
     "metadata": {},
     "output_type": "execute_result"
    }
   ],
   "source": [
    "def game_369():\n",
    "    aa = ['짝짝' if (i%10 in (3,6,9) and i//10 in (3,6,9)) \n",
    "          else '짝' if i%10 in (3,6,9) or i//10 in (3,6,9) or i%3 == 0 \n",
    "          else i for i in range(1,101)]\n",
    "    return list(aa)\n",
    "\n",
    "\n",
    "game_369()\n"
   ]
  },
  {
   "cell_type": "markdown",
   "metadata": {},
   "source": [
    "# Lambda"
   ]
  },
  {
   "cell_type": "code",
   "execution_count": 12,
   "metadata": {},
   "outputs": [
    {
     "ename": "SyntaxError",
     "evalue": "invalid syntax (<ipython-input-12-06267cca37ae>, line 1)",
     "output_type": "error",
     "traceback": [
      "\u001b[1;36m  File \u001b[1;32m\"<ipython-input-12-06267cca37ae>\"\u001b[1;36m, line \u001b[1;32m1\u001b[0m\n\u001b[1;33m    함수명 = lamda<인수>: <구문(공식)>\u001b[0m\n\u001b[1;37m                   ^\u001b[0m\n\u001b[1;31mSyntaxError\u001b[0m\u001b[1;31m:\u001b[0m invalid syntax\n"
     ]
    }
   ],
   "source": [
    "함수명 = lamda<인수>: <구문(공식)>\n",
    "aa = ['짝짝' if ~~~~~~~~~else '짝' if ~~~ else i for i in range()]\n"
   ]
  },
  {
   "cell_type": "code",
   "execution_count": 18,
   "metadata": {},
   "outputs": [
    {
     "data": {
      "text/plain": [
       "3"
      ]
     },
     "execution_count": 18,
     "metadata": {},
     "output_type": "execute_result"
    }
   ],
   "source": [
    "sum = lambda a,b: a+b #연산후 값을 가지고 있지 않는다\n",
    "sum(1,2)"
   ]
  },
  {
   "cell_type": "code",
   "execution_count": 13,
   "metadata": {},
   "outputs": [
    {
     "data": {
      "text/plain": [
       "<map at 0x52cbaa8>"
      ]
     },
     "execution_count": 13,
     "metadata": {},
     "output_type": "execute_result"
    }
   ],
   "source": [
    " map(lambda x : x**2, range(10))"
   ]
  },
  {
   "cell_type": "code",
   "execution_count": 14,
   "metadata": {},
   "outputs": [
    {
     "data": {
      "text/plain": [
       "[0, 1, 4, 9, 16, 25, 36, 49, 64, 81]"
      ]
     },
     "execution_count": 14,
     "metadata": {},
     "output_type": "execute_result"
    }
   ],
   "source": [
    "list( map(lambda x : x**2, range(10))) ##"
   ]
  },
  {
   "cell_type": "code",
   "execution_count": 15,
   "metadata": {},
   "outputs": [
    {
     "data": {
      "text/plain": [
       "[0, 1, 2, 3, 4]"
      ]
     },
     "execution_count": 15,
     "metadata": {},
     "output_type": "execute_result"
    }
   ],
   "source": [
    "list(filter(lambda x: x<5, range(10)))"
   ]
  },
  {
   "cell_type": "code",
   "execution_count": 16,
   "metadata": {},
   "outputs": [
    {
     "name": "stdout",
     "output_type": "stream",
     "text": [
      "<function <lambda> at 0x05800100>\n"
     ]
    }
   ],
   "source": [
    "## \n",
    "#game = lambda i :['짝짝' if ~~~~ else '짝' if ~~~~~~~~~ else i for i in range ()]\n",
    "game = lambda i:['짝짝' if x%3 in (3,6,9) and x//10 in (3,6,9) else \"짝\" if x%3==0 or x//10==0 or i%3 == 0 else i for i in range()]\n",
    "print(game)\n"
   ]
  },
  {
   "cell_type": "code",
   "execution_count": null,
   "metadata": {},
   "outputs": [],
   "source": [
    "bb = list(map(lambda x : '짝짝' if x%3==0 and x//10==0 else \"짝\" if x%3==0 or x//10==0 or i%3 == 0 else x, range(1,101))) \n",
    "print(bb)\n"
   ]
  },
  {
   "cell_type": "code",
   "execution_count": null,
   "metadata": {},
   "outputs": [],
   "source": []
  },
  {
   "cell_type": "code",
   "execution_count": null,
   "metadata": {},
   "outputs": [],
   "source": [
    "sum = lambda a,b: a+b\n",
    "sum(1,2)"
   ]
  },
  {
   "cell_type": "code",
   "execution_count": null,
   "metadata": {},
   "outputs": [],
   "source": [
    "sum = map(lambda x: x**2, range(10))\n",
    "#equla to\n",
    "#for I in range(10):\n",
    "#    print(i**2)"
   ]
  },
  {
   "cell_type": "code",
   "execution_count": 10,
   "metadata": {},
   "outputs": [
    {
     "name": "stdout",
     "output_type": "stream",
     "text": [
      "41.3 ns ± 0.274 ns per loop (mean ± std. dev. of 7 runs, 10000000 loops each)\n"
     ]
    }
   ],
   "source": [
    "%timeit [1,2,3,4,5]     ### "
   ]
  },
  {
   "cell_type": "code",
   "execution_count": 11,
   "metadata": {},
   "outputs": [
    {
     "name": "stdout",
     "output_type": "stream",
     "text": [
      "7.1 ns ± 0.108 ns per loop (mean ± std. dev. of 7 runs, 100000000 loops each)\n"
     ]
    }
   ],
   "source": [
    "%timeit (1,2,3,4,5)############ tuple이 연산이 더빠르다"
   ]
  },
  {
   "cell_type": "markdown",
   "metadata": {},
   "source": [
    "# While(p.86)        초기화 값을 꼭 넣어야한다"
   ]
  },
  {
   "cell_type": "code",
   "execution_count": null,
   "metadata": {},
   "outputs": [],
   "source": [
    "i =0\n",
    "sum = 0  #초기값\n",
    "while sum < 20:\n",
    "    i = i+1 #i+=1 증감연산    (for 는 자동으로 증감 시켜줌)\n",
    "    sum = sum+i\n",
    "    print(i,sum)\n",
    "    \n",
    "## 결과값을 보면 6 21이 출력 되있다\n",
    "## while문은 \"\"\"\"\"\"\"\"\"\"\"\"\"\"\"\"\"\"\"\"\"\"\"\"\"\"\"\"\" 조건이 맞을때 까지 \"\"\"\"\"\" 한다\n",
    "## 지정된 값을 가지고 연산해야 한다면 while문은 적합하지 않다."
   ]
  },
  {
   "cell_type": "code",
   "execution_count": null,
   "metadata": {},
   "outputs": [],
   "source": [
    "for i in range(20):\n",
    "    if sum < 20:\n",
    "        sum += i\n",
    "        print(i,sum)"
   ]
  },
  {
   "cell_type": "code",
   "execution_count": null,
   "metadata": {},
   "outputs": [],
   "source": [
    "sum = 0\n",
    "for i in range(1,20):\n",
    "    #sum = 0  # 여기다 놓으면 SUM이 계속 0이 된다\n",
    "    sum+=i\n",
    "    if sum > 20:\n",
    "        break\n",
    "    else:\n",
    "        print(i,sum)"
   ]
  },
  {
   "cell_type": "markdown",
   "metadata": {},
   "source": [
    "# while TURE"
   ]
  },
  {
   "cell_type": "code",
   "execution_count": null,
   "metadata": {},
   "outputs": [],
   "source": [
    "#while True:\n",
    "#    print(\"출력\")"
   ]
  },
  {
   "cell_type": "code",
   "execution_count": null,
   "metadata": {},
   "outputs": [],
   "source": [
    "i =0\n",
    "while True:\n",
    "    i = i+1 #i+=1 증감연산    (for 는 자동으로 증감 시켜줌)\n",
    "    if i>3:\n",
    "        break\n",
    "    print(i)"
   ]
  },
  {
   "cell_type": "markdown",
   "metadata": {},
   "source": [
    "# BREAK CONTINUE PASS "
   ]
  },
  {
   "cell_type": "code",
   "execution_count": null,
   "metadata": {},
   "outputs": [],
   "source": [
    "i =0\n",
    "while True:\n",
    "    i = i+1 #i+=1 증감연산    (for 는 자동으로 증감 시켜줌)\n",
    "    if i==3:\n",
    "        break\n",
    "    print(i)"
   ]
  },
  {
   "cell_type": "code",
   "execution_count": null,
   "metadata": {},
   "outputs": [],
   "source": [
    "for i in range(5):\n",
    "    if(i==2):\n",
    "        continue #### 조건을 빼고 진행해라\n",
    "    print(i)"
   ]
  },
  {
   "cell_type": "code",
   "execution_count": null,
   "metadata": {},
   "outputs": [],
   "source": [
    "for i in range(5):\n",
    "    if(i==2):\n",
    "        pass #### \n",
    "    print(i)"
   ]
  },
  {
   "cell_type": "code",
   "execution_count": null,
   "metadata": {},
   "outputs": [],
   "source": [
    "def avatar(a,b):\n",
    "    pass ####### 동작을 확인할때 쓴다\n",
    "avatar(1,2)"
   ]
  },
  {
   "cell_type": "markdown",
   "metadata": {},
   "source": [
    "# (p.96)"
   ]
  },
  {
   "cell_type": "code",
   "execution_count": null,
   "metadata": {},
   "outputs": [],
   "source": [
    "print(\"abcd\"+\"aasdasd\")"
   ]
  },
  {
   "cell_type": "code",
   "execution_count": 19,
   "metadata": {},
   "outputs": [
    {
     "name": "stdout",
     "output_type": "stream",
     "text": [
      "repetitive 1 summation 1\n",
      "repetitive 2 summation 3\n",
      "repetitive 3 summation 6\n",
      "repetitive 4 summation 10\n",
      "repetitive 5 summation 15\n"
     ]
    }
   ],
   "source": [
    "sum = 0\n",
    "for i in range(1,10):\n",
    "    sum+=i\n",
    "    if sum>20:\n",
    "        continue\n",
    "    else:\n",
    "        print('repetitive', i , 'summation', sum)"
   ]
  },
  {
   "cell_type": "code",
   "execution_count": 20,
   "metadata": {},
   "outputs": [
    {
     "name": "stdout",
     "output_type": "stream",
     "text": [
      "repetitive 1 summation 1\n",
      "repetitive 2 summation 3\n",
      "repetitive 3 summation 6\n",
      "repetitive 4 summation 10\n",
      "repetitive 5 summation 15\n"
     ]
    }
   ],
   "source": [
    "sum = 0\n",
    "for i in range(1,10):\n",
    "    sum+=i\n",
    "    if sum>20:\n",
    "        break#특정 조건시 멈춘다\n",
    "    else:\n",
    "        print('repetitive', i , 'summation', sum)"
   ]
  },
  {
   "cell_type": "code",
   "execution_count": 24,
   "metadata": {},
   "outputs": [
    {
     "name": "stdout",
     "output_type": "stream",
     "text": [
      "0\n",
      "1\n",
      "2\n",
      "3\n",
      "4\n",
      "5\n",
      "7\n",
      "8\n",
      "9\n"
     ]
    }
   ],
   "source": [
    "for i in range(10):\n",
    "    if i == 6:\n",
    "        #break\n",
    "        #continue\n",
    "        pass\n",
    "    else:\n",
    "        print(i)"
   ]
  },
  {
   "cell_type": "code",
   "execution_count": null,
   "metadata": {},
   "outputs": [],
   "source": []
  },
  {
   "cell_type": "markdown",
   "metadata": {},
   "source": [
    "# 개행문자(p.97) + 추가 내용"
   ]
  },
  {
   "cell_type": "code",
   "execution_count": 25,
   "metadata": {},
   "outputs": [
    {
     "name": "stdout",
     "output_type": "stream",
     "text": [
      "하나\n",
      "둘\t셋\n",
      "넷\r",
      "다섯\u0000여섯\\\n"
     ]
    }
   ],
   "source": [
    "print('하나\\n둘\\t셋') #문자열 안에서만 쓰는 것이다 \n",
    "print('넷\\r다섯\\0여섯\\\\')\n",
    "\n",
    "\n",
    "#      \\n\n",
    "#      \\t\n",
    "#      \\r\n",
    "#      \\0\n",
    "#      \\\\"
   ]
  },
  {
   "cell_type": "markdown",
   "metadata": {},
   "source": [
    "# 문자열 포맷팅  (p120)"
   ]
  },
  {
   "cell_type": "code",
   "execution_count": 26,
   "metadata": {},
   "outputs": [
    {
     "name": "stdout",
     "output_type": "stream",
     "text": [
      "1000000000013\n",
      "$$$$$10\n",
      "1010\n",
      "a\n",
      "10\n",
      "12\n",
      "\n",
      "\n",
      "0b1010\n",
      "0xa\n",
      "4\n",
      "3.400000\n",
      "하나\n"
     ]
    }
   ],
   "source": [
    "print('{0}000000000{1}'.format(10,13))\n",
    "print('{0:$>7}'. format(10))\n",
    "\n",
    "\n",
    "\n",
    "print('{0:b}'. format(10))\n",
    "print('{0:x}'. format(10))\n",
    "print('{0:d}'. format(10))\n",
    "print('{0:o}'. format(10))\n",
    "print('{0:c}'. format(10))\n",
    "print('{0:#b}'. format(10))\n",
    "print('{0:#x}'. format(10))\n",
    "print('%d' %4.4)  #integer\n",
    "print('%f' %3.4)  # float\n",
    "print('%s' % '하나')  # string\n"
   ]
  },
  {
   "cell_type": "code",
   "execution_count": null,
   "metadata": {},
   "outputs": [],
   "source": [
    "print('{0:$=+7}'. format(10))\n",
    "\n",
    "\n",
    "\n",
    "print('{0:$>+7}'. format(10))\n",
    "print('{0:$<+7}'. format(10))\n",
    "print('{0:*<+7}'. format(10))\n",
    "\n",
    "\n",
    "print('{0:$>-7}'. format(10))   #### - 는 안씀 그래서 안나옴\n",
    "print('{0:$<-7}'. format(10))"
   ]
  },
  {
   "cell_type": "markdown",
   "metadata": {},
   "source": [
    "# 키보드입력"
   ]
  },
  {
   "cell_type": "code",
   "execution_count": null,
   "metadata": {},
   "outputs": [],
   "source": [
    "a = input(\"insert number:\")\n",
    "area = int(a)**2    ### input 입력은 str으로 인식하기 때문에 INTEGER 변환을 해야한다\n",
    "print(area)"
   ]
  },
  {
   "cell_type": "markdown",
   "metadata": {},
   "source": [
    "#  데이터파일 open (p.104-105)"
   ]
  },
  {
   "cell_type": "markdown",
   "metadata": {},
   "source": [
    "f = open(\"filename\", \"mode\" ) 파일 입출력 구조"
   ]
  },
  {
   "cell_type": "markdown",
   "metadata": {},
   "source": [
    "# txt파일 생성"
   ]
  },
  {
   "cell_type": "code",
   "execution_count": null,
   "metadata": {},
   "outputs": [],
   "source": [
    "%%writefile a.txt  \n",
    "one\n",
    "two\n",
    "three\n"
   ]
  },
  {
   "cell_type": "code",
   "execution_count": null,
   "metadata": {},
   "outputs": [],
   "source": []
  },
  {
   "cell_type": "code",
   "execution_count": null,
   "metadata": {},
   "outputs": [],
   "source": [
    "f = open(\"a.txt\",\"r\")\n",
    "print(list(f))"
   ]
  },
  {
   "cell_type": "code",
   "execution_count": null,
   "metadata": {},
   "outputs": [],
   "source": [
    "f = open('a.txt','w')\n",
    "b = 'Seokmok Chung'\n",
    "c = 'jake'\n",
    "f.write(b)\n",
    "f.write(c)\n",
    "f.close()"
   ]
  },
  {
   "cell_type": "code",
   "execution_count": null,
   "metadata": {},
   "outputs": [],
   "source": [
    "f=open('a.txt', 'r')\n",
    "f.read()\n",
    "f.close()"
   ]
  },
  {
   "cell_type": "code",
   "execution_count": null,
   "metadata": {},
   "outputs": [],
   "source": [
    "f=open('a.txt', 'r')\n",
    "f.readline()\n",
    "f.close"
   ]
  },
  {
   "cell_type": "code",
   "execution_count": null,
   "metadata": {},
   "outputs": [],
   "source": [
    "f = open('a.txt', 'r')\n",
    "line= f.readline()\n",
    "while line:\n",
    "    print(line)\n",
    "    line = f.readline()\n",
    "f.close()"
   ]
  },
  {
   "cell_type": "markdown",
   "metadata": {},
   "source": [
    "# WITH     ; WITH__________AS"
   ]
  },
  {
   "cell_type": "code",
   "execution_count": null,
   "metadata": {},
   "outputs": [],
   "source": [
    "with open(<파일명>, <모드>) as f:\n",
    "    <구문>"
   ]
  },
  {
   "cell_type": "code",
   "execution_count": null,
   "metadata": {},
   "outputs": [],
   "source": [
    "with open('a.txt', 'r') as f:\n",
    "    #line = f.readline()\n",
    "    line = f.readlines()\n",
    "    print(line)\n",
    "    "
   ]
  },
  {
   "cell_type": "code",
   "execution_count": null,
   "metadata": {},
   "outputs": [],
   "source": [
    "a=5 #전(체)역변수\n",
    "def func1():\n",
    "    a = 1 \n",
    "    print(a)\n",
    "def func2():\n",
    "    a=2\n",
    "    print(a)\n",
    "def func3():\n",
    "    print(a)\n",
    "def func4():\n",
    "    global a  #지역변수 > 전역변수\n",
    "    a = 4\n",
    "    print(a)"
   ]
  },
  {
   "cell_type": "code",
   "execution_count": null,
   "metadata": {},
   "outputs": [],
   "source": [
    "func1()\n",
    "func2()\n",
    "func3()\n",
    "func4()"
   ]
  },
  {
   "cell_type": "code",
   "execution_count": null,
   "metadata": {},
   "outputs": [],
   "source": [
    "list(tuple())\n",
    "tuple(list())\n"
   ]
  },
  {
   "cell_type": "code",
   "execution_count": null,
   "metadata": {},
   "outputs": [],
   "source": [
    "a=[1,2,4]\n",
    "max(a)\n",
    "#min(a)"
   ]
  },
  {
   "cell_type": "code",
   "execution_count": null,
   "metadata": {},
   "outputs": [],
   "source": [
    "abs(-4)"
   ]
  },
  {
   "cell_type": "markdown",
   "metadata": {},
   "source": [
    "# ----------------------------------APP-----------------------------------------------------"
   ]
  },
  {
   "cell_type": "code",
   "execution_count": null,
   "metadata": {},
   "outputs": [],
   "source": [
    "from tkinter import *  "
   ]
  },
  {
   "cell_type": "code",
   "execution_count": null,
   "metadata": {},
   "outputs": [],
   "source": [
    "window = Tk()"
   ]
  },
  {
   "cell_type": "code",
   "execution_count": null,
   "metadata": {},
   "outputs": [],
   "source": [
    "window.title('처음 만드는 앱')"
   ]
  },
  {
   "cell_type": "code",
   "execution_count": null,
   "metadata": {},
   "outputs": [],
   "source": [
    "label = Label(window, text = 'hello world')"
   ]
  },
  {
   "cell_type": "code",
   "execution_count": null,
   "metadata": {},
   "outputs": [],
   "source": [
    "label.pack(padx=200, pady=100)"
   ]
  },
  {
   "cell_type": "code",
   "execution_count": null,
   "metadata": {},
   "outputs": [],
   "source": [
    "window.mainloop() # 앱 실행"
   ]
  },
  {
   "cell_type": "code",
   "execution_count": null,
   "metadata": {},
   "outputs": [],
   "source": [
    "from tkinter import *\n",
    "window = Tk()\n",
    "window.title('처음 만드는 앱')\n",
    "btn_1 = Button(window, text= 'close',command=window.destroy)\n",
    "def tog():\n",
    "    if window.cget('bg')== 'magenta':\n",
    "        window.configure(bg='gray')\n",
    "    else:\n",
    "        window.configure(bg= 'magenta')\n",
    "        \n",
    "btn_tog = Button(window,text=\"switch\", command=tog)\n",
    "btn_1.pack(padx= 150, pady = 20)\n",
    "btn_tog.pack(padx=300,pady=20)\n",
    "window.mainloop()\n"
   ]
  },
  {
   "cell_type": "code",
   "execution_count": null,
   "metadata": {},
   "outputs": [],
   "source": [
    "from tkinter import *\n",
    "import tkinter.messagebox as box\n",
    "window = Tk()\n",
    "window.title('처음 만드는 앱')\n",
    "def dialog():\n",
    "    var = box.askyesno(\"message box\", \"continue?\")\n",
    "    if var == 1:\n",
    "        box.showinfo('yes','continue?')\n",
    "    else:\n",
    "        box.showwarning('No')\n",
    "btn_tog = Button(window,text=\"switch\", command=dialog)\n",
    "btn_tog.pack(padx= 150, pady = 50)\n",
    "window.mainloop()"
   ]
  },
  {
   "cell_type": "code",
   "execution_count": 2,
   "metadata": {},
   "outputs": [],
   "source": [
    "from tkinter import *\n",
    "import tkinter.messagebox as box\n",
    "window = Tk()\n",
    "window.title('처음 만드는 앱')\n",
    "frame = Frame(window)\n",
    "entry = Entry(frame)\n",
    "def dialog():\n",
    "    var = box.showinfo('message box', \"continue?\" + entry.get())\n",
    "btn_tog = Button(frame,text =\"switch\", command=dialog)\n",
    "btn_tog.pack(side = RIGHT, padx = 5)\n",
    "entry.pack(side = LEFT)\n",
    "frame.pack(padx= 150, pady = 50)\n",
    "window.mainloop()"
   ]
  },
  {
   "cell_type": "code",
   "execution_count": 3,
   "metadata": {},
   "outputs": [],
   "source": [
    "from tkinter import *\n",
    "import tkinter.messagebox as box\n",
    "window = Tk()\n",
    "window.title('처음 만드는 앱')\n",
    "frame = Frame(window)\n",
    "listbox = Listbox(frame)\n",
    "listbox.insert(1,'sql')\n",
    "listbox.insert(2,'python')\n",
    "listbox.insert(3,'R')\n",
    "def dialog():\n",
    "    box.showinfo('selection', listbox.get(listbox.curselection()))\n",
    "box = Button(frame,text =\"switch\", command=dialog)\n",
    "box.pack(padx = 30, pady = 30)\n",
    "listbox.pack(side = RIGHT, padx = 5)\n",
    "frame.pack(padx= 30, pady = 30)\n",
    "window.mainloop()"
   ]
  },
  {
   "cell_type": "code",
   "execution_count": 1,
   "metadata": {},
   "outputs": [],
   "source": [
    "from tkinter import *\n",
    "import tkinter.messagebox as box\n",
    "window = Tk()#instance(인스턴스)\n",
    "window.title('처음 만드는 앱')\n",
    "img = PhotoImage(file='tenor.gif')\n",
    "label = Label(window,image=img,bg = 'yellow')\n",
    "small_img = PhotoImage.subsample(img,x=2,y=2)\n",
    "btn=Button(window,image=small_img)\n",
    "txt = Text(window, width = 25, height = 7)\n",
    "txt.image_create('1.0', image = small_img)\n",
    "txt.insert('1.1', 'python')\n",
    "can=\\\n",
    "Canvas(window,width = 100, height = 100, bg ='cyan')\n",
    "can.create_image((50,50), image = small_img)\n",
    "can.create_line(0,0,100,100, width= 25, fill = 'yellow')\n",
    "label.pack(side = TOP)\n",
    "btn.pack(side=LEFT, padx=10)\n",
    "txt.pack(side=LEFT)\n",
    "can.pack(side=LEFT, padx=10)\n",
    "window.mainloop()\n",
    "\n"
   ]
  },
  {
   "cell_type": "code",
   "execution_count": null,
   "metadata": {},
   "outputs": [],
   "source": [
    "\n"
   ]
  },
  {
   "cell_type": "code",
   "execution_count": 4,
   "metadata": {},
   "outputs": [
    {
     "name": "stdout",
     "output_type": "stream",
     "text": [
      "hi there, everyone!\n"
     ]
    }
   ],
   "source": [
    "import tkinter as tk\n",
    "\n",
    "class Application(tk.Frame):\n",
    "    def __init__(self, master=None):\n",
    "        super().__init__(master)\n",
    "        self.master = master\n",
    "        self.pack()\n",
    "        self.create_widgets()\n",
    "\n",
    "    def create_widgets(self):\n",
    "        self.hi_there = tk.Button(self)\n",
    "        self.hi_there[\"text\"] = \"Hello World\\n(click me)\"\n",
    "        self.hi_there[\"command\"] = self.say_hi\n",
    "        self.hi_there.pack(side=\"top\")\n",
    "\n",
    "        self.quit = tk.Button(self, text=\"QUIT\", fg=\"red\",\n",
    "                              command=self.master.destroy)\n",
    "        self.quit.pack(side=\"bottom\")\n",
    "\n",
    "    def say_hi(self):\n",
    "        print(\"hi there, everyone!\")\n",
    "\n",
    "root = tk.Tk()\n",
    "window = Application(master=root)\n",
    "window.mainloop()"
   ]
  },
  {
   "cell_type": "code",
   "execution_count": null,
   "metadata": {},
   "outputs": [],
   "source": [
    "from "
   ]
  },
  {
   "cell_type": "markdown",
   "metadata": {},
   "source": [
    "# 문자열 다루기(p.158)"
   ]
  },
  {
   "cell_type": "code",
   "execution_count": null,
   "metadata": {},
   "outputs": [],
   "source": [
    "str = \"i, am, a, boy\"\n",
    "str.split(',')\n"
   ]
  },
  {
   "cell_type": "code",
   "execution_count": null,
   "metadata": {},
   "outputs": [],
   "source": [
    "str ='aaapythonaaa'"
   ]
  },
  {
   "cell_type": "code",
   "execution_count": null,
   "metadata": {},
   "outputs": [],
   "source": [
    "str.strip('a')   # rip if off"
   ]
  },
  {
   "cell_type": "code",
   "execution_count": null,
   "metadata": {},
   "outputs": [],
   "source": [
    "'aaapythonaaa'.split('a')"
   ]
  },
  {
   "cell_type": "code",
   "execution_count": null,
   "metadata": {},
   "outputs": [],
   "source": [
    "'aaa'+'bbb' #문자열 붙이기"
   ]
  },
  {
   "cell_type": "code",
   "execution_count": null,
   "metadata": {},
   "outputs": [],
   "source": [
    "str = 'aaapythonaaa'\n",
    "str.find('aaa')"
   ]
  },
  {
   "cell_type": "code",
   "execution_count": null,
   "metadata": {},
   "outputs": [],
   "source": [
    "str_f='python code'\n",
    "print('찾는 문자열', str_f.find('python'))\n",
    "print('찾는 문자열', str_f.find('code'))"
   ]
  },
  {
   "cell_type": "markdown",
   "metadata": {},
   "source": [
    "# UPPER LOWER(p.172)"
   ]
  },
  {
   "cell_type": "code",
   "execution_count": null,
   "metadata": {},
   "outputs": [],
   "source": [
    "str_f='python code'\n",
    "print('찾는 문자열', str_f.isupper())  #대문자\n",
    "print('찾는 문자열', str_f.islower())  #소문자"
   ]
  },
  {
   "cell_type": "code",
   "execution_count": null,
   "metadata": {},
   "outputs": [],
   "source": [
    "print('python'.upper())\n",
    "print(\"PYTHON\".lower())"
   ]
  },
  {
   "cell_type": "code",
   "execution_count": null,
   "metadata": {},
   "outputs": [],
   "source": [
    "%%writefile a.py\n",
    "def sum(i):\n",
    "    i = i**2\n",
    "    print(i)\n",
    "    \n",
    "sum(4)"
   ]
  },
  {
   "cell_type": "markdown",
   "metadata": {},
   "source": [
    "# 모듈불러오기"
   ]
  },
  {
   "cell_type": "code",
   "execution_count": null,
   "metadata": {},
   "outputs": [],
   "source": [
    "import a"
   ]
  },
  {
   "cell_type": "code",
   "execution_count": null,
   "metadata": {},
   "outputs": [],
   "source": [
    "%%writefile first_module.py\n",
    "def my_function():\n",
    "    print('aaaa')"
   ]
  },
  {
   "cell_type": "code",
   "execution_count": null,
   "metadata": {},
   "outputs": [],
   "source": [
    "import first_module"
   ]
  },
  {
   "cell_type": "code",
   "execution_count": 3,
   "metadata": {},
   "outputs": [
    {
     "ename": "NameError",
     "evalue": "name 'first_module' is not defined",
     "output_type": "error",
     "traceback": [
      "\u001b[1;31m---------------------------------------------------------------------------\u001b[0m",
      "\u001b[1;31mNameError\u001b[0m                                 Traceback (most recent call last)",
      "\u001b[1;32m<ipython-input-3-348f05a9b476>\u001b[0m in \u001b[0;36m<module>\u001b[1;34m\u001b[0m\n\u001b[1;32m----> 1\u001b[1;33m \u001b[0mdir\u001b[0m\u001b[1;33m(\u001b[0m\u001b[0mfirst_module\u001b[0m\u001b[1;33m)\u001b[0m\u001b[1;31m# 모듈과 함께 나오는 내장함수\u001b[0m\u001b[1;33m\u001b[0m\u001b[1;33m\u001b[0m\u001b[0m\n\u001b[0m",
      "\u001b[1;31mNameError\u001b[0m: name 'first_module' is not defined"
     ]
    }
   ],
   "source": [
    "dir(first_module)# 모듈과 함께 나오는 내장함수"
   ]
  },
  {
   "cell_type": "markdown",
   "metadata": {},
   "source": [
    "# 함수 불러오기 "
   ]
  },
  {
   "cell_type": "raw",
   "metadata": {},
   "source": [
    "(from 모듈명 import 변수명)\n",
    "(from 모듈명 import 함수명)\n",
    "(from 모듈명 import 클래스명)"
   ]
  },
  {
   "cell_type": "code",
   "execution_count": null,
   "metadata": {},
   "outputs": [],
   "source": [
    "from <모듈명> import * # *모든 변수, 함수, 클래스 들을 가져온다\n"
   ]
  },
  {
   "cell_type": "code",
   "execution_count": null,
   "metadata": {},
   "outputs": [],
   "source": [
    "모듈을 직접 실행해보기"
   ]
  },
  {
   "cell_type": "code",
   "execution_count": null,
   "metadata": {},
   "outputs": [],
   "source": [
    "%%writefile first_module.py\n",
    "def my_function():\n",
    "    print('aaa')\n",
    "def func(a):\n",
    "    print('입력숫자',a)\n",
    "    \n",
    "if __name__ == '__main__':\n",
    "    print(\"모듈직접실행\")\n",
    "    func(3)\n",
    "    func(4)"
   ]
  },
  {
   "cell_type": "code",
   "execution_count": null,
   "metadata": {},
   "outputs": [],
   "source": [
    "!python first_module.py"
   ]
  },
  {
   "cell_type": "code",
   "execution_count": 1,
   "metadata": {},
   "outputs": [
    {
     "ename": "SyntaxError",
     "evalue": "invalid syntax (<ipython-input-1-0d1cab3aa999>, line 1)",
     "output_type": "error",
     "traceback": [
      "\u001b[1;36m  File \u001b[1;32m\"<ipython-input-1-0d1cab3aa999>\"\u001b[1;36m, line \u001b[1;32m1\u001b[0m\n\u001b[1;33m    from tkinter\u001b[0m\n\u001b[1;37m                ^\u001b[0m\n\u001b[1;31mSyntaxError\u001b[0m\u001b[1;31m:\u001b[0m invalid syntax\n"
     ]
    }
   ],
   "source": [
    "from tkinter\n",
    "dir(tkinter)"
   ]
  },
  {
   "cell_type": "markdown",
   "metadata": {},
   "source": [
    "# --------------------------------------------------------------------------"
   ]
  },
  {
   "cell_type": "raw",
   "metadata": {},
   "source": [
    "i = input(\"값을 넣어주세요:\")\n",
    "def 369():\n",
    "for i in range(1,i):\n",
    "    if i%3 ==0:\n",
    "        print('짝')\n",
    "    else:\n",
    "        print(i)"
   ]
  },
  {
   "cell_type": "markdown",
   "metadata": {},
   "source": [
    "# 내장모듈"
   ]
  },
  {
   "cell_type": "code",
   "execution_count": 9,
   "metadata": {},
   "outputs": [],
   "source": [
    "import random"
   ]
  },
  {
   "cell_type": "code",
   "execution_count": 10,
   "metadata": {},
   "outputs": [
    {
     "data": {
      "text/plain": [
       "0.798118302015068"
      ]
     },
     "execution_count": 10,
     "metadata": {},
     "output_type": "execute_result"
    }
   ],
   "source": [
    "random.random()"
   ]
  },
  {
   "cell_type": "raw",
   "metadata": {},
   "source": [
    "''datetime module''"
   ]
  },
  {
   "cell_type": "code",
   "execution_count": 12,
   "metadata": {},
   "outputs": [
    {
     "name": "stdout",
     "output_type": "stream",
     "text": [
      "1992-11-08\n",
      "12:15:30\n",
      "1992-11-08 12:15:30\n",
      "2020-07-30 12:20:23.744682\n"
     ]
    }
   ],
   "source": [
    "import datetime\n",
    "date_obj =datetime.date(1992,11,8)\n",
    "time_obj = datetime.time(12,15,30)\n",
    "timestamp_obj = datetime.datetime(1992,11,8,12,15,30)\n",
    "current_obj = datetime.datetime.now()\n",
    "print(date_obj)\n",
    "print(time_obj)\n",
    "print(timestamp_obj)\n",
    "print(current_obj)"
   ]
  },
  {
   "cell_type": "code",
   "execution_count": 11,
   "metadata": {},
   "outputs": [
    {
     "data": {
      "text/plain": [
       "'2019/7/30'"
      ]
     },
     "execution_count": 11,
     "metadata": {},
     "output_type": "execute_result"
    }
   ],
   "source": [
    "'{}/{}/{}'.format(2019,7,30)"
   ]
  },
  {
   "cell_type": "markdown",
   "metadata": {},
   "source": [
    "# CLASS"
   ]
  },
  {
   "cell_type": "code",
   "execution_count": 14,
   "metadata": {},
   "outputs": [
    {
     "name": "stdout",
     "output_type": "stream",
     "text": [
      "Overwriting animal.py\n"
     ]
    }
   ],
   "source": [
    "%%writefile animal.py\n",
    "class bird:\n",
    "    def fly():\n",
    "        pass\n",
    "    def two_leg():\n",
    "        pass\n",
    "    def aaa():\n",
    "        pass\n",
    "class mamal:\n",
    "    def four_leg():\n",
    "        pass\n",
    "    def baby():\n",
    "        pass\n",
    "    "
   ]
  },
  {
   "cell_type": "code",
   "execution_count": 18,
   "metadata": {},
   "outputs": [
    {
     "ename": "ModuleNotFoundError",
     "evalue": "No module named 'animal.bird'; 'animal' is not a package",
     "output_type": "error",
     "traceback": [
      "\u001b[1;31m---------------------------------------------------------------------------\u001b[0m",
      "\u001b[1;31mModuleNotFoundError\u001b[0m                       Traceback (most recent call last)",
      "\u001b[1;32m<ipython-input-18-a38f2bc82c78>\u001b[0m in \u001b[0;36m<module>\u001b[1;34m\u001b[0m\n\u001b[1;32m----> 1\u001b[1;33m \u001b[1;32mimport\u001b[0m \u001b[0manimal\u001b[0m\u001b[1;33m.\u001b[0m\u001b[0mbird\u001b[0m \u001b[1;32mas\u001b[0m \u001b[0mbd\u001b[0m\u001b[1;33m\u001b[0m\u001b[1;33m\u001b[0m\u001b[0m\n\u001b[0m",
      "\u001b[1;31mModuleNotFoundError\u001b[0m: No module named 'animal.bird'; 'animal' is not a package"
     ]
    }
   ],
   "source": [
    "import animal.bird as bd"
   ]
  },
  {
   "cell_type": "markdown",
   "metadata": {},
   "source": [
    "# \"클래스 Initial\" 참새 객체(object)"
   ]
  },
  {
   "cell_type": "code",
   "execution_count": 23,
   "metadata": {},
   "outputs": [],
   "source": [
    "from animal import bird"
   ]
  },
  {
   "cell_type": "code",
   "execution_count": 24,
   "metadata": {},
   "outputs": [],
   "source": [
    "class 참새:\n",
    "    ''' 이건 참새의 특징을 집어넣었음'''\n",
    "    def 귀엽다():\n",
    "        pass\n",
    "    def 작아요():\n",
    "        pass"
   ]
  },
  {
   "cell_type": "code",
   "execution_count": 22,
   "metadata": {},
   "outputs": [],
   "source": [
    "참새1 = 참새()\n",
    "#(객체)= (obj)"
   ]
  },
  {
   "cell_type": "code",
   "execution_count": 28,
   "metadata": {},
   "outputs": [
    {
     "data": {
      "text/plain": [
       "['__class__',\n",
       " '__delattr__',\n",
       " '__dict__',\n",
       " '__dir__',\n",
       " '__doc__',\n",
       " '__eq__',\n",
       " '__format__',\n",
       " '__ge__',\n",
       " '__getattribute__',\n",
       " '__gt__',\n",
       " '__hash__',\n",
       " '__init__',\n",
       " '__init_subclass__',\n",
       " '__le__',\n",
       " '__lt__',\n",
       " '__module__',\n",
       " '__ne__',\n",
       " '__new__',\n",
       " '__reduce__',\n",
       " '__reduce_ex__',\n",
       " '__repr__',\n",
       " '__setattr__',\n",
       " '__sizeof__',\n",
       " '__str__',\n",
       " '__subclasshook__',\n",
       " '__weakref__',\n",
       " '귀엽다',\n",
       " '작아요']"
      ]
     },
     "execution_count": 28,
     "metadata": {},
     "output_type": "execute_result"
    }
   ],
   "source": [
    "dir(참새)"
   ]
  },
  {
   "cell_type": "raw",
   "metadata": {},
   "source": [
    "ex) 참새.귀엽다, 참새.작아요"
   ]
  },
  {
   "cell_type": "markdown",
   "metadata": {},
   "source": [
    "# METHOD가 없는 CLASS"
   ]
  },
  {
   "cell_type": "code",
   "execution_count": 30,
   "metadata": {},
   "outputs": [],
   "source": [
    "class PointKnight:# rule use upper letter for class_name\n",
    "    pass\n",
    "p1 = PointKnight()\n",
    "p2 = PointKnight()"
   ]
  },
  {
   "cell_type": "code",
   "execution_count": 31,
   "metadata": {},
   "outputs": [
    {
     "name": "stdout",
     "output_type": "stream",
     "text": [
      "5 4\n",
      "3 6\n"
     ]
    }
   ],
   "source": [
    "p1.x=5\n",
    "p1.y=4\n",
    "p2.x=3\n",
    "p2.y=6\n",
    "print(p1.x, p1.y)\n",
    "print(p2.x, p2.y)"
   ]
  },
  {
   "cell_type": "raw",
   "metadata": {},
   "source": [
    "p1.x -> x는 여기서 method가 아닌 클래스의 '변수이다'"
   ]
  },
  {
   "cell_type": "markdown",
   "metadata": {},
   "source": [
    "# METHOD 가진 CLASS"
   ]
  },
  {
   "cell_type": "code",
   "execution_count": 1,
   "metadata": {},
   "outputs": [],
   "source": [
    "class PointKnight:# rule use upper letter for class_name\n",
    "    def reset(self): # self -> im variabe as myself\n",
    "        self.x=0\n",
    "        self.y=0\n",
    "        "
   ]
  },
  {
   "cell_type": "code",
   "execution_count": 2,
   "metadata": {},
   "outputs": [],
   "source": [
    "p1 = PointKnight()\n",
    "p2 = PointKnight()"
   ]
  },
  {
   "cell_type": "code",
   "execution_count": 17,
   "metadata": {},
   "outputs": [
    {
     "name": "stdout",
     "output_type": "stream",
     "text": [
      "5 4\n",
      "3 6\n"
     ]
    }
   ],
   "source": [
    "p1.x=5\n",
    "p1.y=4\n",
    "p2.x=3\n",
    "p2.y=6\n",
    "print(p1.x, p1.y)\n",
    "print(p2.x, p2.y)\n",
    "p1.reset() #reset method\n",
    "PointKnight.reset() \n"
   ]
  },
  {
   "cell_type": "raw",
   "metadata": {},
   "source": [
    "#객체에서 메소드 호출가능\n",
    "#클래스에서 메소드 호출 불가능"
   ]
  },
  {
   "cell_type": "code",
   "execution_count": 16,
   "metadata": {},
   "outputs": [
    {
     "ename": "NameError",
     "evalue": "name 'self' is not defined",
     "output_type": "error",
     "traceback": [
      "\u001b[1;31m---------------------------------------------------------------------------\u001b[0m",
      "\u001b[1;31mNameError\u001b[0m                                 Traceback (most recent call last)",
      "\u001b[1;32m<ipython-input-16-fe5c36433e9c>\u001b[0m in \u001b[0;36m<module>\u001b[1;34m\u001b[0m\n\u001b[1;32m----> 1\u001b[1;33m \u001b[0mPointKnight\u001b[0m\u001b[1;33m.\u001b[0m\u001b[0mreset\u001b[0m\u001b[1;33m(\u001b[0m\u001b[0mself\u001b[0m\u001b[1;33m)\u001b[0m\u001b[1;33m\u001b[0m\u001b[1;33m\u001b[0m\u001b[0m\n\u001b[0m",
      "\u001b[1;31mNameError\u001b[0m: name 'self' is not defined"
     ]
    }
   ],
   "source": [
    "PointKnight.reset(self)"
   ]
  },
  {
   "cell_type": "raw",
   "metadata": {},
   "source": [
    "self는 인자(variable)이 아닌 그 안의 값을 다르게 인식하기 위한 것"
   ]
  },
  {
   "cell_type": "code",
   "execution_count": 15,
   "metadata": {},
   "outputs": [],
   "source": [
    "PointKnight.reset(p1)"
   ]
  },
  {
   "cell_type": "raw",
   "metadata": {},
   "source": []
  }
 ],
 "metadata": {
  "kernelspec": {
   "display_name": "Python 3",
   "language": "python",
   "name": "python3"
  },
  "language_info": {
   "codemirror_mode": {
    "name": "ipython",
    "version": 3
   },
   "file_extension": ".py",
   "mimetype": "text/x-python",
   "name": "python",
   "nbconvert_exporter": "python",
   "pygments_lexer": "ipython3",
   "version": "3.8.5"
  }
 },
 "nbformat": 4,
 "nbformat_minor": 4
}
