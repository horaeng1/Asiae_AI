{
 "cells": [
  {
   "cell_type": "markdown",
   "metadata": {
    "run_control": {
     "read_only": false
    }
   },
   "source": [
    "# 13장 엑셀 파일 다루기"
   ]
  },
  {
   "cell_type": "markdown",
   "metadata": {},
   "source": [
    "## 13.1 엑셀 파일을 읽고 쓰기"
   ]
  },
  {
   "cell_type": "markdown",
   "metadata": {},
   "source": [
    "### 엑셀 파일의 데이터 읽기"
   ]
  },
  {
   "cell_type": "markdown",
   "metadata": {},
   "source": [
    "**[13장: 346페이지]**"
   ]
  },
  {
   "cell_type": "code",
   "execution_count": 2,
   "metadata": {},
   "outputs": [
    {
     "name": "stdout",
     "output_type": "stream",
     "text": [
      "Collecting xlrd\n",
      "  Downloading xlrd-1.2.0-py2.py3-none-any.whl (103 kB)\n",
      "Installing collected packages: xlrd\n",
      "Successfully installed xlrd-1.2.0\n"
     ]
    }
   ],
   "source": [
    "!pip install xlrd"
   ]
  },
  {
   "cell_type": "code",
   "execution_count": 3,
   "metadata": {},
   "outputs": [
    {
     "data": {
      "text/html": [
       "<div>\n",
       "<style scoped>\n",
       "    .dataframe tbody tr th:only-of-type {\n",
       "        vertical-align: middle;\n",
       "    }\n",
       "\n",
       "    .dataframe tbody tr th {\n",
       "        vertical-align: top;\n",
       "    }\n",
       "\n",
       "    .dataframe thead th {\n",
       "        text-align: right;\n",
       "    }\n",
       "</style>\n",
       "<table border=\"1\" class=\"dataframe\">\n",
       "  <thead>\n",
       "    <tr style=\"text-align: right;\">\n",
       "      <th></th>\n",
       "      <th>학생</th>\n",
       "      <th>국어</th>\n",
       "      <th>영어</th>\n",
       "      <th>수학</th>\n",
       "      <th>평균</th>\n",
       "    </tr>\n",
       "  </thead>\n",
       "  <tbody>\n",
       "    <tr>\n",
       "      <th>0</th>\n",
       "      <td>A</td>\n",
       "      <td>80</td>\n",
       "      <td>90</td>\n",
       "      <td>85</td>\n",
       "      <td>85.000000</td>\n",
       "    </tr>\n",
       "    <tr>\n",
       "      <th>1</th>\n",
       "      <td>B</td>\n",
       "      <td>90</td>\n",
       "      <td>95</td>\n",
       "      <td>95</td>\n",
       "      <td>93.333333</td>\n",
       "    </tr>\n",
       "    <tr>\n",
       "      <th>2</th>\n",
       "      <td>C</td>\n",
       "      <td>95</td>\n",
       "      <td>70</td>\n",
       "      <td>75</td>\n",
       "      <td>80.000000</td>\n",
       "    </tr>\n",
       "    <tr>\n",
       "      <th>3</th>\n",
       "      <td>D</td>\n",
       "      <td>70</td>\n",
       "      <td>85</td>\n",
       "      <td>80</td>\n",
       "      <td>78.333333</td>\n",
       "    </tr>\n",
       "    <tr>\n",
       "      <th>4</th>\n",
       "      <td>E</td>\n",
       "      <td>75</td>\n",
       "      <td>90</td>\n",
       "      <td>85</td>\n",
       "      <td>83.333333</td>\n",
       "    </tr>\n",
       "  </tbody>\n",
       "</table>\n",
       "</div>"
      ],
      "text/plain": [
       "  학생  국어  영어  수학         평균\n",
       "0  A  80  90  85  85.000000\n",
       "1  B  90  95  95  93.333333\n",
       "2  C  95  70  75  80.000000\n",
       "3  D  70  85  80  78.333333\n",
       "4  E  75  90  85  83.333333"
      ]
     },
     "execution_count": 3,
     "metadata": {},
     "output_type": "execute_result"
    }
   ],
   "source": [
    "import pandas as pd\n",
    "df = pd.read_excel('학생시험성적.xlsx')\n",
    "df"
   ]
  },
  {
   "cell_type": "markdown",
   "metadata": {},
   "source": [
    "**[13장: 347페이지]**"
   ]
  },
  {
   "cell_type": "code",
   "execution_count": 6,
   "metadata": {},
   "outputs": [
    {
     "data": {
      "text/html": [
       "<div>\n",
       "<style scoped>\n",
       "    .dataframe tbody tr th:only-of-type {\n",
       "        vertical-align: middle;\n",
       "    }\n",
       "\n",
       "    .dataframe tbody tr th {\n",
       "        vertical-align: top;\n",
       "    }\n",
       "\n",
       "    .dataframe thead th {\n",
       "        text-align: right;\n",
       "    }\n",
       "</style>\n",
       "<table border=\"1\" class=\"dataframe\">\n",
       "  <thead>\n",
       "    <tr style=\"text-align: right;\">\n",
       "      <th></th>\n",
       "      <th>학생</th>\n",
       "      <th>과학</th>\n",
       "      <th>사회</th>\n",
       "      <th>역사</th>\n",
       "      <th>평균</th>\n",
       "    </tr>\n",
       "  </thead>\n",
       "  <tbody>\n",
       "    <tr>\n",
       "      <th>0</th>\n",
       "      <td>A</td>\n",
       "      <td>90</td>\n",
       "      <td>95</td>\n",
       "      <td>85</td>\n",
       "      <td>90.000000</td>\n",
       "    </tr>\n",
       "    <tr>\n",
       "      <th>1</th>\n",
       "      <td>B</td>\n",
       "      <td>85</td>\n",
       "      <td>90</td>\n",
       "      <td>80</td>\n",
       "      <td>85.000000</td>\n",
       "    </tr>\n",
       "    <tr>\n",
       "      <th>2</th>\n",
       "      <td>C</td>\n",
       "      <td>70</td>\n",
       "      <td>80</td>\n",
       "      <td>75</td>\n",
       "      <td>75.000000</td>\n",
       "    </tr>\n",
       "    <tr>\n",
       "      <th>3</th>\n",
       "      <td>D</td>\n",
       "      <td>75</td>\n",
       "      <td>90</td>\n",
       "      <td>100</td>\n",
       "      <td>88.333333</td>\n",
       "    </tr>\n",
       "    <tr>\n",
       "      <th>4</th>\n",
       "      <td>E</td>\n",
       "      <td>90</td>\n",
       "      <td>80</td>\n",
       "      <td>90</td>\n",
       "      <td>86.666667</td>\n",
       "    </tr>\n",
       "  </tbody>\n",
       "</table>\n",
       "</div>"
      ],
      "text/plain": [
       "  학생  과학  사회   역사         평균\n",
       "0  A  90  95   85  90.000000\n",
       "1  B  85  90   80  85.000000\n",
       "2  C  70  80   75  75.000000\n",
       "3  D  75  90  100  88.333333\n",
       "4  E  90  80   90  86.666667"
      ]
     },
     "execution_count": 6,
     "metadata": {},
     "output_type": "execute_result"
    }
   ],
   "source": [
    "pd.read_excel('학생시험성적.xlsx', sheet_name = 1)"
   ]
  },
  {
   "cell_type": "markdown",
   "metadata": {},
   "source": [
    "**[13장: 347페이지]**"
   ]
  },
  {
   "cell_type": "code",
   "execution_count": 8,
   "metadata": {
    "scrolled": true
   },
   "outputs": [
    {
     "data": {
      "text/html": [
       "<div>\n",
       "<style scoped>\n",
       "    .dataframe tbody tr th:only-of-type {\n",
       "        vertical-align: middle;\n",
       "    }\n",
       "\n",
       "    .dataframe tbody tr th {\n",
       "        vertical-align: top;\n",
       "    }\n",
       "\n",
       "    .dataframe thead th {\n",
       "        text-align: right;\n",
       "    }\n",
       "</style>\n",
       "<table border=\"1\" class=\"dataframe\">\n",
       "  <thead>\n",
       "    <tr style=\"text-align: right;\">\n",
       "      <th></th>\n",
       "      <th>학생</th>\n",
       "      <th>과학</th>\n",
       "      <th>사회</th>\n",
       "      <th>역사</th>\n",
       "      <th>평균</th>\n",
       "    </tr>\n",
       "  </thead>\n",
       "  <tbody>\n",
       "    <tr>\n",
       "      <th>0</th>\n",
       "      <td>A</td>\n",
       "      <td>90</td>\n",
       "      <td>95</td>\n",
       "      <td>85</td>\n",
       "      <td>90.000000</td>\n",
       "    </tr>\n",
       "    <tr>\n",
       "      <th>1</th>\n",
       "      <td>B</td>\n",
       "      <td>85</td>\n",
       "      <td>90</td>\n",
       "      <td>80</td>\n",
       "      <td>85.000000</td>\n",
       "    </tr>\n",
       "    <tr>\n",
       "      <th>2</th>\n",
       "      <td>C</td>\n",
       "      <td>70</td>\n",
       "      <td>80</td>\n",
       "      <td>75</td>\n",
       "      <td>75.000000</td>\n",
       "    </tr>\n",
       "    <tr>\n",
       "      <th>3</th>\n",
       "      <td>D</td>\n",
       "      <td>75</td>\n",
       "      <td>90</td>\n",
       "      <td>100</td>\n",
       "      <td>88.333333</td>\n",
       "    </tr>\n",
       "    <tr>\n",
       "      <th>4</th>\n",
       "      <td>E</td>\n",
       "      <td>90</td>\n",
       "      <td>80</td>\n",
       "      <td>90</td>\n",
       "      <td>86.666667</td>\n",
       "    </tr>\n",
       "  </tbody>\n",
       "</table>\n",
       "</div>"
      ],
      "text/plain": [
       "  학생  과학  사회   역사         평균\n",
       "0  A  90  95   85  90.000000\n",
       "1  B  85  90   80  85.000000\n",
       "2  C  70  80   75  75.000000\n",
       "3  D  75  90  100  88.333333\n",
       "4  E  90  80   90  86.666667"
      ]
     },
     "execution_count": 8,
     "metadata": {},
     "output_type": "execute_result"
    }
   ],
   "source": [
    "pd.read_excel('학생시험성적.xlsx', sheet_name = '2차시험')"
   ]
  },
  {
   "cell_type": "markdown",
   "metadata": {},
   "source": [
    "**[13장: 347 ~ 348페이지]**"
   ]
  },
  {
   "cell_type": "code",
   "execution_count": 9,
   "metadata": {},
   "outputs": [
    {
     "data": {
      "text/html": [
       "<div>\n",
       "<style scoped>\n",
       "    .dataframe tbody tr th:only-of-type {\n",
       "        vertical-align: middle;\n",
       "    }\n",
       "\n",
       "    .dataframe tbody tr th {\n",
       "        vertical-align: top;\n",
       "    }\n",
       "\n",
       "    .dataframe thead th {\n",
       "        text-align: right;\n",
       "    }\n",
       "</style>\n",
       "<table border=\"1\" class=\"dataframe\">\n",
       "  <thead>\n",
       "    <tr style=\"text-align: right;\">\n",
       "      <th></th>\n",
       "      <th>과학</th>\n",
       "      <th>사회</th>\n",
       "      <th>역사</th>\n",
       "      <th>평균</th>\n",
       "    </tr>\n",
       "    <tr>\n",
       "      <th>학생</th>\n",
       "      <th></th>\n",
       "      <th></th>\n",
       "      <th></th>\n",
       "      <th></th>\n",
       "    </tr>\n",
       "  </thead>\n",
       "  <tbody>\n",
       "    <tr>\n",
       "      <th>A</th>\n",
       "      <td>90</td>\n",
       "      <td>95</td>\n",
       "      <td>85</td>\n",
       "      <td>90.000000</td>\n",
       "    </tr>\n",
       "    <tr>\n",
       "      <th>B</th>\n",
       "      <td>85</td>\n",
       "      <td>90</td>\n",
       "      <td>80</td>\n",
       "      <td>85.000000</td>\n",
       "    </tr>\n",
       "    <tr>\n",
       "      <th>C</th>\n",
       "      <td>70</td>\n",
       "      <td>80</td>\n",
       "      <td>75</td>\n",
       "      <td>75.000000</td>\n",
       "    </tr>\n",
       "    <tr>\n",
       "      <th>D</th>\n",
       "      <td>75</td>\n",
       "      <td>90</td>\n",
       "      <td>100</td>\n",
       "      <td>88.333333</td>\n",
       "    </tr>\n",
       "    <tr>\n",
       "      <th>E</th>\n",
       "      <td>90</td>\n",
       "      <td>80</td>\n",
       "      <td>90</td>\n",
       "      <td>86.666667</td>\n",
       "    </tr>\n",
       "  </tbody>\n",
       "</table>\n",
       "</div>"
      ],
      "text/plain": [
       "    과학  사회   역사         평균\n",
       "학생                        \n",
       "A   90  95   85  90.000000\n",
       "B   85  90   80  85.000000\n",
       "C   70  80   75  75.000000\n",
       "D   75  90  100  88.333333\n",
       "E   90  80   90  86.666667"
      ]
     },
     "execution_count": 9,
     "metadata": {},
     "output_type": "execute_result"
    }
   ],
   "source": [
    "df = pd.read_excel('학생시험성적.xlsx',sheet_name = '2차시험', index_col = 0)\n",
    "df"
   ]
  },
  {
   "cell_type": "code",
   "execution_count": 10,
   "metadata": {},
   "outputs": [
    {
     "data": {
      "text/html": [
       "<div>\n",
       "<style scoped>\n",
       "    .dataframe tbody tr th:only-of-type {\n",
       "        vertical-align: middle;\n",
       "    }\n",
       "\n",
       "    .dataframe tbody tr th {\n",
       "        vertical-align: top;\n",
       "    }\n",
       "\n",
       "    .dataframe thead th {\n",
       "        text-align: right;\n",
       "    }\n",
       "</style>\n",
       "<table border=\"1\" class=\"dataframe\">\n",
       "  <thead>\n",
       "    <tr style=\"text-align: right;\">\n",
       "      <th></th>\n",
       "      <th>과학</th>\n",
       "      <th>사회</th>\n",
       "      <th>역사</th>\n",
       "      <th>평균</th>\n",
       "    </tr>\n",
       "    <tr>\n",
       "      <th>학생</th>\n",
       "      <th></th>\n",
       "      <th></th>\n",
       "      <th></th>\n",
       "      <th></th>\n",
       "    </tr>\n",
       "  </thead>\n",
       "  <tbody>\n",
       "    <tr>\n",
       "      <th>A</th>\n",
       "      <td>90</td>\n",
       "      <td>95</td>\n",
       "      <td>85</td>\n",
       "      <td>90.000000</td>\n",
       "    </tr>\n",
       "    <tr>\n",
       "      <th>B</th>\n",
       "      <td>85</td>\n",
       "      <td>90</td>\n",
       "      <td>80</td>\n",
       "      <td>85.000000</td>\n",
       "    </tr>\n",
       "    <tr>\n",
       "      <th>C</th>\n",
       "      <td>70</td>\n",
       "      <td>80</td>\n",
       "      <td>75</td>\n",
       "      <td>75.000000</td>\n",
       "    </tr>\n",
       "    <tr>\n",
       "      <th>D</th>\n",
       "      <td>75</td>\n",
       "      <td>90</td>\n",
       "      <td>100</td>\n",
       "      <td>88.333333</td>\n",
       "    </tr>\n",
       "    <tr>\n",
       "      <th>E</th>\n",
       "      <td>90</td>\n",
       "      <td>80</td>\n",
       "      <td>90</td>\n",
       "      <td>86.666667</td>\n",
       "    </tr>\n",
       "  </tbody>\n",
       "</table>\n",
       "</div>"
      ],
      "text/plain": [
       "    과학  사회   역사         평균\n",
       "학생                        \n",
       "A   90  95   85  90.000000\n",
       "B   85  90   80  85.000000\n",
       "C   70  80   75  75.000000\n",
       "D   75  90  100  88.333333\n",
       "E   90  80   90  86.666667"
      ]
     },
     "execution_count": 10,
     "metadata": {},
     "output_type": "execute_result"
    }
   ],
   "source": [
    "df = pd.read_excel('학생시험성적.xlsx', sheet_name = '2차시험', index_col = '학생')\n",
    "df"
   ]
  },
  {
   "cell_type": "markdown",
   "metadata": {},
   "source": [
    "### 데이터를 엑셀 파일로 쓰기"
   ]
  },
  {
   "cell_type": "markdown",
   "metadata": {},
   "source": [
    "**[13장: 349페이지]**"
   ]
  },
  {
   "cell_type": "code",
   "execution_count": 11,
   "metadata": {},
   "outputs": [
    {
     "data": {
      "text/html": [
       "<div>\n",
       "<style scoped>\n",
       "    .dataframe tbody tr th:only-of-type {\n",
       "        vertical-align: middle;\n",
       "    }\n",
       "\n",
       "    .dataframe tbody tr th {\n",
       "        vertical-align: top;\n",
       "    }\n",
       "\n",
       "    .dataframe thead th {\n",
       "        text-align: right;\n",
       "    }\n",
       "</style>\n",
       "<table border=\"1\" class=\"dataframe\">\n",
       "  <thead>\n",
       "    <tr style=\"text-align: right;\">\n",
       "      <th></th>\n",
       "      <th>학생</th>\n",
       "      <th>국어</th>\n",
       "      <th>영어</th>\n",
       "      <th>수학</th>\n",
       "    </tr>\n",
       "  </thead>\n",
       "  <tbody>\n",
       "    <tr>\n",
       "      <th>0</th>\n",
       "      <td>A</td>\n",
       "      <td>80</td>\n",
       "      <td>90</td>\n",
       "      <td>85</td>\n",
       "    </tr>\n",
       "    <tr>\n",
       "      <th>1</th>\n",
       "      <td>B</td>\n",
       "      <td>90</td>\n",
       "      <td>95</td>\n",
       "      <td>95</td>\n",
       "    </tr>\n",
       "    <tr>\n",
       "      <th>2</th>\n",
       "      <td>C</td>\n",
       "      <td>95</td>\n",
       "      <td>70</td>\n",
       "      <td>75</td>\n",
       "    </tr>\n",
       "    <tr>\n",
       "      <th>3</th>\n",
       "      <td>D</td>\n",
       "      <td>70</td>\n",
       "      <td>85</td>\n",
       "      <td>80</td>\n",
       "    </tr>\n",
       "    <tr>\n",
       "      <th>4</th>\n",
       "      <td>E</td>\n",
       "      <td>75</td>\n",
       "      <td>90</td>\n",
       "      <td>85</td>\n",
       "    </tr>\n",
       "    <tr>\n",
       "      <th>5</th>\n",
       "      <td>F</td>\n",
       "      <td>85</td>\n",
       "      <td>95</td>\n",
       "      <td>100</td>\n",
       "    </tr>\n",
       "  </tbody>\n",
       "</table>\n",
       "</div>"
      ],
      "text/plain": [
       "  학생  국어  영어   수학\n",
       "0  A  80  90   85\n",
       "1  B  90  95   95\n",
       "2  C  95  70   75\n",
       "3  D  70  85   80\n",
       "4  E  75  90   85\n",
       "5  F  85  95  100"
      ]
     },
     "execution_count": 11,
     "metadata": {},
     "output_type": "execute_result"
    }
   ],
   "source": [
    "import pandas as pd\n",
    "\n",
    "excel_exam_data1 = {'학생': ['A', 'B', 'C', 'D', 'E', 'F'],\n",
    "                    '국어': [80, 90, 95, 70, 75, 85],\n",
    "                    '영어': [90, 95, 70, 85, 90, 95],\n",
    "                    '수학': [85, 95, 75, 80, 85, 100]}\n",
    "df1 = pd.DataFrame(excel_exam_data1,columns=['학생','국어','영어','수학'] )\n",
    "df1"
   ]
  },
  {
   "cell_type": "markdown",
   "metadata": {},
   "source": [
    "# **[13장: 350페이지]**"
   ]
  },
  {
   "cell_type": "code",
   "execution_count": 16,
   "metadata": {},
   "outputs": [
    {
     "name": "stdout",
     "output_type": "stream",
     "text": [
      "Collecting xlsxwriter\n",
      "  Downloading XlsxWriter-1.3.0-py2.py3-none-any.whl (142 kB)\n",
      "Installing collected packages: xlsxwriter\n",
      "Successfully installed xlsxwriter-1.3.0\n"
     ]
    }
   ],
   "source": [
    "!pip install xlsxwriter"
   ]
  },
  {
   "cell_type": "code",
   "execution_count": 17,
   "metadata": {},
   "outputs": [],
   "source": [
    "excel_writer = pd.ExcelWriter('학생시험성적2.xlsx', engine='xlsxwriter')\n",
    "df1.to_excel(excel_writer, index=False)\n",
    "excel_writer.save()"
   ]
  },
  {
   "cell_type": "markdown",
   "metadata": {},
   "source": [
    "**[13장: 351페이지]**"
   ]
  },
  {
   "cell_type": "code",
   "execution_count": 19,
   "metadata": {},
   "outputs": [],
   "source": [
    "excel_writer2 = pd.ExcelWriter('학생시험성적3.xlsx', engine='xlsxwriter')\n",
    "df1.to_excel(excel_writer2, index=False, sheet_name='중간고사')\n",
    "excel_writer2.save()"
   ]
  },
  {
   "cell_type": "markdown",
   "metadata": {},
   "source": [
    "**[13장: 351페이지]**"
   ]
  },
  {
   "cell_type": "code",
   "execution_count": 20,
   "metadata": {},
   "outputs": [
    {
     "data": {
      "text/html": [
       "<div>\n",
       "<style scoped>\n",
       "    .dataframe tbody tr th:only-of-type {\n",
       "        vertical-align: middle;\n",
       "    }\n",
       "\n",
       "    .dataframe tbody tr th {\n",
       "        vertical-align: top;\n",
       "    }\n",
       "\n",
       "    .dataframe thead th {\n",
       "        text-align: right;\n",
       "    }\n",
       "</style>\n",
       "<table border=\"1\" class=\"dataframe\">\n",
       "  <thead>\n",
       "    <tr style=\"text-align: right;\">\n",
       "      <th></th>\n",
       "      <th>학생</th>\n",
       "      <th>국어</th>\n",
       "      <th>영어</th>\n",
       "      <th>수학</th>\n",
       "    </tr>\n",
       "  </thead>\n",
       "  <tbody>\n",
       "    <tr>\n",
       "      <th>0</th>\n",
       "      <td>A</td>\n",
       "      <td>85</td>\n",
       "      <td>80</td>\n",
       "      <td>90</td>\n",
       "    </tr>\n",
       "    <tr>\n",
       "      <th>1</th>\n",
       "      <td>B</td>\n",
       "      <td>95</td>\n",
       "      <td>90</td>\n",
       "      <td>95</td>\n",
       "    </tr>\n",
       "    <tr>\n",
       "      <th>2</th>\n",
       "      <td>C</td>\n",
       "      <td>75</td>\n",
       "      <td>95</td>\n",
       "      <td>70</td>\n",
       "    </tr>\n",
       "    <tr>\n",
       "      <th>3</th>\n",
       "      <td>D</td>\n",
       "      <td>80</td>\n",
       "      <td>70</td>\n",
       "      <td>85</td>\n",
       "    </tr>\n",
       "    <tr>\n",
       "      <th>4</th>\n",
       "      <td>E</td>\n",
       "      <td>85</td>\n",
       "      <td>75</td>\n",
       "      <td>90</td>\n",
       "    </tr>\n",
       "    <tr>\n",
       "      <th>5</th>\n",
       "      <td>F</td>\n",
       "      <td>100</td>\n",
       "      <td>85</td>\n",
       "      <td>95</td>\n",
       "    </tr>\n",
       "  </tbody>\n",
       "</table>\n",
       "</div>"
      ],
      "text/plain": [
       "  학생   국어  영어  수학\n",
       "0  A   85  80  90\n",
       "1  B   95  90  95\n",
       "2  C   75  95  70\n",
       "3  D   80  70  85\n",
       "4  E   85  75  90\n",
       "5  F  100  85  95"
      ]
     },
     "execution_count": 20,
     "metadata": {},
     "output_type": "execute_result"
    }
   ],
   "source": [
    "import pandas as pd\n",
    "\n",
    "excel_exam_data2 = {'학생': ['A', 'B', 'C', 'D', 'E', 'F'],\n",
    "                    '국어': [85, 95, 75, 80, 85, 100],\n",
    "                    '영어': [80, 90, 95, 70, 75, 85],\n",
    "                    '수학': [90, 95, 70, 85, 90, 95]}\n",
    "df2 = pd.DataFrame(excel_exam_data2,columns=['학생','국어','영어','수학'] )\n",
    "df2"
   ]
  },
  {
   "cell_type": "markdown",
   "metadata": {},
   "source": [
    "**[13장: 352페이지]**"
   ]
  },
  {
   "cell_type": "code",
   "execution_count": 21,
   "metadata": {},
   "outputs": [],
   "source": [
    "excel_writer3 = pd.ExcelWriter('학생시험성적4.xlsx', engine='xlsxwriter')\n",
    "df1.to_excel(excel_writer3, index=False, sheet_name='중간고사')\n",
    "df2.to_excel(excel_writer3, index=False, sheet_name='기말고사')\n",
    "excel_writer3.save()"
   ]
  },
  {
   "cell_type": "markdown",
   "metadata": {},
   "source": [
    "## 13.2 엑셀 파일 통합하기"
   ]
  },
  {
   "cell_type": "markdown",
   "metadata": {},
   "source": [
    "### 효율적인 데이터 처리를 위한 엑셀 데이터 구조"
   ]
  },
  {
   "cell_type": "markdown",
   "metadata": {},
   "source": [
    "### 여러 개의 엑셀 파일 데이터를 통합하기********************************************************"
   ]
  },
  {
   "cell_type": "markdown",
   "metadata": {},
   "source": [
    "**[13장: 355페이지]**"
   ]
  },
  {
   "cell_type": "code",
   "execution_count": 39,
   "metadata": {
    "run_control": {
     "read_only": false
    }
   },
   "outputs": [],
   "source": [
    "excel_data_files = ['담당자별_판매량_Andy사원.xlsx',\n",
    "                    '담당자별_판매량_Becky사원.xlsx',\n",
    "                    '담당자별_판매량_Chris사원.xlsx']"
   ]
  },
  {
   "cell_type": "markdown",
   "metadata": {},
   "source": [
    "**[13장: 355페이지]**"
   ]
  },
  {
   "cell_type": "code",
   "execution_count": 40,
   "metadata": {
    "run_control": {
     "read_only": false
    }
   },
   "outputs": [],
   "source": [
    "total_data = pd.DataFrame()"
   ]
  },
  {
   "cell_type": "markdown",
   "metadata": {},
   "source": [
    "**[13장: 355페이지]**"
   ]
  },
  {
   "cell_type": "code",
   "execution_count": 41,
   "metadata": {
    "run_control": {
     "read_only": false
    }
   },
   "outputs": [
    {
     "data": {
      "text/html": [
       "<div>\n",
       "<style scoped>\n",
       "    .dataframe tbody tr th:only-of-type {\n",
       "        vertical-align: middle;\n",
       "    }\n",
       "\n",
       "    .dataframe tbody tr th {\n",
       "        vertical-align: top;\n",
       "    }\n",
       "\n",
       "    .dataframe thead th {\n",
       "        text-align: right;\n",
       "    }\n",
       "</style>\n",
       "<table border=\"1\" class=\"dataframe\">\n",
       "  <thead>\n",
       "    <tr style=\"text-align: right;\">\n",
       "      <th></th>\n",
       "      <th>제품명</th>\n",
       "      <th>담당자</th>\n",
       "      <th>지역</th>\n",
       "      <th>1분기</th>\n",
       "      <th>2분기</th>\n",
       "      <th>3분기</th>\n",
       "      <th>4분기</th>\n",
       "    </tr>\n",
       "  </thead>\n",
       "  <tbody>\n",
       "    <tr>\n",
       "      <th>0</th>\n",
       "      <td>시계</td>\n",
       "      <td>A</td>\n",
       "      <td>가</td>\n",
       "      <td>198</td>\n",
       "      <td>123</td>\n",
       "      <td>120</td>\n",
       "      <td>137</td>\n",
       "    </tr>\n",
       "    <tr>\n",
       "      <th>1</th>\n",
       "      <td>구두</td>\n",
       "      <td>A</td>\n",
       "      <td>가</td>\n",
       "      <td>273</td>\n",
       "      <td>241</td>\n",
       "      <td>296</td>\n",
       "      <td>217</td>\n",
       "    </tr>\n",
       "    <tr>\n",
       "      <th>2</th>\n",
       "      <td>핸드백</td>\n",
       "      <td>A</td>\n",
       "      <td>가</td>\n",
       "      <td>385</td>\n",
       "      <td>316</td>\n",
       "      <td>355</td>\n",
       "      <td>331</td>\n",
       "    </tr>\n",
       "    <tr>\n",
       "      <th>0</th>\n",
       "      <td>시계</td>\n",
       "      <td>B</td>\n",
       "      <td>나</td>\n",
       "      <td>154</td>\n",
       "      <td>108</td>\n",
       "      <td>155</td>\n",
       "      <td>114</td>\n",
       "    </tr>\n",
       "    <tr>\n",
       "      <th>1</th>\n",
       "      <td>구두</td>\n",
       "      <td>B</td>\n",
       "      <td>나</td>\n",
       "      <td>200</td>\n",
       "      <td>223</td>\n",
       "      <td>213</td>\n",
       "      <td>202</td>\n",
       "    </tr>\n",
       "    <tr>\n",
       "      <th>2</th>\n",
       "      <td>핸드백</td>\n",
       "      <td>B</td>\n",
       "      <td>나</td>\n",
       "      <td>350</td>\n",
       "      <td>340</td>\n",
       "      <td>377</td>\n",
       "      <td>392</td>\n",
       "    </tr>\n",
       "    <tr>\n",
       "      <th>0</th>\n",
       "      <td>시계</td>\n",
       "      <td>C</td>\n",
       "      <td>다</td>\n",
       "      <td>168</td>\n",
       "      <td>102</td>\n",
       "      <td>149</td>\n",
       "      <td>174</td>\n",
       "    </tr>\n",
       "    <tr>\n",
       "      <th>1</th>\n",
       "      <td>구두</td>\n",
       "      <td>C</td>\n",
       "      <td>다</td>\n",
       "      <td>231</td>\n",
       "      <td>279</td>\n",
       "      <td>277</td>\n",
       "      <td>292</td>\n",
       "    </tr>\n",
       "    <tr>\n",
       "      <th>2</th>\n",
       "      <td>핸드백</td>\n",
       "      <td>C</td>\n",
       "      <td>다</td>\n",
       "      <td>365</td>\n",
       "      <td>383</td>\n",
       "      <td>308</td>\n",
       "      <td>323</td>\n",
       "    </tr>\n",
       "  </tbody>\n",
       "</table>\n",
       "</div>"
      ],
      "text/plain": [
       "   제품명 담당자 지역  1분기  2분기  3분기  4분기\n",
       "0   시계   A  가  198  123  120  137\n",
       "1   구두   A  가  273  241  296  217\n",
       "2  핸드백   A  가  385  316  355  331\n",
       "0   시계   B  나  154  108  155  114\n",
       "1   구두   B  나  200  223  213  202\n",
       "2  핸드백   B  나  350  340  377  392\n",
       "0   시계   C  다  168  102  149  174\n",
       "1   구두   C  다  231  279  277  292\n",
       "2  핸드백   C  다  365  383  308  323"
      ]
     },
     "execution_count": 41,
     "metadata": {},
     "output_type": "execute_result"
    }
   ],
   "source": [
    "import pandas as pd\n",
    "\n",
    "for f in excel_data_files:\n",
    "    df = pd.read_excel(f)\n",
    "    total_data = total_data.append(df)\n",
    "\n",
    "total_data"
   ]
  },
  {
   "cell_type": "markdown",
   "metadata": {},
   "source": [
    "**[13장: 356페이지]**"
   ]
  },
  {
   "cell_type": "code",
   "execution_count": 42,
   "metadata": {
    "run_control": {
     "read_only": false
    }
   },
   "outputs": [
    {
     "data": {
      "text/html": [
       "<div>\n",
       "<style scoped>\n",
       "    .dataframe tbody tr th:only-of-type {\n",
       "        vertical-align: middle;\n",
       "    }\n",
       "\n",
       "    .dataframe tbody tr th {\n",
       "        vertical-align: top;\n",
       "    }\n",
       "\n",
       "    .dataframe thead th {\n",
       "        text-align: right;\n",
       "    }\n",
       "</style>\n",
       "<table border=\"1\" class=\"dataframe\">\n",
       "  <thead>\n",
       "    <tr style=\"text-align: right;\">\n",
       "      <th></th>\n",
       "      <th>제품명</th>\n",
       "      <th>담당자</th>\n",
       "      <th>지역</th>\n",
       "      <th>1분기</th>\n",
       "      <th>2분기</th>\n",
       "      <th>3분기</th>\n",
       "      <th>4분기</th>\n",
       "    </tr>\n",
       "  </thead>\n",
       "  <tbody>\n",
       "    <tr>\n",
       "      <th>0</th>\n",
       "      <td>시계</td>\n",
       "      <td>A</td>\n",
       "      <td>가</td>\n",
       "      <td>198</td>\n",
       "      <td>123</td>\n",
       "      <td>120</td>\n",
       "      <td>137</td>\n",
       "    </tr>\n",
       "    <tr>\n",
       "      <th>1</th>\n",
       "      <td>구두</td>\n",
       "      <td>A</td>\n",
       "      <td>가</td>\n",
       "      <td>273</td>\n",
       "      <td>241</td>\n",
       "      <td>296</td>\n",
       "      <td>217</td>\n",
       "    </tr>\n",
       "    <tr>\n",
       "      <th>2</th>\n",
       "      <td>핸드백</td>\n",
       "      <td>A</td>\n",
       "      <td>가</td>\n",
       "      <td>385</td>\n",
       "      <td>316</td>\n",
       "      <td>355</td>\n",
       "      <td>331</td>\n",
       "    </tr>\n",
       "    <tr>\n",
       "      <th>3</th>\n",
       "      <td>시계</td>\n",
       "      <td>B</td>\n",
       "      <td>나</td>\n",
       "      <td>154</td>\n",
       "      <td>108</td>\n",
       "      <td>155</td>\n",
       "      <td>114</td>\n",
       "    </tr>\n",
       "    <tr>\n",
       "      <th>4</th>\n",
       "      <td>구두</td>\n",
       "      <td>B</td>\n",
       "      <td>나</td>\n",
       "      <td>200</td>\n",
       "      <td>223</td>\n",
       "      <td>213</td>\n",
       "      <td>202</td>\n",
       "    </tr>\n",
       "    <tr>\n",
       "      <th>5</th>\n",
       "      <td>핸드백</td>\n",
       "      <td>B</td>\n",
       "      <td>나</td>\n",
       "      <td>350</td>\n",
       "      <td>340</td>\n",
       "      <td>377</td>\n",
       "      <td>392</td>\n",
       "    </tr>\n",
       "    <tr>\n",
       "      <th>6</th>\n",
       "      <td>시계</td>\n",
       "      <td>C</td>\n",
       "      <td>다</td>\n",
       "      <td>168</td>\n",
       "      <td>102</td>\n",
       "      <td>149</td>\n",
       "      <td>174</td>\n",
       "    </tr>\n",
       "    <tr>\n",
       "      <th>7</th>\n",
       "      <td>구두</td>\n",
       "      <td>C</td>\n",
       "      <td>다</td>\n",
       "      <td>231</td>\n",
       "      <td>279</td>\n",
       "      <td>277</td>\n",
       "      <td>292</td>\n",
       "    </tr>\n",
       "    <tr>\n",
       "      <th>8</th>\n",
       "      <td>핸드백</td>\n",
       "      <td>C</td>\n",
       "      <td>다</td>\n",
       "      <td>365</td>\n",
       "      <td>383</td>\n",
       "      <td>308</td>\n",
       "      <td>323</td>\n",
       "    </tr>\n",
       "  </tbody>\n",
       "</table>\n",
       "</div>"
      ],
      "text/plain": [
       "   제품명 담당자 지역  1분기  2분기  3분기  4분기\n",
       "0   시계   A  가  198  123  120  137\n",
       "1   구두   A  가  273  241  296  217\n",
       "2  핸드백   A  가  385  316  355  331\n",
       "3   시계   B  나  154  108  155  114\n",
       "4   구두   B  나  200  223  213  202\n",
       "5  핸드백   B  나  350  340  377  392\n",
       "6   시계   C  다  168  102  149  174\n",
       "7   구두   C  다  231  279  277  292\n",
       "8  핸드백   C  다  365  383  308  323"
      ]
     },
     "execution_count": 42,
     "metadata": {},
     "output_type": "execute_result"
    }
   ],
   "source": [
    "import pandas as pd\n",
    "\n",
    "total_data = pd.DataFrame()\n",
    "\n",
    "for f in excel_data_files:\n",
    "    df = pd.read_excel(f)\n",
    "    total_data = total_data.append(df, ignore_index=True)\n",
    "\n",
    "total_data"
   ]
  },
  {
   "cell_type": "markdown",
   "metadata": {},
   "source": [
    "**[13장: 357페이지]**"
   ]
  },
  {
   "cell_type": "code",
   "execution_count": 43,
   "metadata": {
    "run_control": {
     "read_only": false
    },
    "scrolled": true
   },
   "outputs": [
    {
     "data": {
      "text/plain": [
       "['담당자별_판매량_Andy사원.xlsx', '담당자별_판매량_Becky사원.xlsx', '담당자별_판매량_Chris사원.xlsx']"
      ]
     },
     "execution_count": 43,
     "metadata": {},
     "output_type": "execute_result"
    }
   ],
   "source": [
    "import glob\n",
    "\n",
    "glob.glob(\"담당자별_판매량_*사원.xlsx\")"
   ]
  },
  {
   "cell_type": "markdown",
   "metadata": {},
   "source": [
    "**[13장: 358페이지]**"
   ]
  },
  {
   "cell_type": "code",
   "execution_count": 27,
   "metadata": {
    "run_control": {
     "read_only": false
    }
   },
   "outputs": [
    {
     "data": {
      "text/html": [
       "<div>\n",
       "<style scoped>\n",
       "    .dataframe tbody tr th:only-of-type {\n",
       "        vertical-align: middle;\n",
       "    }\n",
       "\n",
       "    .dataframe tbody tr th {\n",
       "        vertical-align: top;\n",
       "    }\n",
       "\n",
       "    .dataframe thead th {\n",
       "        text-align: right;\n",
       "    }\n",
       "</style>\n",
       "<table border=\"1\" class=\"dataframe\">\n",
       "  <thead>\n",
       "    <tr style=\"text-align: right;\">\n",
       "      <th></th>\n",
       "      <th>제품명</th>\n",
       "      <th>담당자</th>\n",
       "      <th>지역</th>\n",
       "      <th>1분기</th>\n",
       "      <th>2분기</th>\n",
       "      <th>3분기</th>\n",
       "      <th>4분기</th>\n",
       "    </tr>\n",
       "  </thead>\n",
       "  <tbody>\n",
       "    <tr>\n",
       "      <th>0</th>\n",
       "      <td>시계</td>\n",
       "      <td>A</td>\n",
       "      <td>가</td>\n",
       "      <td>198</td>\n",
       "      <td>123</td>\n",
       "      <td>120</td>\n",
       "      <td>137</td>\n",
       "    </tr>\n",
       "    <tr>\n",
       "      <th>1</th>\n",
       "      <td>구두</td>\n",
       "      <td>A</td>\n",
       "      <td>가</td>\n",
       "      <td>273</td>\n",
       "      <td>241</td>\n",
       "      <td>296</td>\n",
       "      <td>217</td>\n",
       "    </tr>\n",
       "    <tr>\n",
       "      <th>2</th>\n",
       "      <td>핸드백</td>\n",
       "      <td>A</td>\n",
       "      <td>가</td>\n",
       "      <td>385</td>\n",
       "      <td>316</td>\n",
       "      <td>355</td>\n",
       "      <td>331</td>\n",
       "    </tr>\n",
       "    <tr>\n",
       "      <th>3</th>\n",
       "      <td>시계</td>\n",
       "      <td>B</td>\n",
       "      <td>나</td>\n",
       "      <td>154</td>\n",
       "      <td>108</td>\n",
       "      <td>155</td>\n",
       "      <td>114</td>\n",
       "    </tr>\n",
       "    <tr>\n",
       "      <th>4</th>\n",
       "      <td>구두</td>\n",
       "      <td>B</td>\n",
       "      <td>나</td>\n",
       "      <td>200</td>\n",
       "      <td>223</td>\n",
       "      <td>213</td>\n",
       "      <td>202</td>\n",
       "    </tr>\n",
       "    <tr>\n",
       "      <th>5</th>\n",
       "      <td>핸드백</td>\n",
       "      <td>B</td>\n",
       "      <td>나</td>\n",
       "      <td>350</td>\n",
       "      <td>340</td>\n",
       "      <td>377</td>\n",
       "      <td>392</td>\n",
       "    </tr>\n",
       "    <tr>\n",
       "      <th>6</th>\n",
       "      <td>시계</td>\n",
       "      <td>C</td>\n",
       "      <td>다</td>\n",
       "      <td>168</td>\n",
       "      <td>102</td>\n",
       "      <td>149</td>\n",
       "      <td>174</td>\n",
       "    </tr>\n",
       "    <tr>\n",
       "      <th>7</th>\n",
       "      <td>구두</td>\n",
       "      <td>C</td>\n",
       "      <td>다</td>\n",
       "      <td>231</td>\n",
       "      <td>279</td>\n",
       "      <td>277</td>\n",
       "      <td>292</td>\n",
       "    </tr>\n",
       "    <tr>\n",
       "      <th>8</th>\n",
       "      <td>핸드백</td>\n",
       "      <td>C</td>\n",
       "      <td>다</td>\n",
       "      <td>365</td>\n",
       "      <td>383</td>\n",
       "      <td>308</td>\n",
       "      <td>323</td>\n",
       "    </tr>\n",
       "  </tbody>\n",
       "</table>\n",
       "</div>"
      ],
      "text/plain": [
       "   제품명 담당자 지역  1분기  2분기  3분기  4분기\n",
       "0   시계   A  가  198  123  120  137\n",
       "1   구두   A  가  273  241  296  217\n",
       "2  핸드백   A  가  385  316  355  331\n",
       "3   시계   B  나  154  108  155  114\n",
       "4   구두   B  나  200  223  213  202\n",
       "5  핸드백   B  나  350  340  377  392\n",
       "6   시계   C  다  168  102  149  174\n",
       "7   구두   C  다  231  279  277  292\n",
       "8  핸드백   C  다  365  383  308  323"
      ]
     },
     "execution_count": 27,
     "metadata": {},
     "output_type": "execute_result"
    }
   ],
   "source": [
    "import glob\n",
    "import pandas as pd\n",
    "\n",
    "excel_data_files1 = glob.glob(\"담당자별_판매량_*사원.xlsx\")\n",
    "total_data1 = pd.DataFrame()\n",
    "\n",
    "for f in excel_data_files1:\n",
    "    df = pd.read_excel(f)\n",
    "    total_data1 = total_data1.append(df, ignore_index=True)\n",
    "\n",
    "total_data1"
   ]
  },
  {
   "cell_type": "markdown",
   "metadata": {},
   "source": [
    "### 통합 결과를 엑셀 파일로 저장하기"
   ]
  },
  {
   "cell_type": "markdown",
   "metadata": {},
   "source": [
    "**[13장: 359페이지]**"
   ]
  },
  {
   "cell_type": "code",
   "execution_count": 44,
   "metadata": {
    "run_control": {
     "read_only": false
    },
    "scrolled": true
   },
   "outputs": [
    {
     "data": {
      "text/plain": [
       "['담당자별_판매량_통합.xlsx']"
      ]
     },
     "execution_count": 44,
     "metadata": {},
     "output_type": "execute_result"
    }
   ],
   "source": [
    "import glob\n",
    "import pandas as pd\n",
    "\n",
    "excel_file_name = '담당자별_판매량_통합.xlsx'\n",
    "\n",
    "excel_total_file_writer = pd.ExcelWriter(excel_file_name, engine='xlsxwriter')\n",
    "total_data1.to_excel(excel_total_file_writer, index=False, sheet_name='담당자별_판매량_통합')\n",
    "excel_total_file_writer.save()\n",
    "\n",
    "glob.glob(excel_file_name)"
   ]
  },
  {
   "cell_type": "markdown",
   "metadata": {},
   "source": [
    "## 13.3 엑셀 파일로 읽어온 데이터 다루기"
   ]
  },
  {
   "cell_type": "markdown",
   "metadata": {},
   "source": [
    "### 데이터를 추가하고 변경하기"
   ]
  },
  {
   "cell_type": "markdown",
   "metadata": {},
   "source": [
    "**[13장: 360페이지]**"
   ]
  },
  {
   "cell_type": "code",
   "execution_count": 46,
   "metadata": {
    "run_control": {
     "read_only": false
    },
    "scrolled": false
   },
   "outputs": [
    {
     "data": {
      "text/html": [
       "<div>\n",
       "<style scoped>\n",
       "    .dataframe tbody tr th:only-of-type {\n",
       "        vertical-align: middle;\n",
       "    }\n",
       "\n",
       "    .dataframe tbody tr th {\n",
       "        vertical-align: top;\n",
       "    }\n",
       "\n",
       "    .dataframe thead th {\n",
       "        text-align: right;\n",
       "    }\n",
       "</style>\n",
       "<table border=\"1\" class=\"dataframe\">\n",
       "  <thead>\n",
       "    <tr style=\"text-align: right;\">\n",
       "      <th></th>\n",
       "      <th>제품명</th>\n",
       "      <th>담당자</th>\n",
       "      <th>지역</th>\n",
       "      <th>1분기</th>\n",
       "      <th>2분기</th>\n",
       "      <th>3분기</th>\n",
       "      <th>4분기</th>\n",
       "    </tr>\n",
       "  </thead>\n",
       "  <tbody>\n",
       "    <tr>\n",
       "      <th>0</th>\n",
       "      <td>시계</td>\n",
       "      <td>A</td>\n",
       "      <td>가</td>\n",
       "      <td>198</td>\n",
       "      <td>123</td>\n",
       "      <td>120</td>\n",
       "      <td>137</td>\n",
       "    </tr>\n",
       "    <tr>\n",
       "      <th>1</th>\n",
       "      <td>구두</td>\n",
       "      <td>A</td>\n",
       "      <td>가</td>\n",
       "      <td>273</td>\n",
       "      <td>241</td>\n",
       "      <td>296</td>\n",
       "      <td>217</td>\n",
       "    </tr>\n",
       "    <tr>\n",
       "      <th>2</th>\n",
       "      <td>핸드백</td>\n",
       "      <td>A</td>\n",
       "      <td>가</td>\n",
       "      <td>385</td>\n",
       "      <td>316</td>\n",
       "      <td>355</td>\n",
       "      <td>331</td>\n",
       "    </tr>\n",
       "  </tbody>\n",
       "</table>\n",
       "</div>"
      ],
      "text/plain": [
       "   제품명 담당자 지역  1분기  2분기  3분기  4분기\n",
       "0   시계   A  가  198  123  120  137\n",
       "1   구두   A  가  273  241  296  217\n",
       "2  핸드백   A  가  385  316  355  331"
      ]
     },
     "execution_count": 46,
     "metadata": {},
     "output_type": "execute_result"
    }
   ],
   "source": [
    "import pandas as pd\n",
    "\n",
    "df = pd.read_excel('담당자별_판매량_Andy사원.xlsx')\n",
    "df"
   ]
  },
  {
   "cell_type": "markdown",
   "metadata": {},
   "source": [
    "**[13장: 360페이지]**"
   ]
  },
  {
   "cell_type": "raw",
   "metadata": {},
   "source": [
    "데이터 수정"
   ]
  },
  {
   "cell_type": "code",
   "execution_count": 48,
   "metadata": {},
   "outputs": [
    {
     "data": {
      "text/html": [
       "<div>\n",
       "<style scoped>\n",
       "    .dataframe tbody tr th:only-of-type {\n",
       "        vertical-align: middle;\n",
       "    }\n",
       "\n",
       "    .dataframe tbody tr th {\n",
       "        vertical-align: top;\n",
       "    }\n",
       "\n",
       "    .dataframe thead th {\n",
       "        text-align: right;\n",
       "    }\n",
       "</style>\n",
       "<table border=\"1\" class=\"dataframe\">\n",
       "  <thead>\n",
       "    <tr style=\"text-align: right;\">\n",
       "      <th></th>\n",
       "      <th>제품명</th>\n",
       "      <th>담당자</th>\n",
       "      <th>지역</th>\n",
       "      <th>1분기</th>\n",
       "      <th>2분기</th>\n",
       "      <th>3분기</th>\n",
       "      <th>4분기</th>\n",
       "    </tr>\n",
       "  </thead>\n",
       "  <tbody>\n",
       "    <tr>\n",
       "      <th>0</th>\n",
       "      <td>시계</td>\n",
       "      <td>A</td>\n",
       "      <td>가</td>\n",
       "      <td>198</td>\n",
       "      <td>123</td>\n",
       "      <td>120</td>\n",
       "      <td>137</td>\n",
       "    </tr>\n",
       "    <tr>\n",
       "      <th>1</th>\n",
       "      <td>구두</td>\n",
       "      <td>A</td>\n",
       "      <td>가</td>\n",
       "      <td>273</td>\n",
       "      <td>241</td>\n",
       "      <td>296</td>\n",
       "      <td>217</td>\n",
       "    </tr>\n",
       "    <tr>\n",
       "      <th>2</th>\n",
       "      <td>핸드백</td>\n",
       "      <td>A</td>\n",
       "      <td>가</td>\n",
       "      <td>385</td>\n",
       "      <td>316</td>\n",
       "      <td>355</td>\n",
       "      <td>0</td>\n",
       "    </tr>\n",
       "  </tbody>\n",
       "</table>\n",
       "</div>"
      ],
      "text/plain": [
       "   제품명 담당자 지역  1분기  2분기  3분기  4분기\n",
       "0   시계   A  가  198  123  120  137\n",
       "1   구두   A  가  273  241  296  217\n",
       "2  핸드백   A  가  385  316  355    0"
      ]
     },
     "execution_count": 48,
     "metadata": {},
     "output_type": "execute_result"
    }
   ],
   "source": [
    "df.loc[2, '4분기']= 0\n",
    "df"
   ]
  },
  {
   "cell_type": "markdown",
   "metadata": {},
   "source": [
    "**[13장: 361페이지]**"
   ]
  },
  {
   "cell_type": "code",
   "execution_count": 49,
   "metadata": {},
   "outputs": [
    {
     "data": {
      "text/html": [
       "<div>\n",
       "<style scoped>\n",
       "    .dataframe tbody tr th:only-of-type {\n",
       "        vertical-align: middle;\n",
       "    }\n",
       "\n",
       "    .dataframe tbody tr th {\n",
       "        vertical-align: top;\n",
       "    }\n",
       "\n",
       "    .dataframe thead th {\n",
       "        text-align: right;\n",
       "    }\n",
       "</style>\n",
       "<table border=\"1\" class=\"dataframe\">\n",
       "  <thead>\n",
       "    <tr style=\"text-align: right;\">\n",
       "      <th></th>\n",
       "      <th>제품명</th>\n",
       "      <th>담당자</th>\n",
       "      <th>지역</th>\n",
       "      <th>1분기</th>\n",
       "      <th>2분기</th>\n",
       "      <th>3분기</th>\n",
       "      <th>4분기</th>\n",
       "    </tr>\n",
       "  </thead>\n",
       "  <tbody>\n",
       "    <tr>\n",
       "      <th>0</th>\n",
       "      <td>시계</td>\n",
       "      <td>A</td>\n",
       "      <td>가</td>\n",
       "      <td>198.0</td>\n",
       "      <td>123.0</td>\n",
       "      <td>120.0</td>\n",
       "      <td>137.0</td>\n",
       "    </tr>\n",
       "    <tr>\n",
       "      <th>1</th>\n",
       "      <td>구두</td>\n",
       "      <td>A</td>\n",
       "      <td>가</td>\n",
       "      <td>273.0</td>\n",
       "      <td>241.0</td>\n",
       "      <td>296.0</td>\n",
       "      <td>217.0</td>\n",
       "    </tr>\n",
       "    <tr>\n",
       "      <th>2</th>\n",
       "      <td>핸드백</td>\n",
       "      <td>A</td>\n",
       "      <td>가</td>\n",
       "      <td>385.0</td>\n",
       "      <td>316.0</td>\n",
       "      <td>355.0</td>\n",
       "      <td>0.0</td>\n",
       "    </tr>\n",
       "    <tr>\n",
       "      <th>3</th>\n",
       "      <td>벨트</td>\n",
       "      <td>A</td>\n",
       "      <td>가</td>\n",
       "      <td>100.0</td>\n",
       "      <td>150.0</td>\n",
       "      <td>200.0</td>\n",
       "      <td>250.0</td>\n",
       "    </tr>\n",
       "  </tbody>\n",
       "</table>\n",
       "</div>"
      ],
      "text/plain": [
       "   제품명 담당자 지역    1분기    2분기    3분기    4분기\n",
       "0   시계   A  가  198.0  123.0  120.0  137.0\n",
       "1   구두   A  가  273.0  241.0  296.0  217.0\n",
       "2  핸드백   A  가  385.0  316.0  355.0    0.0\n",
       "3   벨트   A  가  100.0  150.0  200.0  250.0"
      ]
     },
     "execution_count": 49,
     "metadata": {},
     "output_type": "execute_result"
    }
   ],
   "source": [
    "df.loc[3, '제품명'] = '벨트'\n",
    "df.loc[3, '담당자'] = 'A'\n",
    "df.loc[3, '지역'] = '가'\n",
    "df.loc[3, '1분기'] = 100\n",
    "df.loc[3, '2분기'] = 150\n",
    "df.loc[3, '3분기'] = 200\n",
    "df.loc[3, '4분기'] = 250\n",
    "\n",
    "df"
   ]
  },
  {
   "cell_type": "markdown",
   "metadata": {},
   "source": [
    "**[13장: 361페이지]**"
   ]
  },
  {
   "cell_type": "code",
   "execution_count": 50,
   "metadata": {},
   "outputs": [
    {
     "data": {
      "text/html": [
       "<div>\n",
       "<style scoped>\n",
       "    .dataframe tbody tr th:only-of-type {\n",
       "        vertical-align: middle;\n",
       "    }\n",
       "\n",
       "    .dataframe tbody tr th {\n",
       "        vertical-align: top;\n",
       "    }\n",
       "\n",
       "    .dataframe thead th {\n",
       "        text-align: right;\n",
       "    }\n",
       "</style>\n",
       "<table border=\"1\" class=\"dataframe\">\n",
       "  <thead>\n",
       "    <tr style=\"text-align: right;\">\n",
       "      <th></th>\n",
       "      <th>제품명</th>\n",
       "      <th>담당자</th>\n",
       "      <th>지역</th>\n",
       "      <th>1분기</th>\n",
       "      <th>2분기</th>\n",
       "      <th>3분기</th>\n",
       "      <th>4분기</th>\n",
       "    </tr>\n",
       "  </thead>\n",
       "  <tbody>\n",
       "    <tr>\n",
       "      <th>0</th>\n",
       "      <td>시계</td>\n",
       "      <td>Andy</td>\n",
       "      <td>가</td>\n",
       "      <td>198.0</td>\n",
       "      <td>123.0</td>\n",
       "      <td>120.0</td>\n",
       "      <td>137.0</td>\n",
       "    </tr>\n",
       "    <tr>\n",
       "      <th>1</th>\n",
       "      <td>구두</td>\n",
       "      <td>Andy</td>\n",
       "      <td>가</td>\n",
       "      <td>273.0</td>\n",
       "      <td>241.0</td>\n",
       "      <td>296.0</td>\n",
       "      <td>217.0</td>\n",
       "    </tr>\n",
       "    <tr>\n",
       "      <th>2</th>\n",
       "      <td>핸드백</td>\n",
       "      <td>Andy</td>\n",
       "      <td>가</td>\n",
       "      <td>385.0</td>\n",
       "      <td>316.0</td>\n",
       "      <td>355.0</td>\n",
       "      <td>0.0</td>\n",
       "    </tr>\n",
       "    <tr>\n",
       "      <th>3</th>\n",
       "      <td>벨트</td>\n",
       "      <td>Andy</td>\n",
       "      <td>가</td>\n",
       "      <td>100.0</td>\n",
       "      <td>150.0</td>\n",
       "      <td>200.0</td>\n",
       "      <td>250.0</td>\n",
       "    </tr>\n",
       "  </tbody>\n",
       "</table>\n",
       "</div>"
      ],
      "text/plain": [
       "   제품명   담당자 지역    1분기    2분기    3분기    4분기\n",
       "0   시계  Andy  가  198.0  123.0  120.0  137.0\n",
       "1   구두  Andy  가  273.0  241.0  296.0  217.0\n",
       "2  핸드백  Andy  가  385.0  316.0  355.0    0.0\n",
       "3   벨트  Andy  가  100.0  150.0  200.0  250.0"
      ]
     },
     "execution_count": 50,
     "metadata": {},
     "output_type": "execute_result"
    }
   ],
   "source": [
    "df['담당자'] = 'Andy'\n",
    "df"
   ]
  },
  {
   "cell_type": "markdown",
   "metadata": {},
   "source": [
    "**[13장: 362페이지]**"
   ]
  },
  {
   "cell_type": "code",
   "execution_count": 51,
   "metadata": {
    "run_control": {
     "read_only": false
    }
   },
   "outputs": [
    {
     "data": {
      "text/plain": [
       "['담당자별_판매량_Andy사원_new.xlsx']"
      ]
     },
     "execution_count": 51,
     "metadata": {},
     "output_type": "execute_result"
    }
   ],
   "source": [
    "excel_file_name = '담당자별_판매량_Andy사원_new.xlsx'\n",
    "\n",
    "new_excel_file = pd.ExcelWriter(excel_file_name, engine='xlsxwriter')\n",
    "df.to_excel(new_excel_file, index=False)\n",
    "new_excel_file.save()\n",
    "\n",
    "glob.glob(excel_file_name)"
   ]
  },
  {
   "cell_type": "markdown",
   "metadata": {},
   "source": [
    "### 여러 개의 엑셀 파일에서 데이터 수정하기"
   ]
  },
  {
   "cell_type": "markdown",
   "metadata": {},
   "source": [
    "**[13장: 363페이지]**"
   ]
  },
  {
   "cell_type": "code",
   "execution_count": 52,
   "metadata": {
    "run_control": {
     "read_only": false
    }
   },
   "outputs": [
    {
     "data": {
      "text/plain": [
       "'담당자별_판매량_Andy사원2.xlsx'"
      ]
     },
     "execution_count": 52,
     "metadata": {},
     "output_type": "execute_result"
    }
   ],
   "source": [
    "import re\n",
    "\n",
    "file_name  = '담당자별_판매량_Andy사원.xlsx'\n",
    "\n",
    "new_file_name = re.sub(\".xlsx\", \"2.xlsx\", file_name)\n",
    "new_file_name"
   ]
  },
  {
   "cell_type": "markdown",
   "metadata": {},
   "source": [
    "**[13장: 363 ~ 364페이지]**"
   ]
  },
  {
   "cell_type": "code",
   "execution_count": 55,
   "metadata": {
    "scrolled": true
   },
   "outputs": [
    {
     "name": "stdout",
     "output_type": "stream",
     "text": [
      "담당자별_판매량_Andy사원2.xlsx\n",
      "담당자별_판매량_Becky사원2.xlsx\n",
      "담당자별_판매량_Chris사원2.xlsx\n"
     ]
    }
   ],
   "source": [
    "import glob\n",
    "import re\n",
    "import pandas as pd\n",
    "\n",
    "# 원하는 문자열이 포함된 파일을 검색해 리스트를 할당한다.\n",
    "excel_data_files1 = glob.glob(\"담당자별_판매량_*사원.xlsx\")\n",
    "\n",
    "# 리스트에 있는 엑셀 파일만큼 반복 수행한다.\n",
    "for f in excel_data_files1:\n",
    "    # 엑셀 파일에서 DataFrame 형식으로 데이터 가져온다.\n",
    "    df = pd.read_excel(f) \n",
    "    \n",
    "    # 특정 열의 값을 변경한다.    \n",
    "    if(df.loc[1, '담당자']=='A'):\n",
    "        df['담당자']='Andy'\n",
    "    elif(df.loc[1, '담당자']=='B'):\n",
    "        df['담당자']='Becky'\n",
    "    elif(df.loc[1, '담당자']=='C'):\n",
    "        df['담당자']='Chris'        \n",
    "    \n",
    "    # 엑셀 파일 이름에서 지정된 문자열 패턴을 찾아서 파일명을 변경한다.\n",
    "    f_new = re.sub(\".xlsx\", \"2.xlsx\", f)\n",
    "    print(f_new)\n",
    "    \n",
    "    # 수정된 데이터를 새로운 이름의 엑셀 파일로 저장한다.\n",
    "    new_excel_file = pd.ExcelWriter(f_new, engine='xlsxwriter')\n",
    "    df.to_excel(new_excel_file, index=False)\n",
    "    new_excel_file.save()"
   ]
  },
  {
   "cell_type": "markdown",
   "metadata": {},
   "source": [
    "**[13장: 364페이지]**"
   ]
  },
  {
   "cell_type": "code",
   "execution_count": 56,
   "metadata": {},
   "outputs": [
    {
     "data": {
      "text/plain": [
       "['담당자별_판매량_Andy사원2.xlsx', '담당자별_판매량_Becky사원2.xlsx', '담당자별_판매량_Chris사원2.xlsx']"
      ]
     },
     "execution_count": 56,
     "metadata": {},
     "output_type": "execute_result"
    }
   ],
   "source": [
    "glob.glob(\"담당자별_판매량_*사원?.xlsx\")"
   ]
  },
  {
   "cell_type": "markdown",
   "metadata": {},
   "source": [
    "### 엑셀의 필터 기능 수행하기"
   ]
  },
  {
   "cell_type": "markdown",
   "metadata": {},
   "source": [
    "**[13장: 366페이지]**"
   ]
  },
  {
   "cell_type": "code",
   "execution_count": 58,
   "metadata": {},
   "outputs": [
    {
     "data": {
      "text/html": [
       "<div>\n",
       "<style scoped>\n",
       "    .dataframe tbody tr th:only-of-type {\n",
       "        vertical-align: middle;\n",
       "    }\n",
       "\n",
       "    .dataframe tbody tr th {\n",
       "        vertical-align: top;\n",
       "    }\n",
       "\n",
       "    .dataframe thead th {\n",
       "        text-align: right;\n",
       "    }\n",
       "</style>\n",
       "<table border=\"1\" class=\"dataframe\">\n",
       "  <thead>\n",
       "    <tr style=\"text-align: right;\">\n",
       "      <th></th>\n",
       "      <th>제품명</th>\n",
       "      <th>담당자</th>\n",
       "      <th>지역</th>\n",
       "      <th>1분기</th>\n",
       "      <th>2분기</th>\n",
       "      <th>3분기</th>\n",
       "      <th>4분기</th>\n",
       "    </tr>\n",
       "  </thead>\n",
       "  <tbody>\n",
       "    <tr>\n",
       "      <th>0</th>\n",
       "      <td>시계</td>\n",
       "      <td>A</td>\n",
       "      <td>가</td>\n",
       "      <td>198</td>\n",
       "      <td>123</td>\n",
       "      <td>120</td>\n",
       "      <td>137</td>\n",
       "    </tr>\n",
       "    <tr>\n",
       "      <th>1</th>\n",
       "      <td>구두</td>\n",
       "      <td>A</td>\n",
       "      <td>가</td>\n",
       "      <td>273</td>\n",
       "      <td>241</td>\n",
       "      <td>296</td>\n",
       "      <td>217</td>\n",
       "    </tr>\n",
       "    <tr>\n",
       "      <th>2</th>\n",
       "      <td>핸드백</td>\n",
       "      <td>A</td>\n",
       "      <td>가</td>\n",
       "      <td>385</td>\n",
       "      <td>316</td>\n",
       "      <td>355</td>\n",
       "      <td>331</td>\n",
       "    </tr>\n",
       "    <tr>\n",
       "      <th>3</th>\n",
       "      <td>시계</td>\n",
       "      <td>B</td>\n",
       "      <td>나</td>\n",
       "      <td>154</td>\n",
       "      <td>108</td>\n",
       "      <td>155</td>\n",
       "      <td>114</td>\n",
       "    </tr>\n",
       "    <tr>\n",
       "      <th>4</th>\n",
       "      <td>구두</td>\n",
       "      <td>B</td>\n",
       "      <td>나</td>\n",
       "      <td>200</td>\n",
       "      <td>223</td>\n",
       "      <td>213</td>\n",
       "      <td>202</td>\n",
       "    </tr>\n",
       "    <tr>\n",
       "      <th>5</th>\n",
       "      <td>핸드백</td>\n",
       "      <td>B</td>\n",
       "      <td>나</td>\n",
       "      <td>350</td>\n",
       "      <td>340</td>\n",
       "      <td>377</td>\n",
       "      <td>392</td>\n",
       "    </tr>\n",
       "    <tr>\n",
       "      <th>6</th>\n",
       "      <td>시계</td>\n",
       "      <td>C</td>\n",
       "      <td>다</td>\n",
       "      <td>168</td>\n",
       "      <td>102</td>\n",
       "      <td>149</td>\n",
       "      <td>174</td>\n",
       "    </tr>\n",
       "    <tr>\n",
       "      <th>7</th>\n",
       "      <td>구두</td>\n",
       "      <td>C</td>\n",
       "      <td>다</td>\n",
       "      <td>231</td>\n",
       "      <td>279</td>\n",
       "      <td>277</td>\n",
       "      <td>292</td>\n",
       "    </tr>\n",
       "    <tr>\n",
       "      <th>8</th>\n",
       "      <td>핸드백</td>\n",
       "      <td>C</td>\n",
       "      <td>다</td>\n",
       "      <td>365</td>\n",
       "      <td>383</td>\n",
       "      <td>308</td>\n",
       "      <td>323</td>\n",
       "    </tr>\n",
       "  </tbody>\n",
       "</table>\n",
       "</div>"
      ],
      "text/plain": [
       "   제품명 담당자 지역  1분기  2분기  3분기  4분기\n",
       "0   시계   A  가  198  123  120  137\n",
       "1   구두   A  가  273  241  296  217\n",
       "2  핸드백   A  가  385  316  355  331\n",
       "3   시계   B  나  154  108  155  114\n",
       "4   구두   B  나  200  223  213  202\n",
       "5  핸드백   B  나  350  340  377  392\n",
       "6   시계   C  다  168  102  149  174\n",
       "7   구두   C  다  231  279  277  292\n",
       "8  핸드백   C  다  365  383  308  323"
      ]
     },
     "execution_count": 58,
     "metadata": {},
     "output_type": "execute_result"
    }
   ],
   "source": [
    "import pandas as pd\n",
    "\n",
    "df = pd.read_excel('담당자별_판매량_통합.xlsx')\n",
    "df"
   ]
  },
  {
   "cell_type": "markdown",
   "metadata": {},
   "source": [
    "**[13장: 367페이지]**"
   ]
  },
  {
   "cell_type": "code",
   "execution_count": 59,
   "metadata": {},
   "outputs": [
    {
     "data": {
      "text/plain": [
       "0     시계\n",
       "1     구두\n",
       "2    핸드백\n",
       "3     시계\n",
       "4     구두\n",
       "5    핸드백\n",
       "6     시계\n",
       "7     구두\n",
       "8    핸드백\n",
       "Name: 제품명, dtype: object"
      ]
     },
     "execution_count": 59,
     "metadata": {},
     "output_type": "execute_result"
    }
   ],
   "source": [
    "df['제품명']"
   ]
  },
  {
   "cell_type": "markdown",
   "metadata": {},
   "source": [
    "**[13장: 367페이지]**"
   ]
  },
  {
   "cell_type": "code",
   "execution_count": 60,
   "metadata": {},
   "outputs": [
    {
     "data": {
      "text/plain": [
       "0    False\n",
       "1    False\n",
       "2     True\n",
       "3    False\n",
       "4    False\n",
       "5     True\n",
       "6    False\n",
       "7    False\n",
       "8     True\n",
       "Name: 제품명, dtype: bool"
      ]
     },
     "execution_count": 60,
     "metadata": {},
     "output_type": "execute_result"
    }
   ],
   "source": [
    "df['제품명'] == '핸드백'"
   ]
  },
  {
   "cell_type": "markdown",
   "metadata": {},
   "source": [
    "**[13장: 368페이지]**"
   ]
  },
  {
   "cell_type": "code",
   "execution_count": 61,
   "metadata": {
    "run_control": {
     "read_only": false
    }
   },
   "outputs": [
    {
     "data": {
      "text/html": [
       "<div>\n",
       "<style scoped>\n",
       "    .dataframe tbody tr th:only-of-type {\n",
       "        vertical-align: middle;\n",
       "    }\n",
       "\n",
       "    .dataframe tbody tr th {\n",
       "        vertical-align: top;\n",
       "    }\n",
       "\n",
       "    .dataframe thead th {\n",
       "        text-align: right;\n",
       "    }\n",
       "</style>\n",
       "<table border=\"1\" class=\"dataframe\">\n",
       "  <thead>\n",
       "    <tr style=\"text-align: right;\">\n",
       "      <th></th>\n",
       "      <th>제품명</th>\n",
       "      <th>담당자</th>\n",
       "      <th>지역</th>\n",
       "      <th>1분기</th>\n",
       "      <th>2분기</th>\n",
       "      <th>3분기</th>\n",
       "      <th>4분기</th>\n",
       "    </tr>\n",
       "  </thead>\n",
       "  <tbody>\n",
       "    <tr>\n",
       "      <th>2</th>\n",
       "      <td>핸드백</td>\n",
       "      <td>A</td>\n",
       "      <td>가</td>\n",
       "      <td>385</td>\n",
       "      <td>316</td>\n",
       "      <td>355</td>\n",
       "      <td>331</td>\n",
       "    </tr>\n",
       "    <tr>\n",
       "      <th>5</th>\n",
       "      <td>핸드백</td>\n",
       "      <td>B</td>\n",
       "      <td>나</td>\n",
       "      <td>350</td>\n",
       "      <td>340</td>\n",
       "      <td>377</td>\n",
       "      <td>392</td>\n",
       "    </tr>\n",
       "    <tr>\n",
       "      <th>8</th>\n",
       "      <td>핸드백</td>\n",
       "      <td>C</td>\n",
       "      <td>다</td>\n",
       "      <td>365</td>\n",
       "      <td>383</td>\n",
       "      <td>308</td>\n",
       "      <td>323</td>\n",
       "    </tr>\n",
       "  </tbody>\n",
       "</table>\n",
       "</div>"
      ],
      "text/plain": [
       "   제품명 담당자 지역  1분기  2분기  3분기  4분기\n",
       "2  핸드백   A  가  385  316  355  331\n",
       "5  핸드백   B  나  350  340  377  392\n",
       "8  핸드백   C  다  365  383  308  323"
      ]
     },
     "execution_count": 61,
     "metadata": {},
     "output_type": "execute_result"
    }
   ],
   "source": [
    "handbag = df[df['제품명'] == '핸드백']\n",
    "handbag"
   ]
  },
  {
   "cell_type": "markdown",
   "metadata": {},
   "source": [
    "**[13장: 368페이지]**"
   ]
  },
  {
   "cell_type": "code",
   "execution_count": 70,
   "metadata": {},
   "outputs": [
    {
     "data": {
      "text/html": [
       "<div>\n",
       "<style scoped>\n",
       "    .dataframe tbody tr th:only-of-type {\n",
       "        vertical-align: middle;\n",
       "    }\n",
       "\n",
       "    .dataframe tbody tr th {\n",
       "        vertical-align: top;\n",
       "    }\n",
       "\n",
       "    .dataframe thead th {\n",
       "        text-align: right;\n",
       "    }\n",
       "</style>\n",
       "<table border=\"1\" class=\"dataframe\">\n",
       "  <thead>\n",
       "    <tr style=\"text-align: right;\">\n",
       "      <th></th>\n",
       "      <th>제품명</th>\n",
       "      <th>담당자</th>\n",
       "      <th>지역</th>\n",
       "      <th>1분기</th>\n",
       "      <th>2분기</th>\n",
       "      <th>3분기</th>\n",
       "      <th>4분기</th>\n",
       "    </tr>\n",
       "  </thead>\n",
       "  <tbody>\n",
       "    <tr>\n",
       "      <th>2</th>\n",
       "      <td>핸드백</td>\n",
       "      <td>A</td>\n",
       "      <td>가</td>\n",
       "      <td>385</td>\n",
       "      <td>316</td>\n",
       "      <td>355</td>\n",
       "      <td>331</td>\n",
       "    </tr>\n",
       "    <tr>\n",
       "      <th>5</th>\n",
       "      <td>핸드백</td>\n",
       "      <td>B</td>\n",
       "      <td>나</td>\n",
       "      <td>350</td>\n",
       "      <td>340</td>\n",
       "      <td>377</td>\n",
       "      <td>392</td>\n",
       "    </tr>\n",
       "    <tr>\n",
       "      <th>8</th>\n",
       "      <td>핸드백</td>\n",
       "      <td>C</td>\n",
       "      <td>다</td>\n",
       "      <td>365</td>\n",
       "      <td>383</td>\n",
       "      <td>308</td>\n",
       "      <td>323</td>\n",
       "    </tr>\n",
       "  </tbody>\n",
       "</table>\n",
       "</div>"
      ],
      "text/plain": [
       "   제품명 담당자 지역  1분기  2분기  3분기  4분기\n",
       "2  핸드백   A  가  385  316  355  331\n",
       "5  핸드백   B  나  350  340  377  392\n",
       "8  핸드백   C  다  365  383  308  323"
      ]
     },
     "execution_count": 70,
     "metadata": {},
     "output_type": "execute_result"
    }
   ],
   "source": [
    "import pandas as pd\n",
    "\n",
    "df = pd.read_excel('담당자별_판매량_통합.xlsx')\n",
    "handbag1 = df[df['제품명'].isin(['핸드백'])]\n",
    "handbag1"
   ]
  },
  {
   "cell_type": "markdown",
   "metadata": {},
   "source": [
    "**[13장: 370페이지]**"
   ]
  },
  {
   "cell_type": "code",
   "execution_count": 71,
   "metadata": {},
   "outputs": [
    {
     "data": {
      "text/html": [
       "<div>\n",
       "<style scoped>\n",
       "    .dataframe tbody tr th:only-of-type {\n",
       "        vertical-align: middle;\n",
       "    }\n",
       "\n",
       "    .dataframe tbody tr th {\n",
       "        vertical-align: top;\n",
       "    }\n",
       "\n",
       "    .dataframe thead th {\n",
       "        text-align: right;\n",
       "    }\n",
       "</style>\n",
       "<table border=\"1\" class=\"dataframe\">\n",
       "  <thead>\n",
       "    <tr style=\"text-align: right;\">\n",
       "      <th></th>\n",
       "      <th>제품명</th>\n",
       "      <th>담당자</th>\n",
       "      <th>지역</th>\n",
       "      <th>1분기</th>\n",
       "      <th>2분기</th>\n",
       "      <th>3분기</th>\n",
       "      <th>4분기</th>\n",
       "    </tr>\n",
       "  </thead>\n",
       "  <tbody>\n",
       "    <tr>\n",
       "      <th>1</th>\n",
       "      <td>구두</td>\n",
       "      <td>A</td>\n",
       "      <td>가</td>\n",
       "      <td>273</td>\n",
       "      <td>241</td>\n",
       "      <td>296</td>\n",
       "      <td>217</td>\n",
       "    </tr>\n",
       "    <tr>\n",
       "      <th>2</th>\n",
       "      <td>핸드백</td>\n",
       "      <td>A</td>\n",
       "      <td>가</td>\n",
       "      <td>385</td>\n",
       "      <td>316</td>\n",
       "      <td>355</td>\n",
       "      <td>331</td>\n",
       "    </tr>\n",
       "    <tr>\n",
       "      <th>4</th>\n",
       "      <td>구두</td>\n",
       "      <td>B</td>\n",
       "      <td>나</td>\n",
       "      <td>200</td>\n",
       "      <td>223</td>\n",
       "      <td>213</td>\n",
       "      <td>202</td>\n",
       "    </tr>\n",
       "    <tr>\n",
       "      <th>5</th>\n",
       "      <td>핸드백</td>\n",
       "      <td>B</td>\n",
       "      <td>나</td>\n",
       "      <td>350</td>\n",
       "      <td>340</td>\n",
       "      <td>377</td>\n",
       "      <td>392</td>\n",
       "    </tr>\n",
       "    <tr>\n",
       "      <th>7</th>\n",
       "      <td>구두</td>\n",
       "      <td>C</td>\n",
       "      <td>다</td>\n",
       "      <td>231</td>\n",
       "      <td>279</td>\n",
       "      <td>277</td>\n",
       "      <td>292</td>\n",
       "    </tr>\n",
       "    <tr>\n",
       "      <th>8</th>\n",
       "      <td>핸드백</td>\n",
       "      <td>C</td>\n",
       "      <td>다</td>\n",
       "      <td>365</td>\n",
       "      <td>383</td>\n",
       "      <td>308</td>\n",
       "      <td>323</td>\n",
       "    </tr>\n",
       "  </tbody>\n",
       "</table>\n",
       "</div>"
      ],
      "text/plain": [
       "   제품명 담당자 지역  1분기  2분기  3분기  4분기\n",
       "1   구두   A  가  273  241  296  217\n",
       "2  핸드백   A  가  385  316  355  331\n",
       "4   구두   B  나  200  223  213  202\n",
       "5  핸드백   B  나  350  340  377  392\n",
       "7   구두   C  다  231  279  277  292\n",
       "8  핸드백   C  다  365  383  308  323"
      ]
     },
     "execution_count": 71,
     "metadata": {},
     "output_type": "execute_result"
    }
   ],
   "source": [
    "df[(df['제품명']== '구두') | (df['제품명']== '핸드백')]"
   ]
  },
  {
   "cell_type": "markdown",
   "metadata": {},
   "source": [
    "**[13장: 370페이지]**"
   ]
  },
  {
   "cell_type": "code",
   "execution_count": 72,
   "metadata": {
    "run_control": {
     "read_only": false
    }
   },
   "outputs": [
    {
     "data": {
      "text/html": [
       "<div>\n",
       "<style scoped>\n",
       "    .dataframe tbody tr th:only-of-type {\n",
       "        vertical-align: middle;\n",
       "    }\n",
       "\n",
       "    .dataframe tbody tr th {\n",
       "        vertical-align: top;\n",
       "    }\n",
       "\n",
       "    .dataframe thead th {\n",
       "        text-align: right;\n",
       "    }\n",
       "</style>\n",
       "<table border=\"1\" class=\"dataframe\">\n",
       "  <thead>\n",
       "    <tr style=\"text-align: right;\">\n",
       "      <th></th>\n",
       "      <th>제품명</th>\n",
       "      <th>담당자</th>\n",
       "      <th>지역</th>\n",
       "      <th>1분기</th>\n",
       "      <th>2분기</th>\n",
       "      <th>3분기</th>\n",
       "      <th>4분기</th>\n",
       "    </tr>\n",
       "  </thead>\n",
       "  <tbody>\n",
       "    <tr>\n",
       "      <th>1</th>\n",
       "      <td>구두</td>\n",
       "      <td>A</td>\n",
       "      <td>가</td>\n",
       "      <td>273</td>\n",
       "      <td>241</td>\n",
       "      <td>296</td>\n",
       "      <td>217</td>\n",
       "    </tr>\n",
       "    <tr>\n",
       "      <th>2</th>\n",
       "      <td>핸드백</td>\n",
       "      <td>A</td>\n",
       "      <td>가</td>\n",
       "      <td>385</td>\n",
       "      <td>316</td>\n",
       "      <td>355</td>\n",
       "      <td>331</td>\n",
       "    </tr>\n",
       "    <tr>\n",
       "      <th>4</th>\n",
       "      <td>구두</td>\n",
       "      <td>B</td>\n",
       "      <td>나</td>\n",
       "      <td>200</td>\n",
       "      <td>223</td>\n",
       "      <td>213</td>\n",
       "      <td>202</td>\n",
       "    </tr>\n",
       "    <tr>\n",
       "      <th>5</th>\n",
       "      <td>핸드백</td>\n",
       "      <td>B</td>\n",
       "      <td>나</td>\n",
       "      <td>350</td>\n",
       "      <td>340</td>\n",
       "      <td>377</td>\n",
       "      <td>392</td>\n",
       "    </tr>\n",
       "    <tr>\n",
       "      <th>7</th>\n",
       "      <td>구두</td>\n",
       "      <td>C</td>\n",
       "      <td>다</td>\n",
       "      <td>231</td>\n",
       "      <td>279</td>\n",
       "      <td>277</td>\n",
       "      <td>292</td>\n",
       "    </tr>\n",
       "    <tr>\n",
       "      <th>8</th>\n",
       "      <td>핸드백</td>\n",
       "      <td>C</td>\n",
       "      <td>다</td>\n",
       "      <td>365</td>\n",
       "      <td>383</td>\n",
       "      <td>308</td>\n",
       "      <td>323</td>\n",
       "    </tr>\n",
       "  </tbody>\n",
       "</table>\n",
       "</div>"
      ],
      "text/plain": [
       "   제품명 담당자 지역  1분기  2분기  3분기  4분기\n",
       "1   구두   A  가  273  241  296  217\n",
       "2  핸드백   A  가  385  316  355  331\n",
       "4   구두   B  나  200  223  213  202\n",
       "5  핸드백   B  나  350  340  377  392\n",
       "7   구두   C  다  231  279  277  292\n",
       "8  핸드백   C  다  365  383  308  323"
      ]
     },
     "execution_count": 72,
     "metadata": {},
     "output_type": "execute_result"
    }
   ],
   "source": [
    "df[df['제품명'].isin(['구두', '핸드백'])]"
   ]
  },
  {
   "cell_type": "markdown",
   "metadata": {},
   "source": [
    "### 조건을 설정해 원하는 행만 선택하기"
   ]
  },
  {
   "cell_type": "markdown",
   "metadata": {},
   "source": [
    "**[13장: 371페이지]**"
   ]
  },
  {
   "cell_type": "code",
   "execution_count": 73,
   "metadata": {},
   "outputs": [
    {
     "data": {
      "text/html": [
       "<div>\n",
       "<style scoped>\n",
       "    .dataframe tbody tr th:only-of-type {\n",
       "        vertical-align: middle;\n",
       "    }\n",
       "\n",
       "    .dataframe tbody tr th {\n",
       "        vertical-align: top;\n",
       "    }\n",
       "\n",
       "    .dataframe thead th {\n",
       "        text-align: right;\n",
       "    }\n",
       "</style>\n",
       "<table border=\"1\" class=\"dataframe\">\n",
       "  <thead>\n",
       "    <tr style=\"text-align: right;\">\n",
       "      <th></th>\n",
       "      <th>제품명</th>\n",
       "      <th>담당자</th>\n",
       "      <th>지역</th>\n",
       "      <th>1분기</th>\n",
       "      <th>2분기</th>\n",
       "      <th>3분기</th>\n",
       "      <th>4분기</th>\n",
       "    </tr>\n",
       "  </thead>\n",
       "  <tbody>\n",
       "    <tr>\n",
       "      <th>1</th>\n",
       "      <td>구두</td>\n",
       "      <td>A</td>\n",
       "      <td>가</td>\n",
       "      <td>273</td>\n",
       "      <td>241</td>\n",
       "      <td>296</td>\n",
       "      <td>217</td>\n",
       "    </tr>\n",
       "    <tr>\n",
       "      <th>2</th>\n",
       "      <td>핸드백</td>\n",
       "      <td>A</td>\n",
       "      <td>가</td>\n",
       "      <td>385</td>\n",
       "      <td>316</td>\n",
       "      <td>355</td>\n",
       "      <td>331</td>\n",
       "    </tr>\n",
       "    <tr>\n",
       "      <th>5</th>\n",
       "      <td>핸드백</td>\n",
       "      <td>B</td>\n",
       "      <td>나</td>\n",
       "      <td>350</td>\n",
       "      <td>340</td>\n",
       "      <td>377</td>\n",
       "      <td>392</td>\n",
       "    </tr>\n",
       "    <tr>\n",
       "      <th>7</th>\n",
       "      <td>구두</td>\n",
       "      <td>C</td>\n",
       "      <td>다</td>\n",
       "      <td>231</td>\n",
       "      <td>279</td>\n",
       "      <td>277</td>\n",
       "      <td>292</td>\n",
       "    </tr>\n",
       "    <tr>\n",
       "      <th>8</th>\n",
       "      <td>핸드백</td>\n",
       "      <td>C</td>\n",
       "      <td>다</td>\n",
       "      <td>365</td>\n",
       "      <td>383</td>\n",
       "      <td>308</td>\n",
       "      <td>323</td>\n",
       "    </tr>\n",
       "  </tbody>\n",
       "</table>\n",
       "</div>"
      ],
      "text/plain": [
       "   제품명 담당자 지역  1분기  2분기  3분기  4분기\n",
       "1   구두   A  가  273  241  296  217\n",
       "2  핸드백   A  가  385  316  355  331\n",
       "5  핸드백   B  나  350  340  377  392\n",
       "7   구두   C  다  231  279  277  292\n",
       "8  핸드백   C  다  365  383  308  323"
      ]
     },
     "execution_count": 73,
     "metadata": {},
     "output_type": "execute_result"
    }
   ],
   "source": [
    "df[(df['3분기'] >= 250)]"
   ]
  },
  {
   "cell_type": "markdown",
   "metadata": {},
   "source": [
    "**[13장: 371페이지]**"
   ]
  },
  {
   "cell_type": "code",
   "execution_count": 74,
   "metadata": {
    "scrolled": false
   },
   "outputs": [
    {
     "data": {
      "text/html": [
       "<div>\n",
       "<style scoped>\n",
       "    .dataframe tbody tr th:only-of-type {\n",
       "        vertical-align: middle;\n",
       "    }\n",
       "\n",
       "    .dataframe tbody tr th {\n",
       "        vertical-align: top;\n",
       "    }\n",
       "\n",
       "    .dataframe thead th {\n",
       "        text-align: right;\n",
       "    }\n",
       "</style>\n",
       "<table border=\"1\" class=\"dataframe\">\n",
       "  <thead>\n",
       "    <tr style=\"text-align: right;\">\n",
       "      <th></th>\n",
       "      <th>제품명</th>\n",
       "      <th>담당자</th>\n",
       "      <th>지역</th>\n",
       "      <th>1분기</th>\n",
       "      <th>2분기</th>\n",
       "      <th>3분기</th>\n",
       "      <th>4분기</th>\n",
       "    </tr>\n",
       "  </thead>\n",
       "  <tbody>\n",
       "    <tr>\n",
       "      <th>2</th>\n",
       "      <td>핸드백</td>\n",
       "      <td>A</td>\n",
       "      <td>가</td>\n",
       "      <td>385</td>\n",
       "      <td>316</td>\n",
       "      <td>355</td>\n",
       "      <td>331</td>\n",
       "    </tr>\n",
       "    <tr>\n",
       "      <th>5</th>\n",
       "      <td>핸드백</td>\n",
       "      <td>B</td>\n",
       "      <td>나</td>\n",
       "      <td>350</td>\n",
       "      <td>340</td>\n",
       "      <td>377</td>\n",
       "      <td>392</td>\n",
       "    </tr>\n",
       "  </tbody>\n",
       "</table>\n",
       "</div>"
      ],
      "text/plain": [
       "   제품명 담당자 지역  1분기  2분기  3분기  4분기\n",
       "2  핸드백   A  가  385  316  355  331\n",
       "5  핸드백   B  나  350  340  377  392"
      ]
     },
     "execution_count": 74,
     "metadata": {},
     "output_type": "execute_result"
    }
   ],
   "source": [
    "df[(df['제품명'] == '핸드백') & (df['3분기'] >= 350)]"
   ]
  },
  {
   "cell_type": "markdown",
   "metadata": {},
   "source": [
    "###  원하는 열만 선택하기"
   ]
  },
  {
   "cell_type": "markdown",
   "metadata": {},
   "source": [
    "**[13장: 372페이지]**"
   ]
  },
  {
   "cell_type": "code",
   "execution_count": 81,
   "metadata": {},
   "outputs": [
    {
     "data": {
      "text/html": [
       "<div>\n",
       "<style scoped>\n",
       "    .dataframe tbody tr th:only-of-type {\n",
       "        vertical-align: middle;\n",
       "    }\n",
       "\n",
       "    .dataframe tbody tr th {\n",
       "        vertical-align: top;\n",
       "    }\n",
       "\n",
       "    .dataframe thead th {\n",
       "        text-align: right;\n",
       "    }\n",
       "</style>\n",
       "<table border=\"1\" class=\"dataframe\">\n",
       "  <thead>\n",
       "    <tr style=\"text-align: right;\">\n",
       "      <th></th>\n",
       "      <th>제품명</th>\n",
       "      <th>담당자</th>\n",
       "      <th>지역</th>\n",
       "      <th>1분기</th>\n",
       "      <th>2분기</th>\n",
       "      <th>3분기</th>\n",
       "      <th>4분기</th>\n",
       "    </tr>\n",
       "  </thead>\n",
       "  <tbody>\n",
       "    <tr>\n",
       "      <th>0</th>\n",
       "      <td>시계</td>\n",
       "      <td>A</td>\n",
       "      <td>가</td>\n",
       "      <td>198</td>\n",
       "      <td>123</td>\n",
       "      <td>120</td>\n",
       "      <td>137</td>\n",
       "    </tr>\n",
       "    <tr>\n",
       "      <th>1</th>\n",
       "      <td>구두</td>\n",
       "      <td>A</td>\n",
       "      <td>가</td>\n",
       "      <td>273</td>\n",
       "      <td>241</td>\n",
       "      <td>296</td>\n",
       "      <td>217</td>\n",
       "    </tr>\n",
       "    <tr>\n",
       "      <th>2</th>\n",
       "      <td>핸드백</td>\n",
       "      <td>A</td>\n",
       "      <td>가</td>\n",
       "      <td>385</td>\n",
       "      <td>316</td>\n",
       "      <td>355</td>\n",
       "      <td>331</td>\n",
       "    </tr>\n",
       "  </tbody>\n",
       "</table>\n",
       "</div>"
      ],
      "text/plain": [
       "   제품명 담당자 지역  1분기  2분기  3분기  4분기\n",
       "0   시계   A  가  198  123  120  137\n",
       "1   구두   A  가  273  241  296  217\n",
       "2  핸드백   A  가  385  316  355  331"
      ]
     },
     "execution_count": 81,
     "metadata": {},
     "output_type": "execute_result"
    }
   ],
   "source": [
    "import pandas as pd\n",
    "\n",
    "df = pd.read_excel('담당자별_판매량_Andy사원.xlsx')\n",
    "df"
   ]
  },
  {
   "cell_type": "markdown",
   "metadata": {},
   "source": [
    "**[13장: 372페이지]**"
   ]
  },
  {
   "cell_type": "code",
   "execution_count": 82,
   "metadata": {},
   "outputs": [
    {
     "data": {
      "text/html": [
       "<div>\n",
       "<style scoped>\n",
       "    .dataframe tbody tr th:only-of-type {\n",
       "        vertical-align: middle;\n",
       "    }\n",
       "\n",
       "    .dataframe tbody tr th {\n",
       "        vertical-align: top;\n",
       "    }\n",
       "\n",
       "    .dataframe thead th {\n",
       "        text-align: right;\n",
       "    }\n",
       "</style>\n",
       "<table border=\"1\" class=\"dataframe\">\n",
       "  <thead>\n",
       "    <tr style=\"text-align: right;\">\n",
       "      <th></th>\n",
       "      <th>제품명</th>\n",
       "      <th>1분기</th>\n",
       "      <th>2분기</th>\n",
       "      <th>3분기</th>\n",
       "      <th>4분기</th>\n",
       "    </tr>\n",
       "  </thead>\n",
       "  <tbody>\n",
       "    <tr>\n",
       "      <th>0</th>\n",
       "      <td>시계</td>\n",
       "      <td>198</td>\n",
       "      <td>123</td>\n",
       "      <td>120</td>\n",
       "      <td>137</td>\n",
       "    </tr>\n",
       "    <tr>\n",
       "      <th>1</th>\n",
       "      <td>구두</td>\n",
       "      <td>273</td>\n",
       "      <td>241</td>\n",
       "      <td>296</td>\n",
       "      <td>217</td>\n",
       "    </tr>\n",
       "    <tr>\n",
       "      <th>2</th>\n",
       "      <td>핸드백</td>\n",
       "      <td>385</td>\n",
       "      <td>316</td>\n",
       "      <td>355</td>\n",
       "      <td>331</td>\n",
       "    </tr>\n",
       "  </tbody>\n",
       "</table>\n",
       "</div>"
      ],
      "text/plain": [
       "   제품명  1분기  2분기  3분기  4분기\n",
       "0   시계  198  123  120  137\n",
       "1   구두  273  241  296  217\n",
       "2  핸드백  385  316  355  331"
      ]
     },
     "execution_count": 82,
     "metadata": {},
     "output_type": "execute_result"
    }
   ],
   "source": [
    "df[['제품명','1분기', '2분기','3분기', '4분기']]"
   ]
  },
  {
   "cell_type": "markdown",
   "metadata": {},
   "source": [
    "**[13장: 373페이지]**"
   ]
  },
  {
   "cell_type": "code",
   "execution_count": 83,
   "metadata": {},
   "outputs": [
    {
     "data": {
      "text/html": [
       "<div>\n",
       "<style scoped>\n",
       "    .dataframe tbody tr th:only-of-type {\n",
       "        vertical-align: middle;\n",
       "    }\n",
       "\n",
       "    .dataframe tbody tr th {\n",
       "        vertical-align: top;\n",
       "    }\n",
       "\n",
       "    .dataframe thead th {\n",
       "        text-align: right;\n",
       "    }\n",
       "</style>\n",
       "<table border=\"1\" class=\"dataframe\">\n",
       "  <thead>\n",
       "    <tr style=\"text-align: right;\">\n",
       "      <th></th>\n",
       "      <th>제품명</th>\n",
       "      <th>1분기</th>\n",
       "      <th>2분기</th>\n",
       "      <th>3분기</th>\n",
       "      <th>4분기</th>\n",
       "    </tr>\n",
       "  </thead>\n",
       "  <tbody>\n",
       "    <tr>\n",
       "      <th>0</th>\n",
       "      <td>시계</td>\n",
       "      <td>198</td>\n",
       "      <td>123</td>\n",
       "      <td>120</td>\n",
       "      <td>137</td>\n",
       "    </tr>\n",
       "    <tr>\n",
       "      <th>1</th>\n",
       "      <td>구두</td>\n",
       "      <td>273</td>\n",
       "      <td>241</td>\n",
       "      <td>296</td>\n",
       "      <td>217</td>\n",
       "    </tr>\n",
       "    <tr>\n",
       "      <th>2</th>\n",
       "      <td>핸드백</td>\n",
       "      <td>385</td>\n",
       "      <td>316</td>\n",
       "      <td>355</td>\n",
       "      <td>331</td>\n",
       "    </tr>\n",
       "  </tbody>\n",
       "</table>\n",
       "</div>"
      ],
      "text/plain": [
       "   제품명  1분기  2분기  3분기  4분기\n",
       "0   시계  198  123  120  137\n",
       "1   구두  273  241  296  217\n",
       "2  핸드백  385  316  355  331"
      ]
     },
     "execution_count": 83,
     "metadata": {},
     "output_type": "execute_result"
    }
   ],
   "source": [
    "df.iloc[:,[0,3,4,5,6]]"
   ]
  },
  {
   "cell_type": "markdown",
   "metadata": {},
   "source": [
    "**[13장: 373페이지]**"
   ]
  },
  {
   "cell_type": "code",
   "execution_count": 84,
   "metadata": {},
   "outputs": [
    {
     "data": {
      "text/html": [
       "<div>\n",
       "<style scoped>\n",
       "    .dataframe tbody tr th:only-of-type {\n",
       "        vertical-align: middle;\n",
       "    }\n",
       "\n",
       "    .dataframe tbody tr th {\n",
       "        vertical-align: top;\n",
       "    }\n",
       "\n",
       "    .dataframe thead th {\n",
       "        text-align: right;\n",
       "    }\n",
       "</style>\n",
       "<table border=\"1\" class=\"dataframe\">\n",
       "  <thead>\n",
       "    <tr style=\"text-align: right;\">\n",
       "      <th></th>\n",
       "      <th>제품명</th>\n",
       "      <th>담당자</th>\n",
       "      <th>지역</th>\n",
       "      <th>1분기</th>\n",
       "      <th>2분기</th>\n",
       "      <th>3분기</th>\n",
       "      <th>4분기</th>\n",
       "    </tr>\n",
       "  </thead>\n",
       "  <tbody>\n",
       "    <tr>\n",
       "      <th>0</th>\n",
       "      <td>시계</td>\n",
       "      <td>A</td>\n",
       "      <td>가</td>\n",
       "      <td>198</td>\n",
       "      <td>123</td>\n",
       "      <td>120</td>\n",
       "      <td>137</td>\n",
       "    </tr>\n",
       "    <tr>\n",
       "      <th>2</th>\n",
       "      <td>핸드백</td>\n",
       "      <td>A</td>\n",
       "      <td>가</td>\n",
       "      <td>385</td>\n",
       "      <td>316</td>\n",
       "      <td>355</td>\n",
       "      <td>331</td>\n",
       "    </tr>\n",
       "  </tbody>\n",
       "</table>\n",
       "</div>"
      ],
      "text/plain": [
       "   제품명 담당자 지역  1분기  2분기  3분기  4분기\n",
       "0   시계   A  가  198  123  120  137\n",
       "2  핸드백   A  가  385  316  355  331"
      ]
     },
     "execution_count": 84,
     "metadata": {},
     "output_type": "execute_result"
    }
   ],
   "source": [
    "df.iloc[[0,2],:]"
   ]
  },
  {
   "cell_type": "markdown",
   "metadata": {},
   "source": [
    "### 엑셀 데이터 계산하기"
   ]
  },
  {
   "cell_type": "markdown",
   "metadata": {},
   "source": [
    "**[13장: 375페이지]**"
   ]
  },
  {
   "cell_type": "code",
   "execution_count": 85,
   "metadata": {},
   "outputs": [
    {
     "data": {
      "text/html": [
       "<div>\n",
       "<style scoped>\n",
       "    .dataframe tbody tr th:only-of-type {\n",
       "        vertical-align: middle;\n",
       "    }\n",
       "\n",
       "    .dataframe tbody tr th {\n",
       "        vertical-align: top;\n",
       "    }\n",
       "\n",
       "    .dataframe thead th {\n",
       "        text-align: right;\n",
       "    }\n",
       "</style>\n",
       "<table border=\"1\" class=\"dataframe\">\n",
       "  <thead>\n",
       "    <tr style=\"text-align: right;\">\n",
       "      <th></th>\n",
       "      <th>제품명</th>\n",
       "      <th>담당자</th>\n",
       "      <th>지역</th>\n",
       "      <th>1분기</th>\n",
       "      <th>2분기</th>\n",
       "      <th>3분기</th>\n",
       "      <th>4분기</th>\n",
       "    </tr>\n",
       "  </thead>\n",
       "  <tbody>\n",
       "    <tr>\n",
       "      <th>2</th>\n",
       "      <td>핸드백</td>\n",
       "      <td>A</td>\n",
       "      <td>가</td>\n",
       "      <td>385</td>\n",
       "      <td>316</td>\n",
       "      <td>355</td>\n",
       "      <td>331</td>\n",
       "    </tr>\n",
       "    <tr>\n",
       "      <th>5</th>\n",
       "      <td>핸드백</td>\n",
       "      <td>B</td>\n",
       "      <td>나</td>\n",
       "      <td>350</td>\n",
       "      <td>340</td>\n",
       "      <td>377</td>\n",
       "      <td>392</td>\n",
       "    </tr>\n",
       "    <tr>\n",
       "      <th>8</th>\n",
       "      <td>핸드백</td>\n",
       "      <td>C</td>\n",
       "      <td>다</td>\n",
       "      <td>365</td>\n",
       "      <td>383</td>\n",
       "      <td>308</td>\n",
       "      <td>323</td>\n",
       "    </tr>\n",
       "  </tbody>\n",
       "</table>\n",
       "</div>"
      ],
      "text/plain": [
       "   제품명 담당자 지역  1분기  2분기  3분기  4분기\n",
       "2  핸드백   A  가  385  316  355  331\n",
       "5  핸드백   B  나  350  340  377  392\n",
       "8  핸드백   C  다  365  383  308  323"
      ]
     },
     "execution_count": 85,
     "metadata": {},
     "output_type": "execute_result"
    }
   ],
   "source": [
    "import pandas as pd\n",
    "\n",
    "df = pd.read_excel('담당자별_판매량_통합.xlsx')\n",
    "\n",
    "handbag = df[(df['제품명']== '핸드백')]\n",
    "handbag"
   ]
  },
  {
   "cell_type": "markdown",
   "metadata": {},
   "source": [
    "**[13장: 376페이지]**"
   ]
  },
  {
   "cell_type": "code",
   "execution_count": 86,
   "metadata": {},
   "outputs": [
    {
     "data": {
      "text/plain": [
       "2    1387\n",
       "5    1459\n",
       "8    1379\n",
       "dtype: int64"
      ]
     },
     "execution_count": 86,
     "metadata": {},
     "output_type": "execute_result"
    }
   ],
   "source": [
    "handbag.sum(axis=1)"
   ]
  },
  {
   "cell_type": "markdown",
   "metadata": {},
   "source": [
    "**[13장: 376페이지]**"
   ]
  },
  {
   "cell_type": "code",
   "execution_count": 87,
   "metadata": {},
   "outputs": [
    {
     "data": {
      "text/html": [
       "<div>\n",
       "<style scoped>\n",
       "    .dataframe tbody tr th:only-of-type {\n",
       "        vertical-align: middle;\n",
       "    }\n",
       "\n",
       "    .dataframe tbody tr th {\n",
       "        vertical-align: top;\n",
       "    }\n",
       "\n",
       "    .dataframe thead th {\n",
       "        text-align: right;\n",
       "    }\n",
       "</style>\n",
       "<table border=\"1\" class=\"dataframe\">\n",
       "  <thead>\n",
       "    <tr style=\"text-align: right;\">\n",
       "      <th></th>\n",
       "      <th>연간판매량</th>\n",
       "    </tr>\n",
       "  </thead>\n",
       "  <tbody>\n",
       "    <tr>\n",
       "      <th>2</th>\n",
       "      <td>1387</td>\n",
       "    </tr>\n",
       "    <tr>\n",
       "      <th>5</th>\n",
       "      <td>1459</td>\n",
       "    </tr>\n",
       "    <tr>\n",
       "      <th>8</th>\n",
       "      <td>1379</td>\n",
       "    </tr>\n",
       "  </tbody>\n",
       "</table>\n",
       "</div>"
      ],
      "text/plain": [
       "   연간판매량\n",
       "2   1387\n",
       "5   1459\n",
       "8   1379"
      ]
     },
     "execution_count": 87,
     "metadata": {},
     "output_type": "execute_result"
    }
   ],
   "source": [
    "handbag_sum = pd.DataFrame(handbag.sum(axis=1), columns = ['연간판매량'])\n",
    "handbag_sum"
   ]
  },
  {
   "cell_type": "markdown",
   "metadata": {},
   "source": [
    "**[13장: 377페이지]**"
   ]
  },
  {
   "cell_type": "code",
   "execution_count": 88,
   "metadata": {},
   "outputs": [
    {
     "data": {
      "text/html": [
       "<div>\n",
       "<style scoped>\n",
       "    .dataframe tbody tr th:only-of-type {\n",
       "        vertical-align: middle;\n",
       "    }\n",
       "\n",
       "    .dataframe tbody tr th {\n",
       "        vertical-align: top;\n",
       "    }\n",
       "\n",
       "    .dataframe thead th {\n",
       "        text-align: right;\n",
       "    }\n",
       "</style>\n",
       "<table border=\"1\" class=\"dataframe\">\n",
       "  <thead>\n",
       "    <tr style=\"text-align: right;\">\n",
       "      <th></th>\n",
       "      <th>제품명</th>\n",
       "      <th>담당자</th>\n",
       "      <th>지역</th>\n",
       "      <th>1분기</th>\n",
       "      <th>2분기</th>\n",
       "      <th>3분기</th>\n",
       "      <th>4분기</th>\n",
       "      <th>연간판매량</th>\n",
       "    </tr>\n",
       "  </thead>\n",
       "  <tbody>\n",
       "    <tr>\n",
       "      <th>2</th>\n",
       "      <td>핸드백</td>\n",
       "      <td>A</td>\n",
       "      <td>가</td>\n",
       "      <td>385</td>\n",
       "      <td>316</td>\n",
       "      <td>355</td>\n",
       "      <td>331</td>\n",
       "      <td>1387</td>\n",
       "    </tr>\n",
       "    <tr>\n",
       "      <th>5</th>\n",
       "      <td>핸드백</td>\n",
       "      <td>B</td>\n",
       "      <td>나</td>\n",
       "      <td>350</td>\n",
       "      <td>340</td>\n",
       "      <td>377</td>\n",
       "      <td>392</td>\n",
       "      <td>1459</td>\n",
       "    </tr>\n",
       "    <tr>\n",
       "      <th>8</th>\n",
       "      <td>핸드백</td>\n",
       "      <td>C</td>\n",
       "      <td>다</td>\n",
       "      <td>365</td>\n",
       "      <td>383</td>\n",
       "      <td>308</td>\n",
       "      <td>323</td>\n",
       "      <td>1379</td>\n",
       "    </tr>\n",
       "  </tbody>\n",
       "</table>\n",
       "</div>"
      ],
      "text/plain": [
       "   제품명 담당자 지역  1분기  2분기  3분기  4분기  연간판매량\n",
       "2  핸드백   A  가  385  316  355  331   1387\n",
       "5  핸드백   B  나  350  340  377  392   1459\n",
       "8  핸드백   C  다  365  383  308  323   1379"
      ]
     },
     "execution_count": 88,
     "metadata": {},
     "output_type": "execute_result"
    }
   ],
   "source": [
    "handbag_total = handbag.join(handbag_sum)\n",
    "handbag_total"
   ]
  },
  {
   "cell_type": "markdown",
   "metadata": {},
   "source": [
    "**[13장: 378페이지]**"
   ]
  },
  {
   "cell_type": "code",
   "execution_count": 89,
   "metadata": {
    "run_control": {
     "read_only": false
    }
   },
   "outputs": [
    {
     "data": {
      "text/html": [
       "<div>\n",
       "<style scoped>\n",
       "    .dataframe tbody tr th:only-of-type {\n",
       "        vertical-align: middle;\n",
       "    }\n",
       "\n",
       "    .dataframe tbody tr th {\n",
       "        vertical-align: top;\n",
       "    }\n",
       "\n",
       "    .dataframe thead th {\n",
       "        text-align: right;\n",
       "    }\n",
       "</style>\n",
       "<table border=\"1\" class=\"dataframe\">\n",
       "  <thead>\n",
       "    <tr style=\"text-align: right;\">\n",
       "      <th></th>\n",
       "      <th>제품명</th>\n",
       "      <th>담당자</th>\n",
       "      <th>지역</th>\n",
       "      <th>1분기</th>\n",
       "      <th>2분기</th>\n",
       "      <th>3분기</th>\n",
       "      <th>4분기</th>\n",
       "      <th>연간판매량</th>\n",
       "    </tr>\n",
       "  </thead>\n",
       "  <tbody>\n",
       "    <tr>\n",
       "      <th>8</th>\n",
       "      <td>핸드백</td>\n",
       "      <td>C</td>\n",
       "      <td>다</td>\n",
       "      <td>365</td>\n",
       "      <td>383</td>\n",
       "      <td>308</td>\n",
       "      <td>323</td>\n",
       "      <td>1379</td>\n",
       "    </tr>\n",
       "    <tr>\n",
       "      <th>2</th>\n",
       "      <td>핸드백</td>\n",
       "      <td>A</td>\n",
       "      <td>가</td>\n",
       "      <td>385</td>\n",
       "      <td>316</td>\n",
       "      <td>355</td>\n",
       "      <td>331</td>\n",
       "      <td>1387</td>\n",
       "    </tr>\n",
       "    <tr>\n",
       "      <th>5</th>\n",
       "      <td>핸드백</td>\n",
       "      <td>B</td>\n",
       "      <td>나</td>\n",
       "      <td>350</td>\n",
       "      <td>340</td>\n",
       "      <td>377</td>\n",
       "      <td>392</td>\n",
       "      <td>1459</td>\n",
       "    </tr>\n",
       "  </tbody>\n",
       "</table>\n",
       "</div>"
      ],
      "text/plain": [
       "   제품명 담당자 지역  1분기  2분기  3분기  4분기  연간판매량\n",
       "8  핸드백   C  다  365  383  308  323   1379\n",
       "2  핸드백   A  가  385  316  355  331   1387\n",
       "5  핸드백   B  나  350  340  377  392   1459"
      ]
     },
     "execution_count": 89,
     "metadata": {},
     "output_type": "execute_result"
    }
   ],
   "source": [
    "handbag_total.sort_values(by='연간판매량', ascending=True)"
   ]
  },
  {
   "cell_type": "markdown",
   "metadata": {},
   "source": [
    "**[13장: 379페이지]**"
   ]
  },
  {
   "cell_type": "code",
   "execution_count": 90,
   "metadata": {},
   "outputs": [
    {
     "data": {
      "text/html": [
       "<div>\n",
       "<style scoped>\n",
       "    .dataframe tbody tr th:only-of-type {\n",
       "        vertical-align: middle;\n",
       "    }\n",
       "\n",
       "    .dataframe tbody tr th {\n",
       "        vertical-align: top;\n",
       "    }\n",
       "\n",
       "    .dataframe thead th {\n",
       "        text-align: right;\n",
       "    }\n",
       "</style>\n",
       "<table border=\"1\" class=\"dataframe\">\n",
       "  <thead>\n",
       "    <tr style=\"text-align: right;\">\n",
       "      <th></th>\n",
       "      <th>제품명</th>\n",
       "      <th>담당자</th>\n",
       "      <th>지역</th>\n",
       "      <th>1분기</th>\n",
       "      <th>2분기</th>\n",
       "      <th>3분기</th>\n",
       "      <th>4분기</th>\n",
       "      <th>연간판매량</th>\n",
       "    </tr>\n",
       "  </thead>\n",
       "  <tbody>\n",
       "    <tr>\n",
       "      <th>5</th>\n",
       "      <td>핸드백</td>\n",
       "      <td>B</td>\n",
       "      <td>나</td>\n",
       "      <td>350</td>\n",
       "      <td>340</td>\n",
       "      <td>377</td>\n",
       "      <td>392</td>\n",
       "      <td>1459</td>\n",
       "    </tr>\n",
       "    <tr>\n",
       "      <th>2</th>\n",
       "      <td>핸드백</td>\n",
       "      <td>A</td>\n",
       "      <td>가</td>\n",
       "      <td>385</td>\n",
       "      <td>316</td>\n",
       "      <td>355</td>\n",
       "      <td>331</td>\n",
       "      <td>1387</td>\n",
       "    </tr>\n",
       "    <tr>\n",
       "      <th>8</th>\n",
       "      <td>핸드백</td>\n",
       "      <td>C</td>\n",
       "      <td>다</td>\n",
       "      <td>365</td>\n",
       "      <td>383</td>\n",
       "      <td>308</td>\n",
       "      <td>323</td>\n",
       "      <td>1379</td>\n",
       "    </tr>\n",
       "  </tbody>\n",
       "</table>\n",
       "</div>"
      ],
      "text/plain": [
       "   제품명 담당자 지역  1분기  2분기  3분기  4분기  연간판매량\n",
       "5  핸드백   B  나  350  340  377  392   1459\n",
       "2  핸드백   A  가  385  316  355  331   1387\n",
       "8  핸드백   C  다  365  383  308  323   1379"
      ]
     },
     "execution_count": 90,
     "metadata": {},
     "output_type": "execute_result"
    }
   ],
   "source": [
    "handbag_total.sort_values(by='연간판매량', ascending=False)"
   ]
  },
  {
   "cell_type": "markdown",
   "metadata": {},
   "source": [
    "#### 열 데이터의 합계 구하기"
   ]
  },
  {
   "cell_type": "markdown",
   "metadata": {},
   "source": [
    "**[13장: 380페이지]**"
   ]
  },
  {
   "cell_type": "code",
   "execution_count": 91,
   "metadata": {},
   "outputs": [
    {
     "data": {
      "text/plain": [
       "제품명      핸드백핸드백핸드백\n",
       "담당자            ABC\n",
       "지역             가나다\n",
       "1분기           1100\n",
       "2분기           1039\n",
       "3분기           1040\n",
       "4분기           1046\n",
       "연간판매량         4225\n",
       "dtype: object"
      ]
     },
     "execution_count": 91,
     "metadata": {},
     "output_type": "execute_result"
    }
   ],
   "source": [
    "handbag_total.sum()"
   ]
  },
  {
   "cell_type": "markdown",
   "metadata": {},
   "source": [
    "**[13장: 380페이지]**"
   ]
  },
  {
   "cell_type": "code",
   "execution_count": 92,
   "metadata": {},
   "outputs": [
    {
     "data": {
      "text/html": [
       "<div>\n",
       "<style scoped>\n",
       "    .dataframe tbody tr th:only-of-type {\n",
       "        vertical-align: middle;\n",
       "    }\n",
       "\n",
       "    .dataframe tbody tr th {\n",
       "        vertical-align: top;\n",
       "    }\n",
       "\n",
       "    .dataframe thead th {\n",
       "        text-align: right;\n",
       "    }\n",
       "</style>\n",
       "<table border=\"1\" class=\"dataframe\">\n",
       "  <thead>\n",
       "    <tr style=\"text-align: right;\">\n",
       "      <th></th>\n",
       "      <th>합계</th>\n",
       "    </tr>\n",
       "  </thead>\n",
       "  <tbody>\n",
       "    <tr>\n",
       "      <th>제품명</th>\n",
       "      <td>핸드백핸드백핸드백</td>\n",
       "    </tr>\n",
       "    <tr>\n",
       "      <th>담당자</th>\n",
       "      <td>ABC</td>\n",
       "    </tr>\n",
       "    <tr>\n",
       "      <th>지역</th>\n",
       "      <td>가나다</td>\n",
       "    </tr>\n",
       "    <tr>\n",
       "      <th>1분기</th>\n",
       "      <td>1100</td>\n",
       "    </tr>\n",
       "    <tr>\n",
       "      <th>2분기</th>\n",
       "      <td>1039</td>\n",
       "    </tr>\n",
       "    <tr>\n",
       "      <th>3분기</th>\n",
       "      <td>1040</td>\n",
       "    </tr>\n",
       "    <tr>\n",
       "      <th>4분기</th>\n",
       "      <td>1046</td>\n",
       "    </tr>\n",
       "    <tr>\n",
       "      <th>연간판매량</th>\n",
       "      <td>4225</td>\n",
       "    </tr>\n",
       "  </tbody>\n",
       "</table>\n",
       "</div>"
      ],
      "text/plain": [
       "              합계\n",
       "제품명    핸드백핸드백핸드백\n",
       "담당자          ABC\n",
       "지역           가나다\n",
       "1분기         1100\n",
       "2분기         1039\n",
       "3분기         1040\n",
       "4분기         1046\n",
       "연간판매량       4225"
      ]
     },
     "execution_count": 92,
     "metadata": {},
     "output_type": "execute_result"
    }
   ],
   "source": [
    "handbag_sum2 = pd.DataFrame(handbag_total.sum(), columns=['합계'])\n",
    "handbag_sum2"
   ]
  },
  {
   "cell_type": "markdown",
   "metadata": {},
   "source": [
    "**[13장: 381페이지]**"
   ]
  },
  {
   "cell_type": "code",
   "execution_count": 93,
   "metadata": {},
   "outputs": [
    {
     "data": {
      "text/html": [
       "<div>\n",
       "<style scoped>\n",
       "    .dataframe tbody tr th:only-of-type {\n",
       "        vertical-align: middle;\n",
       "    }\n",
       "\n",
       "    .dataframe tbody tr th {\n",
       "        vertical-align: top;\n",
       "    }\n",
       "\n",
       "    .dataframe thead th {\n",
       "        text-align: right;\n",
       "    }\n",
       "</style>\n",
       "<table border=\"1\" class=\"dataframe\">\n",
       "  <thead>\n",
       "    <tr style=\"text-align: right;\">\n",
       "      <th></th>\n",
       "      <th>제품명</th>\n",
       "      <th>담당자</th>\n",
       "      <th>지역</th>\n",
       "      <th>1분기</th>\n",
       "      <th>2분기</th>\n",
       "      <th>3분기</th>\n",
       "      <th>4분기</th>\n",
       "      <th>연간판매량</th>\n",
       "    </tr>\n",
       "  </thead>\n",
       "  <tbody>\n",
       "    <tr>\n",
       "      <th>2</th>\n",
       "      <td>핸드백</td>\n",
       "      <td>A</td>\n",
       "      <td>가</td>\n",
       "      <td>385</td>\n",
       "      <td>316</td>\n",
       "      <td>355</td>\n",
       "      <td>331</td>\n",
       "      <td>1387</td>\n",
       "    </tr>\n",
       "    <tr>\n",
       "      <th>5</th>\n",
       "      <td>핸드백</td>\n",
       "      <td>B</td>\n",
       "      <td>나</td>\n",
       "      <td>350</td>\n",
       "      <td>340</td>\n",
       "      <td>377</td>\n",
       "      <td>392</td>\n",
       "      <td>1459</td>\n",
       "    </tr>\n",
       "    <tr>\n",
       "      <th>8</th>\n",
       "      <td>핸드백</td>\n",
       "      <td>C</td>\n",
       "      <td>다</td>\n",
       "      <td>365</td>\n",
       "      <td>383</td>\n",
       "      <td>308</td>\n",
       "      <td>323</td>\n",
       "      <td>1379</td>\n",
       "    </tr>\n",
       "    <tr>\n",
       "      <th>합계</th>\n",
       "      <td>핸드백핸드백핸드백</td>\n",
       "      <td>ABC</td>\n",
       "      <td>가나다</td>\n",
       "      <td>1100</td>\n",
       "      <td>1039</td>\n",
       "      <td>1040</td>\n",
       "      <td>1046</td>\n",
       "      <td>4225</td>\n",
       "    </tr>\n",
       "  </tbody>\n",
       "</table>\n",
       "</div>"
      ],
      "text/plain": [
       "          제품명  담당자   지역   1분기   2분기   3분기   4분기 연간판매량\n",
       "2         핸드백    A    가   385   316   355   331  1387\n",
       "5         핸드백    B    나   350   340   377   392  1459\n",
       "8         핸드백    C    다   365   383   308   323  1379\n",
       "합계  핸드백핸드백핸드백  ABC  가나다  1100  1039  1040  1046  4225"
      ]
     },
     "execution_count": 93,
     "metadata": {},
     "output_type": "execute_result"
    }
   ],
   "source": [
    "handbag_total2  = handbag_total.append(handbag_sum2.T)\n",
    "handbag_total2"
   ]
  },
  {
   "cell_type": "markdown",
   "metadata": {},
   "source": [
    "**[13장: 381페이지]**"
   ]
  },
  {
   "cell_type": "code",
   "execution_count": 94,
   "metadata": {},
   "outputs": [
    {
     "data": {
      "text/html": [
       "<div>\n",
       "<style scoped>\n",
       "    .dataframe tbody tr th:only-of-type {\n",
       "        vertical-align: middle;\n",
       "    }\n",
       "\n",
       "    .dataframe tbody tr th {\n",
       "        vertical-align: top;\n",
       "    }\n",
       "\n",
       "    .dataframe thead th {\n",
       "        text-align: right;\n",
       "    }\n",
       "</style>\n",
       "<table border=\"1\" class=\"dataframe\">\n",
       "  <thead>\n",
       "    <tr style=\"text-align: right;\">\n",
       "      <th></th>\n",
       "      <th>제품명</th>\n",
       "      <th>담당자</th>\n",
       "      <th>지역</th>\n",
       "      <th>1분기</th>\n",
       "      <th>2분기</th>\n",
       "      <th>3분기</th>\n",
       "      <th>4분기</th>\n",
       "      <th>연간판매량</th>\n",
       "    </tr>\n",
       "  </thead>\n",
       "  <tbody>\n",
       "    <tr>\n",
       "      <th>2</th>\n",
       "      <td>핸드백</td>\n",
       "      <td>A</td>\n",
       "      <td>가</td>\n",
       "      <td>385</td>\n",
       "      <td>316</td>\n",
       "      <td>355</td>\n",
       "      <td>331</td>\n",
       "      <td>1387</td>\n",
       "    </tr>\n",
       "    <tr>\n",
       "      <th>5</th>\n",
       "      <td>핸드백</td>\n",
       "      <td>B</td>\n",
       "      <td>나</td>\n",
       "      <td>350</td>\n",
       "      <td>340</td>\n",
       "      <td>377</td>\n",
       "      <td>392</td>\n",
       "      <td>1459</td>\n",
       "    </tr>\n",
       "    <tr>\n",
       "      <th>8</th>\n",
       "      <td>핸드백</td>\n",
       "      <td>C</td>\n",
       "      <td>다</td>\n",
       "      <td>365</td>\n",
       "      <td>383</td>\n",
       "      <td>308</td>\n",
       "      <td>323</td>\n",
       "      <td>1379</td>\n",
       "    </tr>\n",
       "    <tr>\n",
       "      <th>합계</th>\n",
       "      <td>핸드백</td>\n",
       "      <td>전체</td>\n",
       "      <td>전체</td>\n",
       "      <td>1100</td>\n",
       "      <td>1039</td>\n",
       "      <td>1040</td>\n",
       "      <td>1046</td>\n",
       "      <td>4225</td>\n",
       "    </tr>\n",
       "  </tbody>\n",
       "</table>\n",
       "</div>"
      ],
      "text/plain": [
       "    제품명 담당자  지역   1분기   2분기   3분기   4분기 연간판매량\n",
       "2   핸드백   A   가   385   316   355   331  1387\n",
       "5   핸드백   B   나   350   340   377   392  1459\n",
       "8   핸드백   C   다   365   383   308   323  1379\n",
       "합계  핸드백  전체  전체  1100  1039  1040  1046  4225"
      ]
     },
     "execution_count": 94,
     "metadata": {},
     "output_type": "execute_result"
    }
   ],
   "source": [
    "handbag_total2.loc['합계', '제품명'] = '핸드백'\n",
    "handbag_total2.loc['합계', '담당자'] = '전체'\n",
    "handbag_total2.loc['합계', '지역'] = '전체'\n",
    "\n",
    "handbag_total2"
   ]
  },
  {
   "cell_type": "markdown",
   "metadata": {},
   "source": [
    "**[13장: 381 ~ 382페이지]**"
   ]
  },
  {
   "cell_type": "code",
   "execution_count": 96,
   "metadata": {
    "run_control": {
     "read_only": false
    }
   },
   "outputs": [
    {
     "data": {
      "text/html": [
       "<div>\n",
       "<style scoped>\n",
       "    .dataframe tbody tr th:only-of-type {\n",
       "        vertical-align: middle;\n",
       "    }\n",
       "\n",
       "    .dataframe tbody tr th {\n",
       "        vertical-align: top;\n",
       "    }\n",
       "\n",
       "    .dataframe thead th {\n",
       "        text-align: right;\n",
       "    }\n",
       "</style>\n",
       "<table border=\"1\" class=\"dataframe\">\n",
       "  <thead>\n",
       "    <tr style=\"text-align: right;\">\n",
       "      <th></th>\n",
       "      <th>제품명</th>\n",
       "      <th>담당자</th>\n",
       "      <th>지역</th>\n",
       "      <th>1분기</th>\n",
       "      <th>2분기</th>\n",
       "      <th>3분기</th>\n",
       "      <th>4분기</th>\n",
       "      <th>연간판매량</th>\n",
       "    </tr>\n",
       "  </thead>\n",
       "  <tbody>\n",
       "    <tr>\n",
       "      <th>2</th>\n",
       "      <td>핸드백</td>\n",
       "      <td>A</td>\n",
       "      <td>가</td>\n",
       "      <td>385</td>\n",
       "      <td>316</td>\n",
       "      <td>355</td>\n",
       "      <td>331</td>\n",
       "      <td>1387</td>\n",
       "    </tr>\n",
       "    <tr>\n",
       "      <th>5</th>\n",
       "      <td>핸드백</td>\n",
       "      <td>B</td>\n",
       "      <td>나</td>\n",
       "      <td>350</td>\n",
       "      <td>340</td>\n",
       "      <td>377</td>\n",
       "      <td>392</td>\n",
       "      <td>1459</td>\n",
       "    </tr>\n",
       "    <tr>\n",
       "      <th>8</th>\n",
       "      <td>핸드백</td>\n",
       "      <td>C</td>\n",
       "      <td>다</td>\n",
       "      <td>365</td>\n",
       "      <td>383</td>\n",
       "      <td>308</td>\n",
       "      <td>323</td>\n",
       "      <td>1379</td>\n",
       "    </tr>\n",
       "    <tr>\n",
       "      <th>합계</th>\n",
       "      <td>핸드백</td>\n",
       "      <td>전체</td>\n",
       "      <td>전체</td>\n",
       "      <td>1100</td>\n",
       "      <td>1039</td>\n",
       "      <td>1040</td>\n",
       "      <td>1046</td>\n",
       "      <td>4225</td>\n",
       "    </tr>\n",
       "  </tbody>\n",
       "</table>\n",
       "</div>"
      ],
      "text/plain": [
       "    제품명 담당자  지역   1분기   2분기   3분기   4분기 연간판매량\n",
       "2   핸드백   A   가   385   316   355   331  1387\n",
       "5   핸드백   B   나   350   340   377   392  1459\n",
       "8   핸드백   C   다   365   383   308   323  1379\n",
       "합계  핸드백  전체  전체  1100  1039  1040  1046  4225"
      ]
     },
     "execution_count": 96,
     "metadata": {},
     "output_type": "execute_result"
    }
   ],
   "source": [
    "import pandas as pd\n",
    "\n",
    "# 엑셀 파일을 pandas의 DataFrame 형식으로 읽어온다.\n",
    "df = pd.read_excel('담당자별_판매량_통합.xlsx')\n",
    "\n",
    "# 제품명 열에서 핸드백이 있는 행만 선택한다.\n",
    "product_name = '핸드백'\n",
    "handbag = df[(df['제품명']== product_name)]\n",
    "\n",
    "# 행별로 합계를 구하고 마지막 열 다음에 추가한다.\n",
    "handbag_sum = pd.DataFrame(handbag.sum(axis=1), columns = ['연간판매량'])\n",
    "handbag_total = handbag.join(handbag_sum)\n",
    "\n",
    "# 열별로 합해 분기별 합계와 연간판매량 합계를 구하고 마지막 행 다음에 추가한다.\n",
    "handbag_sum2 = pd.DataFrame(handbag_total.sum(), columns=['합계'])\n",
    "handbag_total2  = handbag_total.append(handbag_sum2.T)\n",
    "\n",
    "# 지정된 항목의 문자열을 변경한다.\n",
    "handbag_total2.loc['합계', '제품명'] = product_name\n",
    "handbag_total2.loc['합계', '담당자'] = '전체'\n",
    "handbag_total2.loc['합계', '지역'] = '전체'\n",
    "\n",
    "# 결과를 확인한다.\n",
    "handbag_total2"
   ]
  },
  {
   "cell_type": "markdown",
   "metadata": {},
   "source": [
    "## 13.4 엑셀 데이터의 시각화\n"
   ]
  },
  {
   "cell_type": "markdown",
   "metadata": {},
   "source": [
    "### 그래프를 엑셀 파일에 넣기"
   ]
  },
  {
   "cell_type": "markdown",
   "metadata": {},
   "source": [
    "**[13장: 384페이지]**"
   ]
  },
  {
   "cell_type": "code",
   "execution_count": 97,
   "metadata": {},
   "outputs": [
    {
     "data": {
      "text/html": [
       "<div>\n",
       "<style scoped>\n",
       "    .dataframe tbody tr th:only-of-type {\n",
       "        vertical-align: middle;\n",
       "    }\n",
       "\n",
       "    .dataframe tbody tr th {\n",
       "        vertical-align: top;\n",
       "    }\n",
       "\n",
       "    .dataframe thead th {\n",
       "        text-align: right;\n",
       "    }\n",
       "</style>\n",
       "<table border=\"1\" class=\"dataframe\">\n",
       "  <thead>\n",
       "    <tr style=\"text-align: right;\">\n",
       "      <th></th>\n",
       "      <th>제품1</th>\n",
       "      <th>제품2</th>\n",
       "    </tr>\n",
       "    <tr>\n",
       "      <th>시간</th>\n",
       "      <th></th>\n",
       "      <th></th>\n",
       "    </tr>\n",
       "  </thead>\n",
       "  <tbody>\n",
       "    <tr>\n",
       "      <th>9</th>\n",
       "      <td>10</td>\n",
       "      <td>9</td>\n",
       "    </tr>\n",
       "    <tr>\n",
       "      <th>10</th>\n",
       "      <td>15</td>\n",
       "      <td>11</td>\n",
       "    </tr>\n",
       "    <tr>\n",
       "      <th>11</th>\n",
       "      <td>12</td>\n",
       "      <td>14</td>\n",
       "    </tr>\n",
       "    <tr>\n",
       "      <th>12</th>\n",
       "      <td>11</td>\n",
       "      <td>12</td>\n",
       "    </tr>\n",
       "    <tr>\n",
       "      <th>13</th>\n",
       "      <td>12</td>\n",
       "      <td>13</td>\n",
       "    </tr>\n",
       "    <tr>\n",
       "      <th>14</th>\n",
       "      <td>14</td>\n",
       "      <td>10</td>\n",
       "    </tr>\n",
       "    <tr>\n",
       "      <th>15</th>\n",
       "      <td>13</td>\n",
       "      <td>12</td>\n",
       "    </tr>\n",
       "  </tbody>\n",
       "</table>\n",
       "</div>"
      ],
      "text/plain": [
       "    제품1  제품2\n",
       "시간          \n",
       "9    10    9\n",
       "10   15   11\n",
       "11   12   14\n",
       "12   11   12\n",
       "13   12   13\n",
       "14   14   10\n",
       "15   13   12"
      ]
     },
     "execution_count": 97,
     "metadata": {},
     "output_type": "execute_result"
    }
   ],
   "source": [
    "import matplotlib.pyplot as plt\n",
    "import pandas as pd\n",
    "\n",
    "sales = {'시간': [9, 10, 11, 12, 13, 14, 15],\n",
    "         '제품1': [10, 15, 12, 11, 12, 14, 13],\n",
    "         '제품2': [9, 11, 14, 12, 13, 10, 12]}\n",
    "\n",
    "df = pd.DataFrame(sales, index = sales['시간'], columns = ['제품1', '제품2'])\n",
    "df.index.name = '시간' #index 라벨 추가\n",
    "\n",
    "df"
   ]
  },
  {
   "cell_type": "markdown",
   "metadata": {},
   "source": [
    "**[13장: 385페이지]**"
   ]
  },
  {
   "cell_type": "code",
   "execution_count": 98,
   "metadata": {},
   "outputs": [
    {
     "ename": "FileNotFoundError",
     "evalue": "[Errno 2] No such file or directory: 'C:/myPyCode/figures/fig_for_excel1.png'",
     "output_type": "error",
     "traceback": [
      "\u001b[1;31m---------------------------------------------------------------------------\u001b[0m",
      "\u001b[1;31mFileNotFoundError\u001b[0m                         Traceback (most recent call last)",
      "\u001b[1;32m<ipython-input-98-ffb096769284>\u001b[0m in \u001b[0;36m<module>\u001b[1;34m\u001b[0m\n\u001b[0;32m      9\u001b[0m \u001b[1;33m\u001b[0m\u001b[0m\n\u001b[0;32m     10\u001b[0m \u001b[0mimage_file\u001b[0m \u001b[1;33m=\u001b[0m \u001b[1;34m'C:/myPyCode/figures/fig_for_excel1.png'\u001b[0m \u001b[1;31m# 이미지 파일 경로 및 이름\u001b[0m\u001b[1;33m\u001b[0m\u001b[1;33m\u001b[0m\u001b[0m\n\u001b[1;32m---> 11\u001b[1;33m \u001b[0mplt\u001b[0m\u001b[1;33m.\u001b[0m\u001b[0msavefig\u001b[0m\u001b[1;33m(\u001b[0m\u001b[0mimage_file\u001b[0m\u001b[1;33m,\u001b[0m \u001b[0mdpi\u001b[0m \u001b[1;33m=\u001b[0m \u001b[1;36m400\u001b[0m\u001b[1;33m)\u001b[0m \u001b[1;31m# 그래프를 이미지 파일로 저장\u001b[0m\u001b[1;33m\u001b[0m\u001b[1;33m\u001b[0m\u001b[0m\n\u001b[0m\u001b[0;32m     12\u001b[0m \u001b[1;33m\u001b[0m\u001b[0m\n\u001b[0;32m     13\u001b[0m \u001b[0mplt\u001b[0m\u001b[1;33m.\u001b[0m\u001b[0mshow\u001b[0m\u001b[1;33m(\u001b[0m\u001b[1;33m)\u001b[0m\u001b[1;33m\u001b[0m\u001b[1;33m\u001b[0m\u001b[0m\n",
      "\u001b[1;32mc:\\users\\asiae_06\\appdata\\local\\programs\\python\\python38-32\\lib\\site-packages\\matplotlib\\pyplot.py\u001b[0m in \u001b[0;36msavefig\u001b[1;34m(*args, **kwargs)\u001b[0m\n\u001b[0;32m    840\u001b[0m \u001b[1;32mdef\u001b[0m \u001b[0msavefig\u001b[0m\u001b[1;33m(\u001b[0m\u001b[1;33m*\u001b[0m\u001b[0margs\u001b[0m\u001b[1;33m,\u001b[0m \u001b[1;33m**\u001b[0m\u001b[0mkwargs\u001b[0m\u001b[1;33m)\u001b[0m\u001b[1;33m:\u001b[0m\u001b[1;33m\u001b[0m\u001b[1;33m\u001b[0m\u001b[0m\n\u001b[0;32m    841\u001b[0m     \u001b[0mfig\u001b[0m \u001b[1;33m=\u001b[0m \u001b[0mgcf\u001b[0m\u001b[1;33m(\u001b[0m\u001b[1;33m)\u001b[0m\u001b[1;33m\u001b[0m\u001b[1;33m\u001b[0m\u001b[0m\n\u001b[1;32m--> 842\u001b[1;33m     \u001b[0mres\u001b[0m \u001b[1;33m=\u001b[0m \u001b[0mfig\u001b[0m\u001b[1;33m.\u001b[0m\u001b[0msavefig\u001b[0m\u001b[1;33m(\u001b[0m\u001b[1;33m*\u001b[0m\u001b[0margs\u001b[0m\u001b[1;33m,\u001b[0m \u001b[1;33m**\u001b[0m\u001b[0mkwargs\u001b[0m\u001b[1;33m)\u001b[0m\u001b[1;33m\u001b[0m\u001b[1;33m\u001b[0m\u001b[0m\n\u001b[0m\u001b[0;32m    843\u001b[0m     \u001b[0mfig\u001b[0m\u001b[1;33m.\u001b[0m\u001b[0mcanvas\u001b[0m\u001b[1;33m.\u001b[0m\u001b[0mdraw_idle\u001b[0m\u001b[1;33m(\u001b[0m\u001b[1;33m)\u001b[0m   \u001b[1;31m# need this if 'transparent=True' to reset colors\u001b[0m\u001b[1;33m\u001b[0m\u001b[1;33m\u001b[0m\u001b[0m\n\u001b[0;32m    844\u001b[0m     \u001b[1;32mreturn\u001b[0m \u001b[0mres\u001b[0m\u001b[1;33m\u001b[0m\u001b[1;33m\u001b[0m\u001b[0m\n",
      "\u001b[1;32mc:\\users\\asiae_06\\appdata\\local\\programs\\python\\python38-32\\lib\\site-packages\\matplotlib\\figure.py\u001b[0m in \u001b[0;36msavefig\u001b[1;34m(self, fname, transparent, **kwargs)\u001b[0m\n\u001b[0;32m   2309\u001b[0m                 \u001b[0mpatch\u001b[0m\u001b[1;33m.\u001b[0m\u001b[0mset_edgecolor\u001b[0m\u001b[1;33m(\u001b[0m\u001b[1;34m'none'\u001b[0m\u001b[1;33m)\u001b[0m\u001b[1;33m\u001b[0m\u001b[1;33m\u001b[0m\u001b[0m\n\u001b[0;32m   2310\u001b[0m \u001b[1;33m\u001b[0m\u001b[0m\n\u001b[1;32m-> 2311\u001b[1;33m         \u001b[0mself\u001b[0m\u001b[1;33m.\u001b[0m\u001b[0mcanvas\u001b[0m\u001b[1;33m.\u001b[0m\u001b[0mprint_figure\u001b[0m\u001b[1;33m(\u001b[0m\u001b[0mfname\u001b[0m\u001b[1;33m,\u001b[0m \u001b[1;33m**\u001b[0m\u001b[0mkwargs\u001b[0m\u001b[1;33m)\u001b[0m\u001b[1;33m\u001b[0m\u001b[1;33m\u001b[0m\u001b[0m\n\u001b[0m\u001b[0;32m   2312\u001b[0m \u001b[1;33m\u001b[0m\u001b[0m\n\u001b[0;32m   2313\u001b[0m         \u001b[1;32mif\u001b[0m \u001b[0mtransparent\u001b[0m\u001b[1;33m:\u001b[0m\u001b[1;33m\u001b[0m\u001b[1;33m\u001b[0m\u001b[0m\n",
      "\u001b[1;32mc:\\users\\asiae_06\\appdata\\local\\programs\\python\\python38-32\\lib\\site-packages\\matplotlib\\backend_bases.py\u001b[0m in \u001b[0;36mprint_figure\u001b[1;34m(self, filename, dpi, facecolor, edgecolor, orientation, format, bbox_inches, pad_inches, bbox_extra_artists, backend, **kwargs)\u001b[0m\n\u001b[0;32m   2208\u001b[0m \u001b[1;33m\u001b[0m\u001b[0m\n\u001b[0;32m   2209\u001b[0m             \u001b[1;32mtry\u001b[0m\u001b[1;33m:\u001b[0m\u001b[1;33m\u001b[0m\u001b[1;33m\u001b[0m\u001b[0m\n\u001b[1;32m-> 2210\u001b[1;33m                 result = print_method(\n\u001b[0m\u001b[0;32m   2211\u001b[0m                     \u001b[0mfilename\u001b[0m\u001b[1;33m,\u001b[0m\u001b[1;33m\u001b[0m\u001b[1;33m\u001b[0m\u001b[0m\n\u001b[0;32m   2212\u001b[0m                     \u001b[0mdpi\u001b[0m\u001b[1;33m=\u001b[0m\u001b[0mdpi\u001b[0m\u001b[1;33m,\u001b[0m\u001b[1;33m\u001b[0m\u001b[1;33m\u001b[0m\u001b[0m\n",
      "\u001b[1;32mc:\\users\\asiae_06\\appdata\\local\\programs\\python\\python38-32\\lib\\site-packages\\matplotlib\\backend_bases.py\u001b[0m in \u001b[0;36mwrapper\u001b[1;34m(*args, **kwargs)\u001b[0m\n\u001b[0;32m   1637\u001b[0m             \u001b[0mkwargs\u001b[0m\u001b[1;33m.\u001b[0m\u001b[0mpop\u001b[0m\u001b[1;33m(\u001b[0m\u001b[0marg\u001b[0m\u001b[1;33m)\u001b[0m\u001b[1;33m\u001b[0m\u001b[1;33m\u001b[0m\u001b[0m\n\u001b[0;32m   1638\u001b[0m \u001b[1;33m\u001b[0m\u001b[0m\n\u001b[1;32m-> 1639\u001b[1;33m         \u001b[1;32mreturn\u001b[0m \u001b[0mfunc\u001b[0m\u001b[1;33m(\u001b[0m\u001b[1;33m*\u001b[0m\u001b[0margs\u001b[0m\u001b[1;33m,\u001b[0m \u001b[1;33m**\u001b[0m\u001b[0mkwargs\u001b[0m\u001b[1;33m)\u001b[0m\u001b[1;33m\u001b[0m\u001b[1;33m\u001b[0m\u001b[0m\n\u001b[0m\u001b[0;32m   1640\u001b[0m \u001b[1;33m\u001b[0m\u001b[0m\n\u001b[0;32m   1641\u001b[0m     \u001b[1;32mreturn\u001b[0m \u001b[0mwrapper\u001b[0m\u001b[1;33m\u001b[0m\u001b[1;33m\u001b[0m\u001b[0m\n",
      "\u001b[1;32mc:\\users\\asiae_06\\appdata\\local\\programs\\python\\python38-32\\lib\\site-packages\\matplotlib\\backends\\backend_agg.py\u001b[0m in \u001b[0;36mprint_png\u001b[1;34m(self, filename_or_obj, metadata, pil_kwargs, *args)\u001b[0m\n\u001b[0;32m    508\u001b[0m         \"\"\"\n\u001b[0;32m    509\u001b[0m         \u001b[0mFigureCanvasAgg\u001b[0m\u001b[1;33m.\u001b[0m\u001b[0mdraw\u001b[0m\u001b[1;33m(\u001b[0m\u001b[0mself\u001b[0m\u001b[1;33m)\u001b[0m\u001b[1;33m\u001b[0m\u001b[1;33m\u001b[0m\u001b[0m\n\u001b[1;32m--> 510\u001b[1;33m         mpl.image.imsave(\n\u001b[0m\u001b[0;32m    511\u001b[0m             \u001b[0mfilename_or_obj\u001b[0m\u001b[1;33m,\u001b[0m \u001b[0mself\u001b[0m\u001b[1;33m.\u001b[0m\u001b[0mbuffer_rgba\u001b[0m\u001b[1;33m(\u001b[0m\u001b[1;33m)\u001b[0m\u001b[1;33m,\u001b[0m \u001b[0mformat\u001b[0m\u001b[1;33m=\u001b[0m\u001b[1;34m\"png\"\u001b[0m\u001b[1;33m,\u001b[0m \u001b[0morigin\u001b[0m\u001b[1;33m=\u001b[0m\u001b[1;34m\"upper\"\u001b[0m\u001b[1;33m,\u001b[0m\u001b[1;33m\u001b[0m\u001b[1;33m\u001b[0m\u001b[0m\n\u001b[0;32m    512\u001b[0m             dpi=self.figure.dpi, metadata=metadata, pil_kwargs=pil_kwargs)\n",
      "\u001b[1;32mc:\\users\\asiae_06\\appdata\\local\\programs\\python\\python38-32\\lib\\site-packages\\matplotlib\\image.py\u001b[0m in \u001b[0;36mimsave\u001b[1;34m(fname, arr, vmin, vmax, cmap, format, origin, dpi, metadata, pil_kwargs)\u001b[0m\n\u001b[0;32m   1589\u001b[0m         \u001b[0mpil_kwargs\u001b[0m\u001b[1;33m.\u001b[0m\u001b[0msetdefault\u001b[0m\u001b[1;33m(\u001b[0m\u001b[1;34m\"format\"\u001b[0m\u001b[1;33m,\u001b[0m \u001b[0mformat\u001b[0m\u001b[1;33m)\u001b[0m\u001b[1;33m\u001b[0m\u001b[1;33m\u001b[0m\u001b[0m\n\u001b[0;32m   1590\u001b[0m         \u001b[0mpil_kwargs\u001b[0m\u001b[1;33m.\u001b[0m\u001b[0msetdefault\u001b[0m\u001b[1;33m(\u001b[0m\u001b[1;34m\"dpi\"\u001b[0m\u001b[1;33m,\u001b[0m \u001b[1;33m(\u001b[0m\u001b[0mdpi\u001b[0m\u001b[1;33m,\u001b[0m \u001b[0mdpi\u001b[0m\u001b[1;33m)\u001b[0m\u001b[1;33m)\u001b[0m\u001b[1;33m\u001b[0m\u001b[1;33m\u001b[0m\u001b[0m\n\u001b[1;32m-> 1591\u001b[1;33m         \u001b[0mimage\u001b[0m\u001b[1;33m.\u001b[0m\u001b[0msave\u001b[0m\u001b[1;33m(\u001b[0m\u001b[0mfname\u001b[0m\u001b[1;33m,\u001b[0m \u001b[1;33m**\u001b[0m\u001b[0mpil_kwargs\u001b[0m\u001b[1;33m)\u001b[0m\u001b[1;33m\u001b[0m\u001b[1;33m\u001b[0m\u001b[0m\n\u001b[0m\u001b[0;32m   1592\u001b[0m \u001b[1;33m\u001b[0m\u001b[0m\n\u001b[0;32m   1593\u001b[0m \u001b[1;33m\u001b[0m\u001b[0m\n",
      "\u001b[1;32mc:\\users\\asiae_06\\appdata\\local\\programs\\python\\python38-32\\lib\\site-packages\\PIL\\Image.py\u001b[0m in \u001b[0;36msave\u001b[1;34m(self, fp, format, **params)\u001b[0m\n\u001b[0;32m   2153\u001b[0m                 \u001b[0mfp\u001b[0m \u001b[1;33m=\u001b[0m \u001b[0mbuiltins\u001b[0m\u001b[1;33m.\u001b[0m\u001b[0mopen\u001b[0m\u001b[1;33m(\u001b[0m\u001b[0mfilename\u001b[0m\u001b[1;33m,\u001b[0m \u001b[1;34m\"r+b\"\u001b[0m\u001b[1;33m)\u001b[0m\u001b[1;33m\u001b[0m\u001b[1;33m\u001b[0m\u001b[0m\n\u001b[0;32m   2154\u001b[0m             \u001b[1;32melse\u001b[0m\u001b[1;33m:\u001b[0m\u001b[1;33m\u001b[0m\u001b[1;33m\u001b[0m\u001b[0m\n\u001b[1;32m-> 2155\u001b[1;33m                 \u001b[0mfp\u001b[0m \u001b[1;33m=\u001b[0m \u001b[0mbuiltins\u001b[0m\u001b[1;33m.\u001b[0m\u001b[0mopen\u001b[0m\u001b[1;33m(\u001b[0m\u001b[0mfilename\u001b[0m\u001b[1;33m,\u001b[0m \u001b[1;34m\"w+b\"\u001b[0m\u001b[1;33m)\u001b[0m\u001b[1;33m\u001b[0m\u001b[1;33m\u001b[0m\u001b[0m\n\u001b[0m\u001b[0;32m   2156\u001b[0m \u001b[1;33m\u001b[0m\u001b[0m\n\u001b[0;32m   2157\u001b[0m         \u001b[1;32mtry\u001b[0m\u001b[1;33m:\u001b[0m\u001b[1;33m\u001b[0m\u001b[1;33m\u001b[0m\u001b[0m\n",
      "\u001b[1;31mFileNotFoundError\u001b[0m: [Errno 2] No such file or directory: 'C:/myPyCode/figures/fig_for_excel1.png'"
     ]
    },
    {
     "data": {
      "image/png": "[encoded data removed]",
      "text/plain": [
       "<Figure size 432x288 with 1 Axes>"
      ]
     },
     "metadata": {
      "needs_background": "light"
     },
     "output_type": "display_data"
    }
   ],
   "source": [
    "import matplotlib\n",
    "import pandas as pd\n",
    "\n",
    "matplotlib.rcParams['font.family'] = 'Malgun Gothic'# '맑은 고딕'으로 설정 \n",
    "matplotlib.rcParams['axes.unicode_minus'] = False\n",
    "\n",
    "product_plot = df.plot(grid = True, style = ['-*', '-o'], title='시간대별 생산량')\n",
    "product_plot.set_ylabel(\"생산량\")\n",
    "\n",
    "image_file = 'C:/myPyCode/figures/fig_for_excel1.png' # 이미지 파일 경로 및 이름\n",
    "plt.savefig(image_file, dpi = 400) # 그래프를 이미지 파일로 저장\n",
    "\n",
    "plt.show()"
   ]
  },
  {
   "cell_type": "markdown",
   "metadata": {},
   "source": [
    "**[13장: 386페이지]**"
   ]
  },
  {
   "cell_type": "code",
   "execution_count": 100,
   "metadata": {},
   "outputs": [],
   "source": [
    "import pandas as pd\n",
    "\n",
    "# (1) pandas의 ExcelWriter 객체 생성\n",
    "excel_file = 'data_image_to_excel.xlsx'\n",
    "excel_writer = pd.ExcelWriter(excel_file, engine='xlsxwriter')\n",
    "\n",
    "# (2) DataFrame 데이터를 지정된 엑셀 시트(Sheet)에 쓰기\n",
    "df.to_excel(excel_writer, index=True, sheet_name='Sheet1')\n",
    "\n",
    "# (3) ExcelWriter 객체에서 워크시트(worksheet) 객체 생성\n",
    "worksheet = excel_writer.sheets['Sheet1']\n",
    "\n",
    "# (4) 워크시트에 차트가 들어갈 위치를 지정해 이미지 넣기\n",
    "worksheet.insert_image('D2', image_file, {'x_scale': 0.7, 'y_scale': 0.7})\n",
    "# worksheet.insert_image(1, 3, image_file, {'x_scale': 0.7, 'y_scale': 0.7})\n",
    "\n",
    "# (5) ExcelWriter 객체를 닫고 엑셀 파일 출력\n",
    "excel_writer.save()"
   ]
  },
  {
   "cell_type": "markdown",
   "metadata": {},
   "source": [
    "### 엑셀 차트 만들기"
   ]
  },
  {
   "cell_type": "markdown",
   "metadata": {},
   "source": [
    "**[13장: 388 ~ 389페이지]**"
   ]
  },
  {
   "cell_type": "code",
   "execution_count": 101,
   "metadata": {},
   "outputs": [],
   "source": [
    "# (1) pandas의 ExcelWriter 객체 생성\n",
    "excel_chart = pd.ExcelWriter('data_chart_in_excel.xlsx', engine='xlsxwriter')\n",
    "\n",
    "# (2) DataFrame 데이터를 지정된 엑셀 시트(Sheet)에 쓰기\n",
    "df.to_excel(excel_chart, index=True, sheet_name='Sheet1')\n",
    "\n",
    "# (3) ExcelWriter 객체에서 워크북(workbook)과 워크시트(worksheet) 객체 생성\n",
    "workbook  = excel_chart.book\n",
    "worksheet = excel_chart.sheets['Sheet1']\n",
    "\n",
    "# (4) 차트 객체 생성(원하는 차트의 종류 지정)\n",
    "chart = workbook.add_chart({'type': 'line'})\n",
    "\n",
    "# (5) 차트 생성을 위한 데이터값의 범위 지정 \n",
    "chart.add_series({'values': '=Sheet1!$B$2:$B$8'})\n",
    "chart.add_series({'values': '=Sheet1!$C$2:$C$8'})\n",
    "\n",
    "# (6) 워크시트에 차트가 들어갈 위치를 지정해 차트 넣기\n",
    "worksheet.insert_chart('D2', chart)\n",
    "\n",
    "# (7) ExcelWriter 객체를 닫고 엑셀 파일 출력\n",
    "excel_chart.save()"
   ]
  },
  {
   "cell_type": "markdown",
   "metadata": {},
   "source": [
    "**[13장: 390페이지]**"
   ]
  },
  {
   "cell_type": "code",
   "execution_count": 102,
   "metadata": {},
   "outputs": [],
   "source": [
    "# (5) 차트 생성을 위한 데이터값의 범위 지정\n",
    "chart.add_series({'values': '=Sheet1!$B$2:$B$8', \n",
    "                  'categories': '=Sheet1!$A$2:$A$8',\n",
    "                  'name': '=Sheet1!$B$1',})\n",
    "\n",
    "chart.add_series({'values': '=Sheet1!$C$2:$C$8', \n",
    "                  'categories': '=Sheet1!$A$2:$A$8',\n",
    "                  'name': '=Sheet1!$C$1',})"
   ]
  },
  {
   "cell_type": "markdown",
   "metadata": {},
   "source": [
    "**[13장: 390페이지]**"
   ]
  },
  {
   "cell_type": "code",
   "execution_count": 103,
   "metadata": {},
   "outputs": [],
   "source": [
    "# (5-1) 엑셀 차트에 x, y축 라벨과 제목 추가\n",
    "chart.set_title ({'name': '시간대별 생산량'})\n",
    "chart.set_x_axis({'name': '시간'})\n",
    "chart.set_y_axis({'name': '생산량'})"
   ]
  },
  {
   "cell_type": "markdown",
   "metadata": {},
   "source": [
    "**[13장: 391 ~ 392페이지]**"
   ]
  },
  {
   "cell_type": "code",
   "execution_count": 106,
   "metadata": {},
   "outputs": [],
   "source": [
    "# (1) pandas의 ExcelWriter 객체 생성\n",
    "excel_chart = pd.ExcelWriter('data_chart_in_excel2.xlsx', engine='xlsxwriter')\n",
    "\n",
    "# (2) DataFrame 데이터를 지정된 엑셀 시트(Sheet)에 쓰기\n",
    "df.to_excel(excel_chart, index=True, sheet_name='Sheet1')\n",
    "\n",
    "# (3) ExcelWriter 객체에서 워크북(workbook)과 워크시트(worksheet) 객체 생성\n",
    "workbook  = excel_chart.book\n",
    "worksheet = excel_chart.sheets['Sheet1']\n",
    "\n",
    "# (4) 차트 객체 생성 (원하는 차트의 종류 지정)\n",
    "chart = workbook.add_chart({'type': 'line'})\n",
    "\n",
    "# (5) 차트 생성을 위한 데이터값의 범위 지정\n",
    "chart.add_series({'values': '=Sheet1!$B$2:$B$8', \n",
    "                  'categories': '=Sheet1!$A$2:$A$8',\n",
    "                  'name': '=Sheet1!$B$1'})\n",
    "chart.add_series({'values': '=Sheet1!$C$2:$C$8', \n",
    "                  'categories': '=Sheet1!$A$2:$A$8',\n",
    "                  'name': '=Sheet1!$C$1'})\n",
    "\n",
    "# (5-1) 엑셀 차트에 x, y축 라벨과 제목 추가\n",
    "chart.set_title ({'name': '시간대별 생산량'})\n",
    "chart.set_x_axis({'name': '시간'})\n",
    "chart.set_y_axis({'name': '생산량'})\n",
    "\n",
    "# (6) 워크시트에 차트가 들어갈 위치를 지정해 차트 넣기\n",
    "worksheet.insert_chart('D2', chart)\n",
    "\n",
    "# (7)  ExcelWriter 객체를 닫고 엑셀 파일 출력\n",
    "excel_chart.save()"
   ]
  },
  {
   "cell_type": "markdown",
   "metadata": {
    "collapsed": true
   },
   "source": [
    "## 13.5 정리"
   ]
  },
  {
   "cell_type": "code",
   "execution_count": null,
   "metadata": {},
   "outputs": [],
   "source": []
  }
 ],
 "metadata": {
  "anaconda-cloud": {},
  "hide_input": true,
  "kernelspec": {
   "display_name": "Python 3",
   "language": "python",
   "name": "python3"
  },
  "language_info": {
   "codemirror_mode": {
    "name": "ipython",
    "version": 3
   },
   "file_extension": ".py",
   "mimetype": "text/x-python",
   "name": "python",
   "nbconvert_exporter": "python",
   "pygments_lexer": "ipython3",
   "version": "3.8.5"
  },
  "latex_envs": {
   "LaTeX_envs_menu_present": true,
   "autoclose": false,
   "autocomplete": true,
   "bibliofile": "biblio.bib",
   "cite_by": "apalike",
   "current_citInitial": 1,
   "eqLabelWithNumbers": true,
   "eqNumInitial": 1,
   "hotkeys": {
    "equation": "Ctrl-E",
    "itemize": "Ctrl-I"
   },
   "labels_anchors": false,
   "latex_user_defs": false,
   "report_style_numbering": false,
   "user_envs_cfg": false
  },
  "nav_menu": {
   "height": "447px",
   "width": "365px"
  },
  "toc": {
   "nav_menu": {
    "height": "419px",
    "width": "252px"
   },
   "number_sections": false,
   "sideBar": true,
   "skip_h1_title": false,
   "toc_cell": false,
   "toc_position": {
    "height": "582px",
    "left": "0px",
    "right": "1054px",
    "top": "111px",
    "width": "312px"
   },
   "toc_section_display": "block",
   "toc_window_display": false
  },
  "toc_position": {
   "height": "591px",
   "left": "0px",
   "right": "984px",
   "top": "107px",
   "width": "382px"
  }
 },
 "nbformat": 4,
 "nbformat_minor": 1
}
