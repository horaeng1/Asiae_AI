{
 "cells": [
  {
   "cell_type": "code",
   "execution_count": null,
   "metadata": {},
   "outputs": [],
   "source": [
    "x=1\n",
    "print(type(\"hello\"))"
   ]
  },
  {
   "cell_type": "code",
   "execution_count": null,
   "metadata": {},
   "outputs": [],
   "source": [
    "def hello():\n",
    "    print(\"hello\")\n",
    "print(type(hello))"
   ]
  },
  {
   "cell_type": "code",
   "execution_count": null,
   "metadata": {},
   "outputs": [],
   "source": [
    "x=1\n",
    "print(\"hello\".upper())"
   ]
  },
  {
   "cell_type": "code",
   "execution_count": null,
   "metadata": {},
   "outputs": [],
   "source": [
    "x=1\n",
    "y=hello\n",
    "print(x+y)"
   ]
  },
  {
   "cell_type": "code",
   "execution_count": null,
   "metadata": {},
   "outputs": [],
   "source": [
    "x=1\n",
    "print(x.upper())"
   ]
  },
  {
   "cell_type": "markdown",
   "metadata": {},
   "source": [
    "# 클래스 정의"
   ]
  },
  {
   "cell_type": "raw",
   "metadata": {},
   "source": [
    "Constructor\n",
    "Instance Attributes\n",
    "Class Attributes\n",
    "Methods"
   ]
  },
  {
   "cell_type": "code",
   "execution_count": null,
   "metadata": {},
   "outputs": [],
   "source": [
    "class person:\n",
    "    count=0 #class attribute\n",
    "    def __init__(self): #constructor\n",
    "        self.name=\"unknown\" #instance attribute\n",
    "        self.age=0 #instance attribute\n",
    "    def displayInfo(self): #method\n",
    "        print(self.name, self.age)"
   ]
  },
  {
   "cell_type": "code",
   "execution_count": null,
   "metadata": {},
   "outputs": [],
   "source": [
    "p1 = person()"
   ]
  },
  {
   "cell_type": "code",
   "execution_count": null,
   "metadata": {},
   "outputs": [],
   "source": [
    "p1.count = 1\n",
    "p1.displayinfo() = 1\n",
    "print(p1.count)"
   ]
  },
  {
   "cell_type": "code",
   "execution_count": null,
   "metadata": {},
   "outputs": [],
   "source": [
    "person.count=2\n",
    "print(person.count)"
   ]
  },
  {
   "cell_type": "code",
   "execution_count": null,
   "metadata": {},
   "outputs": [],
   "source": [
    "p1.name"
   ]
  },
  {
   "cell_type": "markdown",
   "metadata": {},
   "source": [
    "# 클래스 속성"
   ]
  },
  {
   "cell_type": "code",
   "execution_count": null,
   "metadata": {},
   "outputs": [],
   "source": [
    "클래스 속성은 클래스 및 인스턴스들에게 영향을 준다"
   ]
  },
  {
   "cell_type": "code",
   "execution_count": null,
   "metadata": {},
   "outputs": [],
   "source": [
    "class person:\n",
    "    greet='Hello!'"
   ]
  },
  {
   "cell_type": "code",
   "execution_count": null,
   "metadata": {},
   "outputs": [],
   "source": [
    "#person.greet  # 클래스의 속성을 변경\n",
    "#p1 = person ()  # 인스턴스 발생\n",
    "p1.greet=\"hi\"    #객체의 속성을 변경 \n",
    "#p2 = person ()  #인스턴스발생\n",
    "print(p1.greet)"
   ]
  },
  {
   "cell_type": "code",
   "execution_count": null,
   "metadata": {},
   "outputs": [],
   "source": [
    "클레스 속성을 변환해도 클래스 및 인스턴스들에게 영향을 준다"
   ]
  },
  {
   "cell_type": "code",
   "execution_count": null,
   "metadata": {},
   "outputs": [],
   "source": [
    "person.greet\n",
    "# p1=person()\n",
    "# p1.greet\n",
    "# person.greet='Hi!'\n",
    "# p1.greet\n"
   ]
  },
  {
   "cell_type": "markdown",
   "metadata": {},
   "source": [
    "# 인스턴스 속성"
   ]
  },
  {
   "cell_type": "code",
   "execution_count": null,
   "metadata": {},
   "outputs": [],
   "source": [
    "class person:\n",
    "    def __init__(self): # constructor\n",
    "        self.name=\"Unknown\" # instance attribute\n",
    "        self.age=0 # instance attribute"
   ]
  },
  {
   "cell_type": "code",
   "execution_count": null,
   "metadata": {},
   "outputs": [],
   "source": [
    "p1=person()\n",
    "p1.name\n",
    "# p1.age"
   ]
  },
  {
   "cell_type": "code",
   "execution_count": null,
   "metadata": {},
   "outputs": [],
   "source": [
    "p1.name=\"Bill\"\n",
    "p1.age=25\n",
    "p1.name\n",
    "#p1.age"
   ]
  },
  {
   "cell_type": "markdown",
   "metadata": {},
   "source": [
    "# Setting Attribute Values"
   ]
  },
  {
   "cell_type": "code",
   "execution_count": null,
   "metadata": {},
   "outputs": [],
   "source": [
    "class person:\n",
    "    def __init__(self, name, age): #생성자\n",
    "        self.name=name\n",
    "        self.age=age"
   ]
  },
  {
   "cell_type": "code",
   "execution_count": null,
   "metadata": {},
   "outputs": [],
   "source": [
    "p1=person(\"Bill\",25)\n",
    "p1.name\n",
    "# p1.age"
   ]
  },
  {
   "cell_type": "markdown",
   "metadata": {},
   "source": [
    "# Setting Default Values of Attributes"
   ]
  },
  {
   "cell_type": "code",
   "execution_count": null,
   "metadata": {},
   "outputs": [],
   "source": [
    "class person:\n",
    "    def __init__(self, name=\"Guest\", age=25):\n",
    "        self.name=name\n",
    "        self.age=age"
   ]
  },
  {
   "cell_type": "code",
   "execution_count": null,
   "metadata": {},
   "outputs": [],
   "source": [
    "p1=person(\"james\",48)\n",
    "p1.name\n",
    "# p1.age"
   ]
  },
  {
   "cell_type": "markdown",
   "metadata": {},
   "source": [
    "# Constructor"
   ]
  },
  {
   "cell_type": "code",
   "execution_count": null,
   "metadata": {},
   "outputs": [],
   "source": [
    "class person:\n",
    "    def __init__(self): # constructor method\n",
    "        print('Constructor invoked')"
   ]
  },
  {
   "cell_type": "code",
   "execution_count": null,
   "metadata": {},
   "outputs": [],
   "source": [
    "p1 = person()\n",
    "p2 = person()"
   ]
  },
  {
   "cell_type": "markdown",
   "metadata": {},
   "source": [
    "# Class Methods"
   ]
  },
  {
   "cell_type": "code",
   "execution_count": null,
   "metadata": {},
   "outputs": [],
   "source": [
    "class person:\n",
    "    def __init__(self): \n",
    "        self.name=\"unknown\" \n",
    "        self.age=0 \n",
    "    def displayInfo(self): #method\n",
    "        print(self.name, self.age)"
   ]
  },
  {
   "cell_type": "code",
   "execution_count": null,
   "metadata": {},
   "outputs": [],
   "source": [
    "p1=person()\n",
    "p1.displayInfo()"
   ]
  },
  {
   "cell_type": "markdown",
   "metadata": {},
   "source": [
    "# Public Attributes"
   ]
  },
  {
   "cell_type": "code",
   "execution_count": null,
   "metadata": {},
   "outputs": [],
   "source": [
    "class employee:\n",
    "    def __init__(self, name, sal):\n",
    "        self.name=name\n",
    "        self.salary=sal"
   ]
  },
  {
   "cell_type": "code",
   "execution_count": null,
   "metadata": {},
   "outputs": [],
   "source": [
    "e1=employee(\"Kiran\",10000)\n",
    "e1.salary\n",
    "e1.salary=20000\n",
    "e1.salary"
   ]
  },
  {
   "cell_type": "markdown",
   "metadata": {},
   "source": [
    "# Protected Attributes"
   ]
  },
  {
   "cell_type": "code",
   "execution_count": null,
   "metadata": {},
   "outputs": [],
   "source": [
    "class employee:\n",
    "    def __init__(self, name, sal):\n",
    "        self._name=name  # protected attribute \n",
    "        self._salary=sal # protected attribute"
   ]
  },
  {
   "cell_type": "code",
   "execution_count": null,
   "metadata": {},
   "outputs": [],
   "source": [
    "e1=employee(\"Swati\", 10000)\n",
    "e1._salary\n",
    "e1.salary #접근할수 없음\n",
    "e1._salary=20000\n",
    "e1._salary"
   ]
  },
  {
   "cell_type": "markdown",
   "metadata": {},
   "source": [
    "# Private Attributes"
   ]
  },
  {
   "cell_type": "code",
   "execution_count": null,
   "metadata": {},
   "outputs": [],
   "source": [
    "class employee:\n",
    "    def __init__(self, name, sal):\n",
    "        self.__name=name  # private attribute \n",
    "        self.__salary=sal # private attribute"
   ]
  },
  {
   "cell_type": "code",
   "execution_count": null,
   "metadata": {},
   "outputs": [],
   "source": [
    "e1=employee(\"Bill\",10000)\n",
    "e1.__salary #접근이 아예 안됨"
   ]
  },
  {
   "cell_type": "code",
   "execution_count": null,
   "metadata": {},
   "outputs": [],
   "source": [
    "e1=employee(\"Bill\",10000)\n",
    "e1._employee__salary #private 속성 접근하는법(강제접근)\n",
    "e1._employee__salary=20000\n",
    "e1._employee__salary"
   ]
  },
  {
   "cell_type": "markdown",
   "metadata": {},
   "source": [
    "Protected, Private Attributes로 접근하지않는것을 개발자들은 원칙으로 한다\n",
    "사유는 개발할때 접근금지 개인용도(Protected, Private)로 사용하겠다고 했으니까 그래서 property사용"
   ]
  },
  {
   "cell_type": "markdown",
   "metadata": {},
   "source": [
    "# property ()"
   ]
  },
  {
   "cell_type": "code",
   "execution_count": null,
   "metadata": {},
   "outputs": [],
   "source": [
    "%%writefile person.py\n",
    "class Person:\n",
    "    def __init__(self, name=\"Guest\"):\n",
    "        self.__name=name\n",
    "    def setname(self, name): #setter : 내용수집\n",
    "        self.__name=name\n",
    "    def getname(self): #getter : 내용출력\n",
    "        return self.__name\n",
    "    #클래스 사용시 setter와 getter는 매번 만들어줘야함"
   ]
  },
  {
   "cell_type": "code",
   "execution_count": null,
   "metadata": {},
   "outputs": [],
   "source": [
    "from person import Person\n",
    "p1=Person()\n",
    "p1.getname()\n",
    "p1.setname('Bill')\n",
    "p1.getname()"
   ]
  },
  {
   "cell_type": "code",
   "execution_count": null,
   "metadata": {},
   "outputs": [],
   "source": [
    "#%%writefile person.py\n",
    "class person:\n",
    "    def __init__(self):\n",
    "        self.__name='' #privite이기때문에 외부에서 접근이 안됨\n",
    "    def setname(self, name):\n",
    "        print('setname() called')  #아래 코드 작동 phrase\n",
    "        self.__name=name\n",
    "    def getname(self):\n",
    "        print('getname() called')\n",
    "        return self.__name\n",
    "    name=property(getname, setname) # property(getter, setter, deleter, docstring)가 있음"
   ]
  },
  {
   "cell_type": "code",
   "execution_count": null,
   "metadata": {},
   "outputs": [],
   "source": [
    "# import person\n",
    "#from person import person \n",
    "p1=person()\n",
    "p1.name=\"Steve\" #__name을 쓰지 않고 접근이 됨\n",
    "p1.name"
   ]
  },
  {
   "cell_type": "code",
   "execution_count": null,
   "metadata": {},
   "outputs": [],
   "source": [
    "#%%writefile person.py\n",
    "class person:\n",
    "    def __init__(self):\n",
    "        self.__name='' #name외에도 주소,주민번호등이 있다면 set, get을 별도로 또 만들어줘야함\n",
    "    def setname(self, name):\n",
    "        print('setname() called')\n",
    "        self.__name=name\n",
    "    def getname(self):\n",
    "        print('getname() called')\n",
    "        return self.__name\n",
    "    def delname(self):\n",
    "        print('delname() called')\n",
    "        del self.__name\n",
    "    name = property(getname, setname, delname)"
   ]
  },
  {
   "cell_type": "code",
   "execution_count": null,
   "metadata": {},
   "outputs": [],
   "source": [
    "#from person import person\n",
    "p1=person()\n",
    "p1.name=\"Steve\"\n",
    "p1.name\n",
    "del p1.name"
   ]
  },
  {
   "cell_type": "markdown",
   "metadata": {},
   "source": [
    "# @데코레이터"
   ]
  },
  {
   "cell_type": "code",
   "execution_count": null,
   "metadata": {},
   "outputs": [],
   "source": [
    "# 데코레이터는 다른 함수를 인수로받는 함수입니다. \n",
    "def mydecoratorfunction(some_function): # 인수로 전달되는 장식 함수\n",
    "    def wrapper_function(): # some_function을 감싸고 동작을 확장합니다\n",
    "        # some_function ()의 동작을 확장하는 코드 작성\n",
    "        some_function() # some_function을 호출\n",
    "        return wrapper_function # 랩퍼 함수 리턴"
   ]
  },
  {
   "cell_type": "code",
   "execution_count": null,
   "metadata": {},
   "outputs": [],
   "source": [
    "def display(str):\n",
    "    print(str)"
   ]
  },
  {
   "cell_type": "code",
   "execution_count": null,
   "metadata": {},
   "outputs": [],
   "source": [
    "def displaydecorator(fn):\n",
    "    def display_wrapper(str):\n",
    "        print('Output:', end=\" \")\n",
    "        fn(str)#some function\n",
    "    return display_wrapper"
   ]
  },
  {
   "cell_type": "raw",
   "metadata": {},
   "source": [
    "사용예 함수내에서 함수 출력"
   ]
  },
  {
   "cell_type": "code",
   "execution_count": null,
   "metadata": {},
   "outputs": [],
   "source": [
    "out = displaydecorator (display)  #not class def(function)"
   ]
  },
  {
   "cell_type": "code",
   "execution_count": null,
   "metadata": {},
   "outputs": [],
   "source": [
    "out ( 'Hello World')"
   ]
  },
  {
   "cell_type": "code",
   "execution_count": null,
   "metadata": {},
   "outputs": [],
   "source": [
    "@displaydecorator  #장식자\n",
    "def display(str):\n",
    "    print(str)"
   ]
  },
  {
   "cell_type": "raw",
   "metadata": {},
   "source": [
    "내용: 자동차 시동 -> 안전벨트 알람 "
   ]
  },
  {
   "cell_type": "code",
   "execution_count": null,
   "metadata": {},
   "outputs": [],
   "source": [
    "display ( 'Hello World')"
   ]
  },
  {
   "cell_type": "markdown",
   "metadata": {},
   "source": [
    "# @property Decorator(final)"
   ]
  },
  {
   "cell_type": "code",
   "execution_count": null,
   "metadata": {},
   "outputs": [],
   "source": [
    "class person:\n",
    "    def __init__(self):\n",
    "        self.__name=''\n",
    "    @property\n",
    "    def name(self):\n",
    "        return self.__name\n",
    "    @name.setter\n",
    "    def name(self, value):\n",
    "        self.__name=value"
   ]
  },
  {
   "cell_type": "raw",
   "metadata": {},
   "source": [
    "매개변수가 다른 메소드에도 있는경우를 메소드 오버로드(overload)라고 한다\n",
    "이 name(self)함수는 @property 데코레이터로 표시되며,이 name(self)메소드는 메소드가 getter 메소드이고 특성 이름은 메소드 이름 일뿐 임을 나타냅니다 ( 이 경우) name. 이제 name(self, value)private 속성에 값을 할당합니다 __name. 따라서이 메서드를 name속성 의 setter 메서드로 표시하기 위해 @name.setter데코레이터가 적용됩니다. 이것이 프로퍼티와 getter 및 setter 메소드를 정의하는 방법입니다.\n",
    "\n",
    "이제 name아래와 같이 getter 또는 setter 메서드를 수동으로 호출하지 않고도 속성에 액세스 할 수 있습니다 ."
   ]
  },
  {
   "cell_type": "code",
   "execution_count": null,
   "metadata": {},
   "outputs": [],
   "source": [
    "p = person ()\n",
    "p.name = 'Steve'\n",
    "p.name"
   ]
  },
  {
   "cell_type": "raw",
   "metadata": {},
   "source": [
    "@ [property-name] .setter를 사용하여 setter 메소드를 호출하고 @ [property-name] .deleter를 사용하여 deleter 메소드를 호출하십시오"
   ]
  },
  {
   "cell_type": "code",
   "execution_count": null,
   "metadata": {},
   "outputs": [],
   "source": [
    "class cTest3 : \n",
    "    def __init__(self) : \n",
    "        self.__name = \"HH\" \n",
    "        self.__phone = \"010-1234-1234\" \n",
    "    @property \n",
    "    def name(self): \n",
    "        return self.__name \n",
    "    @name.setter #즉 데코레이트를 통해 @property의 name메소드를 사용한다\n",
    "    def name(self, name) : \n",
    "        self.__name = name \n",
    "    @property \n",
    "    def phone(self) : \n",
    "        return self.__phone \n",
    "    @phone.setter \n",
    "    def phone(self, phone) : \n",
    "        self.__phone = phone\n",
    "##### name = property(getname, setname, delname)를 사용하지 않고 처리할수 있다"
   ]
  },
  {
   "cell_type": "code",
   "execution_count": null,
   "metadata": {},
   "outputs": [],
   "source": [
    "#del아래와 같이 keyword를 사용하여 속성을 삭제하면 삭제 기가 호출됩니다 .\n",
    "\n",
    "test = cTest3() \n",
    "print(test.name) \n",
    "test.name = \"Hong\" \n",
    "print(test.name) \n",
    "print(test.phone) \n",
    "test.phone = \"010-4321-4321\" \n",
    "print(test.phone)"
   ]
  },
  {
   "cell_type": "markdown",
   "metadata": {},
   "source": [
    "# @classmethod 데코레이터"
   ]
  },
  {
   "cell_type": "code",
   "execution_count": null,
   "metadata": {},
   "outputs": [],
   "source": [
    "class person:\n",
    "    totalObjects=0\n",
    "    def __init__(self):\n",
    "        person.totalObjects=person.totalObjects+1\n",
    "\n",
    "    @classmethod\n",
    "    def showcount(cls):\n",
    "        print(\"Total objects: \",cls.totalObjects)"
   ]
  },
  {
   "cell_type": "code",
   "execution_count": null,
   "metadata": {},
   "outputs": [],
   "source": [
    "p1 = person ()\n",
    "p2 = person ()\n",
    "person.showcount ()"
   ]
  },
  {
   "cell_type": "code",
   "execution_count": null,
   "metadata": {},
   "outputs": [],
   "source": [
    "p1.showcount () #객체를 사용하여 동일한 메소드를 호출 할 수도 있습니다."
   ]
  },
  {
   "cell_type": "markdown",
   "metadata": {},
   "source": [
    "# @staticmethod 데코레이터"
   ]
  },
  {
   "cell_type": "code",
   "execution_count": null,
   "metadata": {},
   "outputs": [],
   "source": [
    "class person:\n",
    "    @staticmethod\n",
    "    def greet():\n",
    "        print(\"Hello!\")"
   ]
  },
  {
   "cell_type": "code",
   "execution_count": null,
   "metadata": {},
   "outputs": [],
   "source": [
    "person.greet ()\n",
    "p1 = person ()\n",
    "p1.greet()"
   ]
  },
  {
   "cell_type": "code",
   "execution_count": null,
   "metadata": {},
   "outputs": [],
   "source": [
    "class Dog:\n",
    "    def bark(): #self를 지우고 해볼것\n",
    "        print(\"bark!!\")\n",
    "d=Dog()"
   ]
  },
  {
   "cell_type": "code",
   "execution_count": null,
   "metadata": {},
   "outputs": [],
   "source": [
    "print(type(d)) #출력을 보면 클래스가 정의된 메인클래스라는의미"
   ]
  },
  {
   "cell_type": "code",
   "execution_count": null,
   "metadata": {},
   "outputs": [],
   "source": [
    "d.bark()"
   ]
  },
  {
   "cell_type": "code",
   "execution_count": null,
   "metadata": {},
   "outputs": [],
   "source": [
    "class Dog:\n",
    "    def bark(self): #self를 지우고 해볼것\n",
    "        print(\"bark!!\")\n",
    "d=Dog()"
   ]
  },
  {
   "cell_type": "code",
   "execution_count": null,
   "metadata": {},
   "outputs": [],
   "source": [
    "d.bark()"
   ]
  },
  {
   "cell_type": "code",
   "execution_count": null,
   "metadata": {},
   "outputs": [],
   "source": [
    "class Dog:\n",
    "    def meow(self):\n",
    "        return \"meow\"\n",
    "    def bark(self): #self를 지우고 해볼것\n",
    "        print(\"bark!!\")\n",
    "d=Dog()"
   ]
  },
  {
   "cell_type": "code",
   "execution_count": null,
   "metadata": {},
   "outputs": [],
   "source": [
    "d.meow()"
   ]
  },
  {
   "cell_type": "code",
   "execution_count": null,
   "metadata": {},
   "outputs": [],
   "source": [
    "class Dog:\n",
    "    def add_one(self,x):\n",
    "        return x+1\n",
    "    def bark(self): #self를 지우고 해볼것\n",
    "        print(\"bark!!\")\n",
    "d=Dog()"
   ]
  },
  {
   "cell_type": "code",
   "execution_count": null,
   "metadata": {},
   "outputs": [],
   "source": [
    "print(d.add_one(3))"
   ]
  },
  {
   "cell_type": "code",
   "execution_count": null,
   "metadata": {},
   "outputs": [],
   "source": [
    "class Dog:\n",
    "    def __init__(self):\n",
    "        pass\n",
    "    def add_one(self,x):\n",
    "        return x+1\n",
    "    def bark(self): #self를 지우고 해볼것\n",
    "        print(\"bark!!\")\n",
    "d=Dog()"
   ]
  },
  {
   "cell_type": "code",
   "execution_count": null,
   "metadata": {},
   "outputs": [],
   "source": [
    "print(d.add_one(3))"
   ]
  },
  {
   "cell_type": "code",
   "execution_count": null,
   "metadata": {},
   "outputs": [],
   "source": [
    "class Dog:\n",
    "    def __init__(self,name):\n",
    "        self.name = name\n",
    "        print(name)\n",
    "    def add_one(self,x):\n",
    "        return x+1\n",
    "    def bark(self): #self를 지우고 해볼것\n",
    "        print(\"bark!!\")\n",
    "d=Dog(\"james\")\n",
    "d.bark()"
   ]
  },
  {
   "cell_type": "code",
   "execution_count": 1,
   "metadata": {},
   "outputs": [
    {
     "name": "stdout",
     "output_type": "stream",
     "text": [
      "james\n",
      "sara\n"
     ]
    }
   ],
   "source": [
    "class Dog:\n",
    "    def __init__(self,name):\n",
    "        self.name = name\n",
    "        print(name)\n",
    "    def add_one(self,x):\n",
    "        return x+1\n",
    "    def bark(self): #self를 지우고 해볼것\n",
    "        print(\"bark!!\")\n",
    "d=Dog(\"james\")\n",
    "d1=Dog(\"sara\")"
   ]
  },
  {
   "cell_type": "code",
   "execution_count": 2,
   "metadata": {},
   "outputs": [
    {
     "name": "stdout",
     "output_type": "stream",
     "text": [
      "james\n",
      "sara\n",
      "james\n",
      "sara\n"
     ]
    }
   ],
   "source": [
    "class Dog:\n",
    "    def __init__(self,name):\n",
    "        self.name = name\n",
    "        print(name)\n",
    "    def add_one(self,x):\n",
    "        return x+1\n",
    "    def bark(self): #self를 지우고 해볼것\n",
    "        print(\"bark!!\")\n",
    "d=Dog(\"james\")\n",
    "d1=Dog(\"sara\")\n",
    "print(d.name)\n",
    "print(d1.name)"
   ]
  },
  {
   "cell_type": "code",
   "execution_count": 3,
   "metadata": {},
   "outputs": [
    {
     "name": "stdout",
     "output_type": "stream",
     "text": [
      "james\n",
      "sara\n",
      "james\n",
      "sara\n"
     ]
    }
   ],
   "source": [
    "class Dog:\n",
    "    def __init__(self,name):\n",
    "        self.name = name\n",
    "        print(name)\n",
    "    def get_name(self):\n",
    "        return self.name\n",
    "d=Dog(\"james\")\n",
    "d1=Dog(\"sara\")\n",
    "print(d.get_name())\n",
    "print(d1.get_name())"
   ]
  },
  {
   "cell_type": "code",
   "execution_count": 4,
   "metadata": {},
   "outputs": [
    {
     "ename": "TypeError",
     "evalue": "__init__() missing 1 required positional argument: 'age'",
     "output_type": "error",
     "traceback": [
      "\u001b[1;31m---------------------------------------------------------------------------\u001b[0m",
      "\u001b[1;31mTypeError\u001b[0m                                 Traceback (most recent call last)",
      "\u001b[1;32m<ipython-input-4-d50e0389c2d5>\u001b[0m in \u001b[0;36m<module>\u001b[1;34m\u001b[0m\n\u001b[0;32m      8\u001b[0m     \u001b[1;32mdef\u001b[0m \u001b[0mget_age\u001b[0m\u001b[1;33m(\u001b[0m\u001b[0mself\u001b[0m\u001b[1;33m)\u001b[0m\u001b[1;33m:\u001b[0m\u001b[1;33m\u001b[0m\u001b[1;33m\u001b[0m\u001b[0m\n\u001b[0;32m      9\u001b[0m         \u001b[1;32mreturn\u001b[0m \u001b[0mself\u001b[0m\u001b[1;33m.\u001b[0m\u001b[0mage\u001b[0m\u001b[1;33m\u001b[0m\u001b[1;33m\u001b[0m\u001b[0m\n\u001b[1;32m---> 10\u001b[1;33m \u001b[0md\u001b[0m\u001b[1;33m=\u001b[0m\u001b[0mDog\u001b[0m\u001b[1;33m(\u001b[0m\u001b[1;34m\"james\"\u001b[0m\u001b[1;33m)\u001b[0m\u001b[1;33m\u001b[0m\u001b[1;33m\u001b[0m\u001b[0m\n\u001b[0m\u001b[0;32m     11\u001b[0m \u001b[0md1\u001b[0m\u001b[1;33m=\u001b[0m\u001b[0mDog\u001b[0m\u001b[1;33m(\u001b[0m\u001b[1;34m\"sara\"\u001b[0m\u001b[1;33m)\u001b[0m\u001b[1;33m\u001b[0m\u001b[1;33m\u001b[0m\u001b[0m\n\u001b[0;32m     12\u001b[0m \u001b[0mprint\u001b[0m\u001b[1;33m(\u001b[0m\u001b[0md\u001b[0m\u001b[1;33m.\u001b[0m\u001b[0mget_age\u001b[0m\u001b[1;33m(\u001b[0m\u001b[1;33m)\u001b[0m\u001b[1;33m)\u001b[0m\u001b[1;33m\u001b[0m\u001b[1;33m\u001b[0m\u001b[0m\n",
      "\u001b[1;31mTypeError\u001b[0m: __init__() missing 1 required positional argument: 'age'"
     ]
    }
   ],
   "source": [
    "class Dog:\n",
    "    def __init__(self,name,age):\n",
    "        self.name = name\n",
    "        self.age = age #age가 추가됨\n",
    "        print(name)\n",
    "    def get_name(self):\n",
    "        return self.name\n",
    "    def get_age(self):\n",
    "        return self.age\n",
    "d=Dog(\"james\")\n",
    "d1=Dog(\"sara\")\n",
    "print(d.get_age())\n",
    "print(d1.get_age())"
   ]
  },
  {
   "cell_type": "code",
   "execution_count": 5,
   "metadata": {},
   "outputs": [
    {
     "name": "stdout",
     "output_type": "stream",
     "text": [
      "james\n",
      "sara\n",
      "3\n",
      "2\n"
     ]
    }
   ],
   "source": [
    "class Dog:\n",
    "    def __init__(self,name,age):\n",
    "        self.name = name\n",
    "        self.age = age\n",
    "        print(name)\n",
    "    def get_name(self):\n",
    "        return self.name\n",
    "    def get_age(self):\n",
    "        return self.age\n",
    "d=Dog(\"james\",3)\n",
    "d1=Dog(\"sara\",2)\n",
    "print(d.get_age())\n",
    "print(d1.get_age())"
   ]
  },
  {
   "cell_type": "code",
   "execution_count": 7,
   "metadata": {},
   "outputs": [
    {
     "name": "stdout",
     "output_type": "stream",
     "text": [
      "james\n",
      "sara\n"
     ]
    },
    {
     "ename": "TypeError",
     "evalue": "set_age() missing 1 required positional argument: 'age'",
     "output_type": "error",
     "traceback": [
      "\u001b[1;31m---------------------------------------------------------------------------\u001b[0m",
      "\u001b[1;31mTypeError\u001b[0m                                 Traceback (most recent call last)",
      "\u001b[1;32m<ipython-input-7-2f6afd89afcb>\u001b[0m in \u001b[0;36m<module>\u001b[1;34m\u001b[0m\n\u001b[0;32m     12\u001b[0m \u001b[0md\u001b[0m\u001b[1;33m=\u001b[0m\u001b[0mDog\u001b[0m\u001b[1;33m(\u001b[0m\u001b[1;34m\"james\"\u001b[0m\u001b[1;33m,\u001b[0m\u001b[1;36m3\u001b[0m\u001b[1;33m)\u001b[0m\u001b[1;33m\u001b[0m\u001b[1;33m\u001b[0m\u001b[0m\n\u001b[0;32m     13\u001b[0m \u001b[0md1\u001b[0m\u001b[1;33m=\u001b[0m\u001b[0mDog\u001b[0m\u001b[1;33m(\u001b[0m\u001b[1;34m\"sara\"\u001b[0m\u001b[1;33m,\u001b[0m\u001b[1;36m2\u001b[0m\u001b[1;33m)\u001b[0m\u001b[1;33m\u001b[0m\u001b[1;33m\u001b[0m\u001b[0m\n\u001b[1;32m---> 14\u001b[1;33m \u001b[0mprint\u001b[0m\u001b[1;33m(\u001b[0m\u001b[0md\u001b[0m\u001b[1;33m.\u001b[0m\u001b[0mset_age\u001b[0m\u001b[1;33m(\u001b[0m\u001b[1;33m)\u001b[0m\u001b[1;33m)\u001b[0m\u001b[1;33m\u001b[0m\u001b[1;33m\u001b[0m\u001b[0m\n\u001b[0m",
      "\u001b[1;31mTypeError\u001b[0m: set_age() missing 1 required positional argument: 'age'"
     ]
    }
   ],
   "source": [
    "class Dog:\n",
    "    def __init__(self,name,age):\n",
    "        self.name = name\n",
    "        self.age = age\n",
    "        print(name)\n",
    "    def get_name(self):\n",
    "        return self.name\n",
    "    def get_age(self):\n",
    "        return self.age\n",
    "    def set_age(self,age):# setter 추가됨\n",
    "        self.age = age\n",
    "d=Dog(\"james\",3)\n",
    "d1=Dog(\"sara\",2)\n",
    "print(d.set_age())"
   ]
  },
  {
   "cell_type": "code",
   "execution_count": 8,
   "metadata": {},
   "outputs": [
    {
     "name": "stdout",
     "output_type": "stream",
     "text": [
      "james\n",
      "sara\n",
      "4\n"
     ]
    }
   ],
   "source": [
    "class Dog:\n",
    "    def __init__(self,name,age):\n",
    "        self.name = name\n",
    "        self.age = age\n",
    "        print(name)\n",
    "    def get_name(self):\n",
    "        return self.name\n",
    "    def get_age(self):\n",
    "        return self.age\n",
    "    def set_age(self,age):\n",
    "        self.age = age\n",
    "d=Dog(\"james\",3)\n",
    "d1=Dog(\"sara\",2)\n",
    "d.set_age(4)\n",
    "print(d.get_age())"
   ]
  },
  {
   "cell_type": "markdown",
   "metadata": {},
   "source": [
    "# ================================================================"
   ]
  },
  {
   "cell_type": "code",
   "execution_count": 9,
   "metadata": {},
   "outputs": [],
   "source": [
    "class Dog:\n",
    "    def __init__(self,name,age):\n",
    "        self.name = name\n",
    "        self.age = age\n",
    "        print(name)\n",
    "    def get_name(self):\n",
    "        return self.name   # set_name이 없어서 기존의 name을 가져오는데 나이가 추가적으로 입력될경우 암시적 오류가 발생할 수 있음\n",
    "    def get_age(self):\n",
    "        return self.age\n",
    "    def set_age(self,age):\n",
    "        self.age = age\n",
    "# dogs_name = ['a','b','c']\n",
    "# dogs_age = [1,2,3]\n",
    "# c라는 개가 죽어서 삭제를 하는경우에는 동시에 삭제해야 하기때문에 \"\"\"인덱싱을\"\"\" 해서 동시에 삭제해야 하는 문제발생"
   ]
  },
  {
   "cell_type": "markdown",
   "metadata": {},
   "source": [
    "# problem1"
   ]
  },
  {
   "cell_type": "code",
   "execution_count": 23,
   "metadata": {},
   "outputs": [
    {
     "name": "stdout",
     "output_type": "stream",
     "text": [
      "james\n"
     ]
    }
   ],
   "source": [
    "class Student:\n",
    "    def __init__(self,name, age, grade):\n",
    "        self.name = name\n",
    "        self.age = age\n",
    "        self.grade = grade\n",
    "    def get_grade(self):\n",
    "        return self.grade\n",
    "\n",
    "class Course:\n",
    "    def __init__(self, name, max_students):\n",
    "        self.name = name\n",
    "        self.max_students= max_students\n",
    "        self.students = []\n",
    "        \n",
    "    def add_student(self,student):\n",
    "        if len((self.students)) < self.max_students:\n",
    "            self.students.append(student)\n",
    "            return True\n",
    "        return False\n",
    "        \n",
    "    def egt_average_grade(self):\n",
    "        pass\n",
    "    \n",
    "s1 = Student('james', 11, 90)\n",
    "s2 = Student('sara', 11, 95)\n",
    "s3 = Student('kal', 12, 91)\n",
    "\n",
    "course = Course(\"Python\", 2)\n",
    "course.add_student(s1)\n",
    "course.add_student(s2)\n",
    "#course.add_student(s3)\n",
    "\n",
    "print(course.students[0].name)#[]를 바꿔 보아라"
   ]
  },
  {
   "cell_type": "markdown",
   "metadata": {},
   "source": [
    "# Problem2"
   ]
  },
  {
   "cell_type": "code",
   "execution_count": 11,
   "metadata": {},
   "outputs": [
    {
     "name": "stdout",
     "output_type": "stream",
     "text": [
      "None\n"
     ]
    }
   ],
   "source": [
    "class Student:\n",
    "    def __init__(self,name, age, grade):\n",
    "        self.name = name\n",
    "        self.age = age\n",
    "        self.grade = grade\n",
    "    def get_grade(self):\n",
    "        return self.grade\n",
    "\n",
    "class Course:\n",
    "    def __init__(self, name, max_students):\n",
    "        self.name = name\n",
    "        self.max_students= max_students\n",
    "        self.students = []\n",
    "        \n",
    "    def add_student(self,student):\n",
    "        if len((self.students)) < self.max_students:\n",
    "            self.students.append(student)\n",
    "            return True\n",
    "        return False\n",
    "        \n",
    "    def get_average_grade(self):\n",
    "        value = 0\n",
    "        for student in self.students:\n",
    "            value += student.get_grade()\n",
    "    \n",
    "s1 = Student('james', 11, 90)\n",
    "s2 = Student('sara', 11, 95)\n",
    "s3 = Student('kal', 12, 91)\n",
    "\n",
    "course = Course(\"Python\", 2)\n",
    "course.add_student(s1)\n",
    "course.add_student(s2)\n",
    "#course.add_student(s3)\n",
    "\n",
    "print(course.get_average_grade())"
   ]
  },
  {
   "cell_type": "markdown",
   "metadata": {},
   "source": [
    "# Problem3"
   ]
  },
  {
   "cell_type": "code",
   "execution_count": 24,
   "metadata": {},
   "outputs": [
    {
     "ename": "AttributeError",
     "evalue": "'Course' object has no attribute 'value'",
     "output_type": "error",
     "traceback": [
      "\u001b[1;31m---------------------------------------------------------------------------\u001b[0m",
      "\u001b[1;31mAttributeError\u001b[0m                            Traceback (most recent call last)",
      "\u001b[1;32m<ipython-input-24-05115630b318>\u001b[0m in \u001b[0;36m<module>\u001b[1;34m\u001b[0m\n\u001b[0;32m     34\u001b[0m \u001b[1;31m#course.add_student(s3)\u001b[0m\u001b[1;33m\u001b[0m\u001b[1;33m\u001b[0m\u001b[1;33m\u001b[0m\u001b[0m\n\u001b[0;32m     35\u001b[0m \u001b[1;33m\u001b[0m\u001b[0m\n\u001b[1;32m---> 36\u001b[1;33m \u001b[0mprint\u001b[0m\u001b[1;33m(\u001b[0m\u001b[0mcourse\u001b[0m\u001b[1;33m.\u001b[0m\u001b[0mget_average_grade\u001b[0m\u001b[1;33m(\u001b[0m\u001b[1;33m)\u001b[0m\u001b[1;33m)\u001b[0m\u001b[1;33m\u001b[0m\u001b[1;33m\u001b[0m\u001b[0m\n\u001b[0m",
      "\u001b[1;32m<ipython-input-24-05115630b318>\u001b[0m in \u001b[0;36mget_average_grade\u001b[1;34m(self)\u001b[0m\n\u001b[0;32m     23\u001b[0m         \u001b[1;32mfor\u001b[0m \u001b[0mstudent\u001b[0m \u001b[1;32min\u001b[0m \u001b[0mself\u001b[0m\u001b[1;33m.\u001b[0m\u001b[0mstudents\u001b[0m\u001b[1;33m:\u001b[0m\u001b[1;33m\u001b[0m\u001b[1;33m\u001b[0m\u001b[0m\n\u001b[0;32m     24\u001b[0m             \u001b[0mvalue\u001b[0m \u001b[1;33m+=\u001b[0m \u001b[0mstudent\u001b[0m\u001b[1;33m.\u001b[0m\u001b[0mget_grade\u001b[0m\u001b[1;33m(\u001b[0m\u001b[1;33m)\u001b[0m\u001b[1;33m\u001b[0m\u001b[1;33m\u001b[0m\u001b[0m\n\u001b[1;32m---> 25\u001b[1;33m         \u001b[1;32mreturn\u001b[0m \u001b[0mself\u001b[0m\u001b[1;33m.\u001b[0m\u001b[0mvalue\u001b[0m \u001b[1;33m/\u001b[0m \u001b[0mlen\u001b[0m\u001b[1;33m(\u001b[0m\u001b[0mself\u001b[0m\u001b[1;33m.\u001b[0m\u001b[0mstudents\u001b[0m\u001b[1;33m)\u001b[0m\u001b[1;33m\u001b[0m\u001b[1;33m\u001b[0m\u001b[0m\n\u001b[0m\u001b[0;32m     26\u001b[0m \u001b[1;33m\u001b[0m\u001b[0m\n\u001b[0;32m     27\u001b[0m \u001b[0ms1\u001b[0m \u001b[1;33m=\u001b[0m \u001b[0mStudent\u001b[0m\u001b[1;33m(\u001b[0m\u001b[1;34m'james'\u001b[0m\u001b[1;33m,\u001b[0m \u001b[1;36m11\u001b[0m\u001b[1;33m,\u001b[0m \u001b[1;36m90\u001b[0m\u001b[1;33m)\u001b[0m\u001b[1;33m\u001b[0m\u001b[1;33m\u001b[0m\u001b[0m\n",
      "\u001b[1;31mAttributeError\u001b[0m: 'Course' object has no attribute 'value'"
     ]
    }
   ],
   "source": [
    "class Student:\n",
    "    def __init__(self,name, age, grade):\n",
    "        self.name = name\n",
    "        self.age = age\n",
    "        self.grade = grade\n",
    "    def get_grade(self):\n",
    "        return self.grade\n",
    "\n",
    "class Course:\n",
    "    def __init__(self, name, max_students):\n",
    "        self.name = name\n",
    "        self.max_students= max_students\n",
    "        self.students = []\n",
    "        \n",
    "    def add_student(self,student):\n",
    "        if len((self.students)) < self.max_students:\n",
    "            self.students.append(student)\n",
    "            return True\n",
    "        return False\n",
    "        \n",
    "    def get_average_grade(self):\n",
    "        value = 0\n",
    "        for student in self.students:\n",
    "            value += student.get_grade()\n",
    "        return self.value / len(self.students)\n",
    "    \n",
    "s1 = Student('james', 11, 90)\n",
    "s2 = Student('sara', 11, 95)\n",
    "s3 = Student('kal', 12, 91)\n",
    "\n",
    "course = Course(\"Python\", 2)\n",
    "course.add_student(s1)\n",
    "course.add_student(s2)\n",
    "#course.add_student(s3)\n",
    "\n",
    "print(course.get_average_grade())"
   ]
  },
  {
   "cell_type": "code",
   "execution_count": 15,
   "metadata": {},
   "outputs": [
    {
     "name": "stdout",
     "output_type": "stream",
     "text": [
      "92.5\n"
     ]
    }
   ],
   "source": [
    "class Student:\n",
    "    def __init__(self,name, age, grade):\n",
    "        self.name = name\n",
    "        self.age = age\n",
    "        self.grade = grade\n",
    "    def get_grade(self):\n",
    "        return self.grade\n",
    "\n",
    "class Course:\n",
    "    def __init__(self, name, max_students):\n",
    "        self.name = name\n",
    "        self.max_students= max_students\n",
    "        self.students = []\n",
    "        \n",
    "    def add_student(self,student):\n",
    "        if len((self.students)) < self.max_students:\n",
    "            self.students.append(student)\n",
    "            return True\n",
    "        return False\n",
    "        \n",
    "    def get_average_grade(self):\n",
    "        value = 0\n",
    "        for student in self.students:\n",
    "            value += student.get_grade()\n",
    "        return value / len(self.students)\n",
    "    \n",
    "s1 = Student('james', 11, 90)\n",
    "s2 = Student('sara', 11, 95)\n",
    "s3 = Student('kal', 12, 91)\n",
    "\n",
    "course = Course(\"Python\", 2)\n",
    "course.add_student(s1)\n",
    "course.add_student(s2)\n",
    "#course.add_student(s3)\n",
    "\n",
    "print(course.get_average_grade())"
   ]
  },
  {
   "cell_type": "code",
   "execution_count": null,
   "metadata": {},
   "outputs": [],
   "source": [
    "class Student:\n",
    "    def __init__(self,name, age, grade):\n",
    "        self.name = name\n",
    "        self.age = age\n",
    "        self.grade = grade\n",
    "    def get_grade(self):\n",
    "        return self.grade\n",
    "\n",
    "class Course:\n",
    "    def __init__(self, name, max_students):\n",
    "        self.name = name\n",
    "        self.max_students= max_students\n",
    "        self.students = []\n",
    "        \n",
    "    def add_student(self,student):\n",
    "        if len((self.students)) < self.max_students:\n",
    "            self.students.append(student)\n",
    "            return True\n",
    "        return False\n",
    "        \n",
    "    def get_average_grade(self):\n",
    "        value = 0\n",
    "        for student in self.students:\n",
    "            value += student.get_grade()\n",
    "        return value / len(self.students)\n",
    "    \n",
    "s1 = Student('james', 11, 90)\n",
    "s2 = Student('sara', 11, 95)\n",
    "s3 = Student('kal', 12, 91)\n",
    "\n",
    "course = Course(\"Python\", 2)\n",
    "course.add_student(s1)\n",
    "course.add_student(s2)\n",
    "\n",
    "print(course.add_student(s3))\n",
    "print(course.get_average_grade())"
   ]
  },
  {
   "cell_type": "raw",
   "metadata": {},
   "source": [
    "클래스내에서 클래스 가져오기"
   ]
  },
  {
   "cell_type": "markdown",
   "metadata": {},
   "source": [
    "# ---------------------------------------------------------------------------------------------------------------------------------------------------------------------------------------------------------------------------------------------------------------------------------------------------------------------------------------------"
   ]
  },
  {
   "cell_type": "code",
   "execution_count": null,
   "metadata": {},
   "outputs": [],
   "source": [
    "class Dog:\n",
    "    def __init__(self,name,age):\n",
    "        self.name= name\n",
    "        self.age=age\n",
    "    def speak(self):\n",
    "        print(\"bark\")\n",
    "        \n",
    "class Cat:\n",
    "    def __init__(self,name,age):\n",
    "        self.name= name\n",
    "        self.age=age\n",
    "    def speak(self):\n",
    "        print(\"meow\")\n",
    "                "
   ]
  },
  {
   "cell_type": "code",
   "execution_count": null,
   "metadata": {},
   "outputs": [],
   "source": [
    "class Pet:\n",
    "    def __init__(self,name,age):\n",
    "        self.name= name\n",
    "        self.age=age\n",
    "class Dog:\n",
    "\n",
    "    def speak(self):\n",
    "        print(\"bark\")\n",
    "        \n",
    "class Cat:\n",
    "\n",
    "    def speak(self):\n",
    "        print(\"meow\")\n",
    "                "
   ]
  },
  {
   "cell_type": "code",
   "execution_count": null,
   "metadata": {},
   "outputs": [],
   "source": [
    "class Pet:\n",
    "    def __init__(self,name,age):\n",
    "        self.name= name\n",
    "        self.age=age\n",
    "    def show(self):\n",
    "        print(f\"{self.name} : {self.age}\")\n",
    "        #print(\"{}:{}\".format(self.name, self.age))\n",
    "            \n",
    "class Dog(Pet):\n",
    "\n",
    "    def speak(self):\n",
    "        print(\"bark\")\n",
    "        \n",
    "class Cat(Pet):\n",
    "\n",
    "    def speak(self):\n",
    "        print(\"meow\")\n",
    "        \n",
    "p=Pet(\"james\",1)\n",
    "p.show()\n",
    "c=Cat(\"sara\",2)\n",
    "c.show()\n",
    "d=Dog(\"kal\",3)\n",
    "d.show()\n",
    "d.speak()"
   ]
  },
  {
   "cell_type": "markdown",
   "metadata": {},
   "source": [
    "# 실제예시"
   ]
  },
  {
   "cell_type": "code",
   "execution_count": 25,
   "metadata": {},
   "outputs": [
    {
     "name": "stdout",
     "output_type": "stream",
     "text": [
      "james : 1\n",
      "-----\n",
      "sara : 2\n",
      "kal : 3\n",
      "bark\n"
     ]
    }
   ],
   "source": [
    "class Pet:\n",
    "    def __init__(self,name,age):\n",
    "        self.name= name\n",
    "        self.age=age\n",
    "    def show(self):\n",
    "        print(f\"{self.name} : {self.age}\")\n",
    "        #print(\"{}:{}\".format(self.name, self.age))\n",
    "    def speak(self): #도그나 캣에서 상속받지 못함\n",
    "        print(\"-----\")\n",
    "        \n",
    "class Dog(Pet): #상속\n",
    "\n",
    "    def speak(self):\n",
    "        print(\"bark\")\n",
    "        \n",
    "class Cat(Pet):\n",
    "\n",
    "    def speak(self):\n",
    "        print(\"meow\")\n",
    "        \n",
    "p=Pet(\"james\",1)\n",
    "p.show()\n",
    "p.speak()\n",
    "c=Cat(\"sara\",2)\n",
    "c.show()\n",
    "d=Dog(\"kal\",3)\n",
    "d.show()\n",
    "d.speak()"
   ]
  },
  {
   "cell_type": "code",
   "execution_count": 26,
   "metadata": {},
   "outputs": [
    {
     "name": "stdout",
     "output_type": "stream",
     "text": [
      "james : 1\n",
      "-----\n",
      "sara : 2\n",
      "kal : 3\n",
      "bark\n",
      "jane : 4\n",
      "-----\n"
     ]
    }
   ],
   "source": [
    "class Pet:\n",
    "    def __init__(self,name,age):\n",
    "        self.name= name\n",
    "        self.age=age\n",
    "    def show(self):\n",
    "        print(f\"{self.name} : {self.age}\")\n",
    "    def speak(self): #도그나 캣에서 상속받지 못함\n",
    "        print(\"-----\")\n",
    "        \n",
    "class Dog(Pet):\n",
    "\n",
    "    def speak(self):\n",
    "        print(\"bark\")\n",
    "        \n",
    "class Cat(Pet):\n",
    "\n",
    "    def speak(self):\n",
    "        print(\"meow\")\n",
    "class Fish(Pet):\n",
    "    pass\n",
    "        \n",
    "p=Pet(\"james\",1)\n",
    "p.show()\n",
    "p.speak()\n",
    "c=Cat(\"sara\",2)\n",
    "c.show()\n",
    "d=Dog(\"kal\",3)\n",
    "d.show()\n",
    "d.speak()\n",
    "f=Fish(\"jane\",4)\n",
    "f.show()\n",
    "f.speak()"
   ]
  },
  {
   "cell_type": "code",
   "execution_count": 32,
   "metadata": {},
   "outputs": [
    {
     "name": "stdout",
     "output_type": "stream",
     "text": [
      "james : 1\n",
      "-----\n",
      "sara : 2\n"
     ]
    },
    {
     "ename": "AttributeError",
     "evalue": "'Dog' object has no attribute 'name'",
     "output_type": "error",
     "traceback": [
      "\u001b[1;31m---------------------------------------------------------------------------\u001b[0m",
      "\u001b[1;31mAttributeError\u001b[0m                            Traceback (most recent call last)",
      "\u001b[1;32m<ipython-input-32-acf76677d88e>\u001b[0m in \u001b[0;36m<module>\u001b[1;34m\u001b[0m\n\u001b[0;32m     28\u001b[0m \u001b[0mc\u001b[0m\u001b[1;33m.\u001b[0m\u001b[0mshow\u001b[0m\u001b[1;33m(\u001b[0m\u001b[1;33m)\u001b[0m\u001b[1;33m\u001b[0m\u001b[1;33m\u001b[0m\u001b[0m\n\u001b[0;32m     29\u001b[0m \u001b[0md\u001b[0m\u001b[1;33m=\u001b[0m\u001b[0mDog\u001b[0m\u001b[1;33m(\u001b[0m\u001b[1;34m\"kal\"\u001b[0m\u001b[1;33m,\u001b[0m\u001b[1;36m3\u001b[0m\u001b[1;33m,\u001b[0m\u001b[1;34m'red'\u001b[0m\u001b[1;33m)\u001b[0m\u001b[1;33m\u001b[0m\u001b[1;33m\u001b[0m\u001b[0m\n\u001b[1;32m---> 30\u001b[1;33m \u001b[0md\u001b[0m\u001b[1;33m.\u001b[0m\u001b[0mshow\u001b[0m\u001b[1;33m(\u001b[0m\u001b[1;33m)\u001b[0m\u001b[1;33m\u001b[0m\u001b[1;33m\u001b[0m\u001b[0m\n\u001b[0m\u001b[0;32m     31\u001b[0m \u001b[0md\u001b[0m\u001b[1;33m.\u001b[0m\u001b[0mspeak\u001b[0m\u001b[1;33m(\u001b[0m\u001b[1;33m)\u001b[0m\u001b[1;33m\u001b[0m\u001b[1;33m\u001b[0m\u001b[0m\n\u001b[0;32m     32\u001b[0m \u001b[0mf\u001b[0m\u001b[1;33m=\u001b[0m\u001b[0mFish\u001b[0m\u001b[1;33m(\u001b[0m\u001b[1;34m\"jane\"\u001b[0m\u001b[1;33m,\u001b[0m\u001b[1;36m4\u001b[0m\u001b[1;33m)\u001b[0m\u001b[1;33m\u001b[0m\u001b[1;33m\u001b[0m\u001b[0m\n",
      "\u001b[1;32m<ipython-input-32-acf76677d88e>\u001b[0m in \u001b[0;36mshow\u001b[1;34m(self)\u001b[0m\n\u001b[0;32m      4\u001b[0m         \u001b[0mself\u001b[0m\u001b[1;33m.\u001b[0m\u001b[0mage\u001b[0m\u001b[1;33m=\u001b[0m\u001b[0mage\u001b[0m\u001b[1;33m\u001b[0m\u001b[1;33m\u001b[0m\u001b[0m\n\u001b[0;32m      5\u001b[0m     \u001b[1;32mdef\u001b[0m \u001b[0mshow\u001b[0m\u001b[1;33m(\u001b[0m\u001b[0mself\u001b[0m\u001b[1;33m)\u001b[0m\u001b[1;33m:\u001b[0m\u001b[1;33m\u001b[0m\u001b[1;33m\u001b[0m\u001b[0m\n\u001b[1;32m----> 6\u001b[1;33m         \u001b[0mprint\u001b[0m\u001b[1;33m(\u001b[0m\u001b[1;34mf\"{self.name} : {self.age}\"\u001b[0m\u001b[1;33m)\u001b[0m\u001b[1;33m\u001b[0m\u001b[1;33m\u001b[0m\u001b[0m\n\u001b[0m\u001b[0;32m      7\u001b[0m     \u001b[1;32mdef\u001b[0m \u001b[0mspeak\u001b[0m\u001b[1;33m(\u001b[0m\u001b[0mself\u001b[0m\u001b[1;33m)\u001b[0m\u001b[1;33m:\u001b[0m \u001b[1;31m#도그나 캣에서 상속받지 못함\u001b[0m\u001b[1;33m\u001b[0m\u001b[1;33m\u001b[0m\u001b[0m\n\u001b[0;32m      8\u001b[0m         \u001b[0mprint\u001b[0m\u001b[1;33m(\u001b[0m\u001b[1;34m\"-----\"\u001b[0m\u001b[1;33m)\u001b[0m\u001b[1;33m\u001b[0m\u001b[1;33m\u001b[0m\u001b[0m\n",
      "\u001b[1;31mAttributeError\u001b[0m: 'Dog' object has no attribute 'name'"
     ]
    }
   ],
   "source": [
    "class Pet:\n",
    "    def __init__(self,name,age):\n",
    "        self.name= name\n",
    "        self.age=age\n",
    "    def show(self):\n",
    "        print(f\"{self.name} : {self.age}\")\n",
    "    def speak(self): #도그나 캣에서 상속받지 못함\n",
    "        print(\"-----\")\n",
    "        \n",
    "class Dog(Pet):\n",
    "    def __init__(self, name, age , color):\n",
    "        self.color=color\n",
    "        \n",
    "    def speak(self):\n",
    "        print(\"bark\")\n",
    "        \n",
    "class Cat(Pet):\n",
    "\n",
    "    def speak(self):\n",
    "        print(\"meow\")\n",
    "class Fish(Pet):\n",
    "    pass\n",
    "        \n",
    "p=Pet(\"james\",1)\n",
    "p.show()\n",
    "p.speak()\n",
    "c=Cat(\"sara\",2)\n",
    "c.show()\n",
    "d=Dog(\"kal\",3,'red')\n",
    "d.show()\n",
    "d.speak()\n",
    "f=Fish(\"jane\",4)\n",
    "f.show()\n",
    "f.speak()"
   ]
  },
  {
   "cell_type": "code",
   "execution_count": 33,
   "metadata": {},
   "outputs": [
    {
     "name": "stdout",
     "output_type": "stream",
     "text": [
      "james : 1\n",
      "-----\n",
      "sara : 2\n",
      "kal : 3 : white\n",
      "bark\n",
      "jane : 4\n",
      "-----\n"
     ]
    }
   ],
   "source": [
    "class Pet:\n",
    "    def __init__(self,name,age):\n",
    "        self.name= name\n",
    "        self.age=age\n",
    "    def show(self):\n",
    "        print(f\"{self.name} : {self.age}\")\n",
    "    def speak(self): #도그나 캣에서 상속받지 못함\n",
    "        print(\"-----\")\n",
    "        \n",
    "class Dog(Pet):\n",
    "    def __init__(self, name, age , color):\n",
    "        Pet.__init__(self,name,age)  #super 로 체인지\n",
    "        self.color=color\n",
    "        \n",
    "    def speak(self):\n",
    "        print(\"bark\")\n",
    "        \n",
    "    def show(self):\n",
    "        print(f\"{self.name} : {self.age} : {self.color}\")\n",
    "        \n",
    "#class cat(pet,animal)        \n",
    "class Cat(Pet):\n",
    "\n",
    "    def speak(self):\n",
    "        print(\"meow\")\n",
    "class Fish(Pet):\n",
    "    pass\n",
    "        \n",
    "p=Pet(\"james\",1)\n",
    "p.show()\n",
    "p.speak()\n",
    "c=Cat(\"sara\",2)\n",
    "c.show()\n",
    "d=Dog(\"kal\",3,'white')\n",
    "d.show()\n",
    "d.speak()\n",
    "f=Fish(\"jane\",4)\n",
    "f.show()\n",
    "f.speak()"
   ]
  },
  {
   "cell_type": "markdown",
   "metadata": {},
   "source": [
    "# Final"
   ]
  },
  {
   "cell_type": "code",
   "execution_count": 35,
   "metadata": {},
   "outputs": [
    {
     "name": "stdout",
     "output_type": "stream",
     "text": [
      "james : 1\n",
      "-----\n",
      "sara : 2\n",
      "kal : 3 : white\n",
      "bark\n",
      "jane : 4\n",
      "-----\n"
     ]
    }
   ],
   "source": [
    "class Pet:\n",
    "    def __init__(self,name,age):\n",
    "        self.name= name\n",
    "        self.age=age\n",
    "    def show(self):\n",
    "        print(f\"{self.name} : {self.age}\")\n",
    "    def speak(self): #도그나 캣에서 상속받지 못함\n",
    "        print(\"-----\")\n",
    "        \n",
    "class Dog(Pet):\n",
    "    def __init__(self, name, age , color):\n",
    "        super().__init__(name,age)  #super\n",
    "        self.color=color\n",
    "        \n",
    "    def speak(self):\n",
    "        print(\"bark\")\n",
    "        \n",
    "    def show(self):\n",
    "        print(f\"{self.name} : {self.age} : {self.color}\")\n",
    "        \n",
    "#class cat(pet,animal)        \n",
    "class Cat(Pet):\n",
    "\n",
    "    def speak(self):\n",
    "        print(\"meow\")\n",
    "class Fish(Pet):\n",
    "    pass\n",
    "        \n",
    "p=Pet(\"james\",1)\n",
    "p.show()\n",
    "p.speak()\n",
    "c=Cat(\"sara\",2)\n",
    "c.show()\n",
    "d=Dog(\"kal\",3,'white')\n",
    "d.show()\n",
    "d.speak()\n",
    "f=Fish(\"jane\",4)\n",
    "f.show()\n",
    "f.speak()"
   ]
  },
  {
   "cell_type": "markdown",
   "metadata": {},
   "source": [
    "# ------------------------------------------------------------------------------------------------------------------------------------------------------------------------------------------------------------------------------------------------------------------------------------------------------------------------------------------------------------------------------------------------------------------------------------------------------------------------------------------------------------------------------------------------------------------------------------------------------------------------------------------------------------------------------------------------------------------------------------------------------------------------------------------------------------"
   ]
  },
  {
   "cell_type": "code",
   "execution_count": null,
   "metadata": {},
   "outputs": [],
   "source": [
    "class MyClass:\n",
    "    def method(self):\n",
    "        return 'call instance method', self\n",
    "    # 객체 인스턴스 코드를 수정할 수 있습니다\n",
    "    # 클래스 상태를 수정할 수 있습니다\n",
    "    @classmethod\n",
    "    def classmethod(cls):\n",
    "        return 'call class method', cls\n",
    "    # 객체 인스턴스 코드를 수정할 수 없다\n",
    "    # 클래스 상태를 수정할 수 있습니다\n",
    "    @staticmethod\n",
    "    def staticmethod():\n",
    "        return 'call static method'\n",
    "    # 객체 인스턴스 코드를 수정할 수 없다\n",
    "    # 클래스 상태를 수정할 수 없다"
   ]
  },
  {
   "cell_type": "code",
   "execution_count": null,
   "metadata": {},
   "outputs": [],
   "source": [
    "obj = MyClass()\n",
    "obj.method()"
   ]
  },
  {
   "cell_type": "code",
   "execution_count": null,
   "metadata": {},
   "outputs": [],
   "source": [
    "obj.classmethod()"
   ]
  },
  {
   "cell_type": "code",
   "execution_count": null,
   "metadata": {},
   "outputs": [],
   "source": [
    "obj.staticmethod()"
   ]
  },
  {
   "cell_type": "code",
   "execution_count": null,
   "metadata": {},
   "outputs": [],
   "source": [
    "MyClass"
   ]
  },
  {
   "cell_type": "code",
   "execution_count": null,
   "metadata": {},
   "outputs": [],
   "source": [
    "MyClass.classmethod()"
   ]
  },
  {
   "cell_type": "code",
   "execution_count": null,
   "metadata": {},
   "outputs": [],
   "source": [
    "MyClass.staticmethod()"
   ]
  },
  {
   "cell_type": "code",
   "execution_count": null,
   "metadata": {},
   "outputs": [],
   "source": [
    "MyClass.method()"
   ]
  },
  {
   "cell_type": "code",
   "execution_count": null,
   "metadata": {},
   "outputs": [],
   "source": [
    "class Dog:\n",
    "    def __init__(self, name):\n",
    "        self.name = name\n",
    "    def name(self):\n",
    "        return self.name\n",
    "    \n",
    "d = Dog('james')\n",
    "print(d.name)"
   ]
  },
  {
   "cell_type": "code",
   "execution_count": null,
   "metadata": {},
   "outputs": [],
   "source": [
    "class Dog:\n",
    "    def __init__(self, name):\n",
    "        self.name = name\n",
    "    def name_(self): # 변수와 이름이 동일해서 함수명에 _ 추가\n",
    "        return self.name\n",
    "    \n",
    "d = Dog('james')\n",
    "print(d.name_())"
   ]
  },
  {
   "cell_type": "code",
   "execution_count": null,
   "metadata": {},
   "outputs": [],
   "source": [
    "class Dog:\n",
    "    def __init__(self, name):\n",
    "        self._name = name #_를 하면 외부에서 접근이 안됨\n",
    "    def name(self):\n",
    "        return self._name\n",
    "    \n",
    "d = Dog('james')\n",
    "print(d.name())"
   ]
  },
  {
   "cell_type": "code",
   "execution_count": null,
   "metadata": {},
   "outputs": [],
   "source": [
    "class Dog:\n",
    "    def __init__(self, name):\n",
    "        self._name = name\n",
    "    @property\n",
    "    def name(self):\n",
    "        return self._name\n",
    "    \n",
    "d = Dog('james')\n",
    "print(d.name) #()가 없어도 @property때문에 속성이 변해 동일하게 동작"
   ]
  },
  {
   "cell_type": "code",
   "execution_count": null,
   "metadata": {},
   "outputs": [],
   "source": [
    "class Dog:\n",
    "    def __init__(self, name):\n",
    "        self._name = name\n",
    "    @property\n",
    "    def name(self):\n",
    "        return self._name\n",
    "    @name.setter\n",
    "    def name(self, name):\n",
    "        self._name=name\n",
    "    \n",
    "d = Dog('james')\n",
    "print(d.name) #()가 없어도 @property때문에 속성이 변해 동일하게 동작\n",
    "d.name='sara'\n",
    "print(d.name) #@name.setter를 사용해서 이름을 직접변경할경우 사용"
   ]
  },
  {
   "cell_type": "code",
   "execution_count": null,
   "metadata": {},
   "outputs": [],
   "source": [
    "Dogs =['james','sara','tim','jan']\n",
    "class Dog:\n",
    "    def __init__(self, name):\n",
    "        self._name = name\n",
    "    @property\n",
    "    def name(self):\n",
    "        return self._name\n",
    "    @name.setter\n",
    "    def name(self, name):\n",
    "        if name not in Dogs:\n",
    "            raise ValueError('%s'% name)\n",
    "        self._name=name\n",
    "    \n",
    "d = Dog('james')\n",
    "print(d.name) #()가 없어도 @property때문에 속성이 변해 동일하게 동작\n",
    "d.name='pang'\n",
    "print(d.name) #@name.setter를 사용해서 이름을 직접변경할경우 사용"
   ]
  },
  {
   "cell_type": "code",
   "execution_count": null,
   "metadata": {},
   "outputs": [],
   "source": [
    "Dogs =['james','sara','tim','jan']\n",
    "class Dog:\n",
    "    def __init__(self, name):\n",
    "        self._name = name\n",
    "    @property\n",
    "    def name(self):\n",
    "        return self._name\n",
    "    @name.setter\n",
    "    def name(self, name):\n",
    "        if name not in Dogs:\n",
    "            raise ValueError('%s'% name)\n",
    "        self._name=name\n",
    "    \n",
    "d = Dog('james')\n",
    "print(d.name) #()가 없어도 @property때문에 속성이 변해 동일하게 동작\n",
    "d.name='pang'\n",
    "print(d.name) #@name.setter를 사용해서 이름을 직접변경할경우 사용"
   ]
  },
  {
   "cell_type": "code",
   "execution_count": null,
   "metadata": {},
   "outputs": [],
   "source": [
    "Dogs =['james','sara','tim','jan']\n",
    "class Dog:\n",
    "    def __init__(self, name):\n",
    "        self._name = name\n",
    "    @property\n",
    "    def name(self):\n",
    "        return self._name\n",
    "    @name.setter\n",
    "    def name(self, name):\n",
    "        if name not in Dogs: \n",
    "            raise ValueError('%s'% name)\n",
    "        self._name=name\n",
    "    \n",
    "d = Dog('james')\n",
    "print(d.name) #()가 없어도 @property때문에 속성이 변해 동일하게 동작\n",
    "d.name='sara'\n",
    "print(d.name) #@name.setter를 사용해서 이름을 직접변경할경우 사용"
   ]
  },
  {
   "cell_type": "code",
   "execution_count": null,
   "metadata": {},
   "outputs": [],
   "source": [
    "import random\n",
    "Dogs =['james','sara','tim','jan']\n",
    "class Dog:\n",
    "    def __init__(self, name):\n",
    "        self._name = name\n",
    "    @property\n",
    "    def name(self):\n",
    "        return self._name\n",
    "    @name.setter\n",
    "    def name(self, name):\n",
    "        if name not in Dogs:\n",
    "            raise ValueError('%s'% name)\n",
    "        self._name=name\n",
    "    @staticmethod\n",
    "    def random_dogs():\n",
    "        return Dog(random.choice(Dogs))\n",
    "    \n",
    "d = Dog.random_dogs()\n",
    "print(d.name)"
   ]
  },
  {
   "cell_type": "code",
   "execution_count": null,
   "metadata": {},
   "outputs": [],
   "source": [
    "import random\n",
    "Dogs =['james','sara','tim','jan']\n",
    "class Dog:\n",
    "    feature = ['pretty', 'four leg']\n",
    "    def __init__(self, name):\n",
    "        self._name = name\n",
    "    @property\n",
    "    def name(self):\n",
    "        return self._name\n",
    "    @name.setter\n",
    "    def name(self, name):\n",
    "        if name not in Dogs:\n",
    "            raise ValueError('%s'% name)\n",
    "        self._name=name\n",
    "    @staticmethod\n",
    "    def random_dogs():\n",
    "        return Dog(random.choice(Dogs))\n",
    "    @classmethod\n",
    "    def feature(cls): # 멤버변수와 메소드가 동일해서 아래결과가 발생함\n",
    "        return cls.feature\n",
    "    \n",
    "print(Dog.feature())"
   ]
  },
  {
   "cell_type": "code",
   "execution_count": null,
   "metadata": {},
   "outputs": [],
   "source": [
    "import random\n",
    "Dogs =['james','sara','tim','jan']\n",
    "class Dog:\n",
    "    _feature = ['pretty', 'four leg']\n",
    "    def __init__(self, name):\n",
    "        self._name = name\n",
    "    @property\n",
    "    def name(self):\n",
    "        return self._name\n",
    "    @name.setter\n",
    "    def name(self, name):\n",
    "        if name not in Dogs:\n",
    "            raise ValueError('%s'% name)\n",
    "        self._name=name\n",
    "    @staticmethod\n",
    "    def random_dogs():\n",
    "        return Dog(random.choice(Dogs))\n",
    "    \n",
    "    @classmethod\n",
    "    def feature(cls):\n",
    "        return cls._feature\n",
    "    \n",
    "print(Dog.feature())"
   ]
  },
  {
   "cell_type": "code",
   "execution_count": null,
   "metadata": {},
   "outputs": [],
   "source": [
    "import random\n",
    "Dogs =['james','sara','tim','jan']\n",
    "class Dog:\n",
    "    _feature = ['pretty', 'four leg']\n",
    "    def __init__(self, name):\n",
    "        self._name = name\n",
    "    @property\n",
    "    def name(self):\n",
    "        return self._name\n",
    "    @name.setter\n",
    "    def name(self, name):\n",
    "        if name not in Dogs:\n",
    "            raise ValueError('%s'% name)\n",
    "        self._name=name\n",
    "    @staticmethod\n",
    "    def random_dogs():\n",
    "        return Dog(random.choice(Dogs))\n",
    "    \n",
    "    @classmethod\n",
    "    def feature(cls):\n",
    "        return cls._feature\n",
    "\n",
    "d = Dog('james')\n",
    "d._feature = ['a','b'] #인스턴스에서는 클래스메소드로 클래스 멤버변수를 수정할수 없음\n",
    "print(d.feature())"
   ]
  },
  {
   "cell_type": "code",
   "execution_count": null,
   "metadata": {},
   "outputs": [],
   "source": [
    "import random\n",
    "Dogs =['james','sara','tim','jan']\n",
    "class Dog:\n",
    "    _feature = ['pretty', 'four leg']\n",
    "    def __init__(self, name):\n",
    "        self._name = name\n",
    "    @property\n",
    "    def name(self):\n",
    "        return self._name\n",
    "    @name.setter\n",
    "    def name(self, name):\n",
    "        if name not in Dogs:\n",
    "            raise ValueError('%s'% name)\n",
    "        self._name=name\n",
    "    @staticmethod\n",
    "    def random_dogs():\n",
    "        return Dog(random.choice(Dogs))\n",
    "    \n",
    "    @classmethod\n",
    "    def feature(cls):\n",
    "        return cls._feature\n",
    "\n",
    "d = Dog('james')\n",
    "d.__class__._feature = ['a','b'] #__class__사용하면 변경됨\n",
    "print(d.feature())"
   ]
  },
  {
   "cell_type": "code",
   "execution_count": null,
   "metadata": {},
   "outputs": [],
   "source": [
    "import random\n",
    "Dogs =['james','sara','tim','jan']\n",
    "class Dog:\n",
    "    _feature = ['pretty', 'four leg']\n",
    "    def __init__(self, name):\n",
    "        self._name = name\n",
    "    @property\n",
    "    def name(self):\n",
    "        return self._name\n",
    "    @name.setter\n",
    "    def name(self, name):\n",
    "        if name not in Dogs:\n",
    "            raise ValueError('%s'% name)\n",
    "        self._name=name\n",
    "    @staticmethod\n",
    "    def random_dogs():\n",
    "        return Dog(random.choice(Dogs))\n",
    "        \n",
    "    def feature(self):\n",
    "        return self._feature\n",
    "\n",
    "d = Dog('james')\n",
    "#d._feature = ['a','b'] #__class__사용하면 변경됨\n",
    "print(d.feature())"
   ]
  },
  {
   "cell_type": "code",
   "execution_count": null,
   "metadata": {},
   "outputs": [],
   "source": [
    "import random\n",
    "Dogs =['james','sara','tim','jan']\n",
    "class Dog:\n",
    "    _feature = ['pretty', 'four leg']\n",
    "    def __init__(self, name):\n",
    "        self._name = name\n",
    "    @property\n",
    "    def name(self):\n",
    "        return self._name\n",
    "    @name.setter\n",
    "    def name(self, name):\n",
    "        if name not in Dogs:\n",
    "            raise ValueError('%s'% name)\n",
    "        self._name=name\n",
    "    @staticmethod\n",
    "    def random_dogs():\n",
    "        return Dog(random.choice(Dogs))\n",
    "        \n",
    "    def feature(self):\n",
    "        return self._feature\n",
    "\n",
    "d = Dog('james')\n",
    "#d._feature = ['a','b'] #__class__사용하면 변경됨\n",
    "print(d.feature())"
   ]
  },
  {
   "cell_type": "code",
   "execution_count": null,
   "metadata": {},
   "outputs": [],
   "source": []
  }
 ],
 "metadata": {
  "kernelspec": {
   "display_name": "Python 3",
   "language": "python",
   "name": "python3"
  },
  "language_info": {
   "codemirror_mode": {
    "name": "ipython",
    "version": 3
   },
   "file_extension": ".py",
   "mimetype": "text/x-python",
   "name": "python",
   "nbconvert_exporter": "python",
   "pygments_lexer": "ipython3",
   "version": "3.8.5"
  }
 },
 "nbformat": 4,
 "nbformat_minor": 4
}
